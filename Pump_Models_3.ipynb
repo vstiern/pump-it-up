{
 "cells": [
  {
   "cell_type": "markdown",
   "metadata": {},
   "source": [
    "# Data Driven: Pump It Up (3/3)\n",
    "\n",
    "**Vilhelm Stiernstedt & Camillo Baratta**\n",
    "<br>\n",
    "** Date: 14/03/2018**\n",
    "\n",
    "** Instructions **\n",
    "<br>\n",
    "Using data from Taarifa and the Tanzanian Ministry of Water, can you predict which pumps are functional, which need some repairs, and which don't work at all? This is an intermediate-level practice competition. Predict one of these three classes based on a number of variables about what kind of pump is operating, when it was installed, and how it is managed. A smart understanding of which waterpoints will fail can improve maintenance operations and ensure that clean, potable water is available to communities across Tanzania.\n",
    "<br>\n",
    "<br>\n",
    "** Goal **\n",
    "<br>\n",
    "Your goal is to predict the operating condition of a waterpoint for each record in the dataset.\n",
    "The labels in this dataset are simple. There are three possible values:\n",
    "\n",
    "- functional - the waterpoint is operational and there are no repairs needed\n",
    "- functional needs repair - the waterpoint is operational, but needs repairs\n",
    "- non functional - the waterpoint is not operational\n",
    "\n",
    "**Plan**\n",
    "1. Import libraries\n",
    "2. Import data\n",
    "3. Data description\n",
    "4. Feature analysis\n",
    "5. Data cleaning\n",
    "    - Impute missing values\n",
    "    - Outlier treatment\n",
    "6. Feature engineering\n",
    "    - Transformation\n",
    "    - Binning\n",
    "    - New features\n",
    "7. Feature selection\n",
    "    - Drop irrelevant features\n",
    "8. Modelling Preparation\n",
    "    - One-hot encoding\n",
    "    - Test/train split\n",
    "9. Modelling\n",
    "    - Randomforest model\n",
    "    - Light GBM\n",
    "    - KNN\n",
    "    - LDA\n",
    "    - LR-OVR (OneVsAll)\n",
    "    - Stacked Model\n",
    "10. Submission\n",
    "\n",
    "<br>\n",
    "** Notebooks used in project:**\n",
    "<br>\n",
    "The different steps are distrubuted over 3 notebooks:\n",
    "1. Data Analysis - step 1-4 (Pump_Data_Analysis)\n",
    "2. Data Preparation - steps 5-8 (Pump_Data_Preparation)\n",
    "3. Data Modelling - steps 9-10 (Pump_Models)"
   ]
  },
  {
   "cell_type": "code",
   "execution_count": 1,
   "metadata": {},
   "outputs": [],
   "source": [
    "# Import libaries\n",
    "import datetime as dt\n",
    "import itertools\n",
    "# conda install -c conda-forge lightgbm \n",
    "import lightgbm as lgb\n",
    "import matplotlib.pyplot as plt\n",
    "import matplotlib.gridspec as gridspec\n",
    "# conda install mlxtend --channel conda-forge\n",
    "from mlxtend.classifier import StackingClassifier\n",
    "from mlxtend.plotting import plot_learning_curves\n",
    "from mlxtend.plotting import plot_decision_regions\n",
    "import numpy as np\n",
    "import pandas as pd\n",
    "from pprint import pprint\n",
    "import seaborn as sns\n",
    "from sklearn.ensemble import RandomForestClassifier\n",
    "from sklearn.metrics import accuracy_score\n",
    "from sklearn.metrics import confusion_matrix\n",
    "from sklearn.model_selection import cross_val_score\n",
    "from sklearn.model_selection import GridSearchCV\n",
    "from sklearn.neighbors import KNeighborsClassifier\n",
    "from sklearn.decomposition import PCA\n",
    "from sklearn.discriminant_analysis import LinearDiscriminantAnalysis\n",
    "from sklearn.linear_model import LogisticRegression\n",
    "from sklearn.linear_model import LogisticRegressionCV\n",
    "from sklearn.model_selection import RandomizedSearchCV\n",
    "import sklearn.pipeline\n",
    "from sklearn.preprocessing import scale\n",
    "from sklearn.model_selection import train_test_split\n",
    "import warnings\n",
    "\n",
    "# Pandas settings\n",
    "pd.set_option('display.max_columns', 100)\n",
    "\n",
    "# Plot settings\n",
    "%matplotlib inline\n",
    "\n",
    "# Warning settings -> suppress depreciation warnings for lgbm model\n",
    "warnings.filterwarnings('ignore')"
   ]
  },
  {
   "cell_type": "code",
   "execution_count": 2,
   "metadata": {},
   "outputs": [],
   "source": [
    "# Data Processing\n",
    "# Import data\n",
    "train_data = pd.read_csv(\"data/train_clean.csv\", sep=\",\")\n",
    "test_data = pd.read_csv(\"data/test_clean.csv\", sep=\",\")\n",
    "train_labels = pd.read_csv(\"data/train_set_labels.csv\", sep=\",\")\n",
    "\n",
    "# Set id as index\n",
    "train_data.set_index('id', inplace=True)\n",
    "test_data.set_index('id', inplace=True)\n",
    "train_labels.set_index('id', inplace=True)"
   ]
  },
  {
   "cell_type": "code",
   "execution_count": 3,
   "metadata": {},
   "outputs": [],
   "source": [
    "# Factorize train_labels\n",
    "target_labels = pd.factorize(train_labels.status_group)[0]"
   ]
  },
  {
   "cell_type": "code",
   "execution_count": 4,
   "metadata": {},
   "outputs": [],
   "source": [
    "# Save feature names\n",
    "feature_list = list(train_data.columns)\n",
    "\n",
    "# Convert to numpy arrays\n",
    "target_labels_np = np.array(target_labels)\n",
    "train_data_np = np.array(train_data)\n",
    "test_data_np = np.array(test_data)"
   ]
  },
  {
   "cell_type": "code",
   "execution_count": 5,
   "metadata": {},
   "outputs": [],
   "source": [
    "# Split train_data into train(x) and validation(y) split\n",
    "train_features, validation_features, train_labels, validation_labels = \\\n",
    "    train_test_split(train_data_np, target_labels_np, test_size=0.25, random_state=42)"
   ]
  },
  {
   "cell_type": "markdown",
   "metadata": {},
   "source": [
    "## 9. Modelling \n",
    "\n",
    "- Randomforest model\n",
    "- Light GBM\n",
    "- KNN\n",
    "- LDA\n",
    "- LR-OVR (OneVsAll)\n",
    "- Stacked Model"
   ]
  },
  {
   "cell_type": "markdown",
   "metadata": {},
   "source": [
    "### Random Forest Pipline\n",
    "In this pipline we will not only try to hyperparameter tune but also incorporate feature selection by allowing the random forest to choose different number of best features."
   ]
  },
  {
   "cell_type": "code",
   "execution_count": 6,
   "metadata": {},
   "outputs": [
    {
     "data": {
      "text/plain": [
       "159"
      ]
     },
     "execution_count": 6,
     "metadata": {},
     "output_type": "execute_result"
    }
   ],
   "source": [
    "# number of features inc. dummy features\n",
    "len(feature_list)"
   ]
  },
  {
   "cell_type": "markdown",
   "metadata": {},
   "source": [
    "#### Set up Pipline"
   ]
  },
  {
   "cell_type": "code",
   "execution_count": 8,
   "metadata": {},
   "outputs": [
    {
     "name": "stdout",
     "output_type": "stream",
     "text": [
      "             precision    recall  f1-score   support\n",
      "\n",
      "          0       0.80      0.87      0.83      9724\n",
      "          1       0.81      0.77      0.79      6803\n",
      "          2       0.50      0.33      0.40      1293\n",
      "\n",
      "avg / total       0.78      0.79      0.78     17820\n",
      "\n"
     ]
    }
   ],
   "source": [
    "# define number of features to select\n",
    "select = sklearn.feature_selection.SelectKBest(k=100)\n",
    "\n",
    "# define rf model\n",
    "clf = RandomForestClassifier()\n",
    "\n",
    "# define steps of pipline                  \n",
    "steps = [('feature_selection', select),\n",
    "        ('my_classifier', clf)]\n",
    "\n",
    "# define pipline                  \n",
    "rf_pipeline = sklearn.pipeline.Pipeline(steps)\n",
    "\n",
    "# split train_data into train(x) and validation(y) split          \n",
    "X_train, X_test, y_train, y_test = train_test_split(train_data_np, target_labels_np, test_size=0.30, random_state=42)\n",
    "\n",
    "# fit your pipeline on X_train and y_train\n",
    "rf_pipeline.fit(X_train, y_train)\n",
    "\n",
    "# call pipeline.predict() on your X_test data to make a set of test predictions\n",
    "y_prediction = rf_pipeline.predict(X_test)\n",
    "\n",
    "# test your predictions using sklearn.classification_report()\n",
    "report = sklearn.metrics.classification_report(y_test, y_prediction)\n",
    "\n",
    "# view the report\n",
    "print(report)"
   ]
  },
  {
   "cell_type": "markdown",
   "metadata": {},
   "source": [
    "#### Hyperparameter Tuning - 1st Round"
   ]
  },
  {
   "cell_type": "code",
   "execution_count": 92,
   "metadata": {},
   "outputs": [
    {
     "name": "stdout",
     "output_type": "stream",
     "text": [
      "Fitting 3 folds for each of 20 candidates, totalling 60 fits\n"
     ]
    },
    {
     "name": "stderr",
     "output_type": "stream",
     "text": [
      "[Parallel(n_jobs=1)]: Done  60 out of  60 | elapsed: 12.9min finished\n"
     ]
    },
    {
     "name": "stdout",
     "output_type": "stream",
     "text": [
      "             precision    recall  f1-score   support\n",
      "\n",
      "          0       0.81      0.90      0.85      9724\n",
      "          1       0.84      0.78      0.81      6803\n",
      "          2       0.58      0.32      0.42      1293\n",
      "\n",
      "avg / total       0.80      0.81      0.80     17820\n",
      "\n"
     ]
    }
   ],
   "source": [
    "# Define parameters for random search\n",
    "parameters = dict(feature_selection__k=[10, 20, 50, 100, 159], \n",
    "                  my_classifier__n_estimators=[100, 200, 300, 500],\n",
    "                  my_classifier__max_depth=[10, 20, 50, 70, 100],\n",
    "                  my_classifier__min_samples_split=[2, 5, 10, 20, 30, 50],\n",
    "                  my_classifier__min_samples_leaf=[2, 5, 10, 20, 30, 50],\n",
    "                  my_classifier__bootstrap=[True, False])\n",
    "\n",
    "rf_pipeline_rand_cv = RandomizedSearchCV(estimator=rf_pipeline, param_distributions=parameters,\n",
    "                                  n_iter=20, cv=3, verbose=1, random_state=42)\n",
    "\n",
    "# Fit the random search model\n",
    "rf_pipeline_rand_cv.fit(X_train, y_train);\n",
    "\n",
    "# Make predictions\n",
    "y_predictions = rf_pipeline_rand_cv.predict(X_test)\n",
    "\n",
    "# Define reporting metric\n",
    "report = sklearn.metrics.classification_report(y_test, y_predictions)\n",
    "\n",
    "# View report output\n",
    "print(report)"
   ]
  },
  {
   "cell_type": "code",
   "execution_count": 93,
   "metadata": {},
   "outputs": [
    {
     "data": {
      "text/html": [
       "<div>\n",
       "<style scoped>\n",
       "    .dataframe tbody tr th:only-of-type {\n",
       "        vertical-align: middle;\n",
       "    }\n",
       "\n",
       "    .dataframe tbody tr th {\n",
       "        vertical-align: top;\n",
       "    }\n",
       "\n",
       "    .dataframe thead th {\n",
       "        text-align: right;\n",
       "    }\n",
       "</style>\n",
       "<table border=\"1\" class=\"dataframe\">\n",
       "  <thead>\n",
       "    <tr style=\"text-align: right;\">\n",
       "      <th></th>\n",
       "      <th>0</th>\n",
       "      <th>1</th>\n",
       "      <th>2</th>\n",
       "    </tr>\n",
       "  </thead>\n",
       "  <tbody>\n",
       "    <tr>\n",
       "      <th>0</th>\n",
       "      <td>8707</td>\n",
       "      <td>801</td>\n",
       "      <td>216</td>\n",
       "    </tr>\n",
       "    <tr>\n",
       "      <th>1</th>\n",
       "      <td>1416</td>\n",
       "      <td>5304</td>\n",
       "      <td>83</td>\n",
       "    </tr>\n",
       "    <tr>\n",
       "      <th>2</th>\n",
       "      <td>678</td>\n",
       "      <td>198</td>\n",
       "      <td>417</td>\n",
       "    </tr>\n",
       "  </tbody>\n",
       "</table>\n",
       "</div>"
      ],
      "text/plain": [
       "      0     1    2\n",
       "0  8707   801  216\n",
       "1  1416  5304   83\n",
       "2   678   198  417"
      ]
     },
     "execution_count": 93,
     "metadata": {},
     "output_type": "execute_result"
    }
   ],
   "source": [
    "# Create confusion matrix\n",
    "pd.DataFrame(confusion_matrix(y_test, y_predictions))"
   ]
  },
  {
   "cell_type": "code",
   "execution_count": 95,
   "metadata": {},
   "outputs": [
    {
     "data": {
      "text/plain": [
       "{'feature_selection__k': 100,\n",
       " 'my_classifier__bootstrap': False,\n",
       " 'my_classifier__max_depth': 50,\n",
       " 'my_classifier__min_samples_leaf': 2,\n",
       " 'my_classifier__min_samples_split': 5,\n",
       " 'my_classifier__n_estimators': 300}"
      ]
     },
     "execution_count": 95,
     "metadata": {},
     "output_type": "execute_result"
    }
   ],
   "source": [
    "# get best parameters from rand serach\n",
    "rf_pipeline_rand_cv.best_params_"
   ]
  },
  {
   "cell_type": "markdown",
   "metadata": {},
   "source": [
    "#### Hyperparameter Tuning - 2nd Round"
   ]
  },
  {
   "cell_type": "code",
   "execution_count": 96,
   "metadata": {},
   "outputs": [
    {
     "name": "stdout",
     "output_type": "stream",
     "text": [
      "Fitting 5 folds for each of 20 candidates, totalling 100 fits\n"
     ]
    },
    {
     "name": "stderr",
     "output_type": "stream",
     "text": [
      "[Parallel(n_jobs=1)]: Done 100 out of 100 | elapsed: 96.5min finished\n"
     ]
    },
    {
     "name": "stdout",
     "output_type": "stream",
     "text": [
      "             precision    recall  f1-score   support\n",
      "\n",
      "          0       0.80      0.91      0.85      9724\n",
      "          1       0.85      0.77      0.80      6803\n",
      "          2       0.62      0.28      0.38      1293\n",
      "\n",
      "avg / total       0.80      0.81      0.80     17820\n",
      "\n"
     ]
    }
   ],
   "source": [
    "# Define parameters for random search\n",
    "parameters = dict(feature_selection__k=[70, 85, 100, 115, 130], \n",
    "                  my_classifier__n_estimators=[250, 300, 350, 400],\n",
    "                  my_classifier__max_depth=[35, 40, 50, 55, 60],\n",
    "                  my_classifier__min_samples_split=[2, 3, 4],\n",
    "                  my_classifier__min_samples_leaf=[3, 4, 5, 6, 7],\n",
    "                  my_classifier__bootstrap=[True, False])\n",
    "\n",
    "rf_pipeline_rand_cv = RandomizedSearchCV(estimator=rf_pipeline, param_distributions=parameters,\n",
    "                                  n_iter=20, cv=3, verbose=1, random_state=42)\n",
    "\n",
    "# Fit the random search model\n",
    "rf_pipeline_rand_cv.fit(X_train, y_train);\n",
    "\n",
    "# Make predictions\n",
    "y_predictions = rf_pipeline_rand_cv.predict(X_test)\n",
    "\n",
    "# Define reporting metric\n",
    "report = sklearn.metrics.classification_report(y_test, y_predictions)\n",
    "\n",
    "# View report output\n",
    "print(report)"
   ]
  },
  {
   "cell_type": "code",
   "execution_count": 97,
   "metadata": {},
   "outputs": [
    {
     "data": {
      "text/html": [
       "<div>\n",
       "<style scoped>\n",
       "    .dataframe tbody tr th:only-of-type {\n",
       "        vertical-align: middle;\n",
       "    }\n",
       "\n",
       "    .dataframe tbody tr th {\n",
       "        vertical-align: top;\n",
       "    }\n",
       "\n",
       "    .dataframe thead th {\n",
       "        text-align: right;\n",
       "    }\n",
       "</style>\n",
       "<table border=\"1\" class=\"dataframe\">\n",
       "  <thead>\n",
       "    <tr style=\"text-align: right;\">\n",
       "      <th></th>\n",
       "      <th>0</th>\n",
       "      <th>1</th>\n",
       "      <th>2</th>\n",
       "    </tr>\n",
       "  </thead>\n",
       "  <tbody>\n",
       "    <tr>\n",
       "      <th>0</th>\n",
       "      <td>8816</td>\n",
       "      <td>757</td>\n",
       "      <td>151</td>\n",
       "    </tr>\n",
       "    <tr>\n",
       "      <th>1</th>\n",
       "      <td>1512</td>\n",
       "      <td>5225</td>\n",
       "      <td>66</td>\n",
       "    </tr>\n",
       "    <tr>\n",
       "      <th>2</th>\n",
       "      <td>739</td>\n",
       "      <td>198</td>\n",
       "      <td>356</td>\n",
       "    </tr>\n",
       "  </tbody>\n",
       "</table>\n",
       "</div>"
      ],
      "text/plain": [
       "      0     1    2\n",
       "0  8816   757  151\n",
       "1  1512  5225   66\n",
       "2   739   198  356"
      ]
     },
     "execution_count": 97,
     "metadata": {},
     "output_type": "execute_result"
    }
   ],
   "source": [
    "# Create confusion matrix\n",
    "pd.DataFrame(confusion_matrix(y_test, y_predictions))"
   ]
  },
  {
   "cell_type": "code",
   "execution_count": 98,
   "metadata": {},
   "outputs": [
    {
     "data": {
      "text/plain": [
       "{'feature_selection__k': 115,\n",
       " 'my_classifier__bootstrap': False,\n",
       " 'my_classifier__max_depth': 40,\n",
       " 'my_classifier__min_samples_leaf': 3,\n",
       " 'my_classifier__min_samples_split': 4,\n",
       " 'my_classifier__n_estimators': 300}"
      ]
     },
     "execution_count": 98,
     "metadata": {},
     "output_type": "execute_result"
    }
   ],
   "source": [
    "# get best parameters from rand serach\n",
    "rf_pipeline_rand_cv.best_params_"
   ]
  },
  {
   "cell_type": "markdown",
   "metadata": {},
   "source": [
    "#### Hyperparameter Tuning - 3rd Round"
   ]
  },
  {
   "cell_type": "code",
   "execution_count": 10,
   "metadata": {},
   "outputs": [
    {
     "name": "stdout",
     "output_type": "stream",
     "text": [
      "Fitting 3 folds for each of 20 candidates, totalling 60 fits\n"
     ]
    },
    {
     "name": "stderr",
     "output_type": "stream",
     "text": [
      "[Parallel(n_jobs=1)]: Done  60 out of  60 | elapsed: 21.9min finished\n"
     ]
    },
    {
     "name": "stdout",
     "output_type": "stream",
     "text": [
      "             precision    recall  f1-score   support\n",
      "\n",
      "          0       0.81      0.90      0.85      9724\n",
      "          1       0.84      0.78      0.81      6803\n",
      "          2       0.59      0.33      0.42      1293\n",
      "\n",
      "avg / total       0.81      0.81      0.80     17820\n",
      "\n"
     ]
    }
   ],
   "source": [
    "# Define parameters for random search\n",
    "parameters = dict(feature_selection__k=[105, 110, 115, 120, 125], \n",
    "                  my_classifier__n_estimators=[290, 300, 310, 320],\n",
    "                  my_classifier__max_depth=[35, 38, 40, 42, 45],\n",
    "                  my_classifier__min_samples_split=[3, 4, 5, 6],\n",
    "                  my_classifier__min_samples_leaf=[2, 3, 4, 5],\n",
    "                  my_classifier__bootstrap=[True, False])\n",
    "\n",
    "rf_pipeline_rand_cv = RandomizedSearchCV(estimator=rf_pipeline, param_distributions=parameters,\n",
    "                                  n_iter=20, cv=3, verbose=1, random_state=42)\n",
    "\n",
    "# Fit the random search model\n",
    "rf_pipeline_rand_cv.fit(X_train, y_train);\n",
    "\n",
    "# Make predictions\n",
    "y_predictions = rf_pipeline_rand_cv.predict(X_test)\n",
    "\n",
    "# Define reporting metric\n",
    "report = sklearn.metrics.classification_report(y_test, y_predictions)\n",
    "\n",
    "# View report output\n",
    "print(report)"
   ]
  },
  {
   "cell_type": "code",
   "execution_count": 11,
   "metadata": {},
   "outputs": [
    {
     "data": {
      "text/html": [
       "<div>\n",
       "<style scoped>\n",
       "    .dataframe tbody tr th:only-of-type {\n",
       "        vertical-align: middle;\n",
       "    }\n",
       "\n",
       "    .dataframe tbody tr th {\n",
       "        vertical-align: top;\n",
       "    }\n",
       "\n",
       "    .dataframe thead th {\n",
       "        text-align: right;\n",
       "    }\n",
       "</style>\n",
       "<table border=\"1\" class=\"dataframe\">\n",
       "  <thead>\n",
       "    <tr style=\"text-align: right;\">\n",
       "      <th></th>\n",
       "      <th>0</th>\n",
       "      <th>1</th>\n",
       "      <th>2</th>\n",
       "    </tr>\n",
       "  </thead>\n",
       "  <tbody>\n",
       "    <tr>\n",
       "      <th>0</th>\n",
       "      <td>8713</td>\n",
       "      <td>800</td>\n",
       "      <td>211</td>\n",
       "    </tr>\n",
       "    <tr>\n",
       "      <th>1</th>\n",
       "      <td>1395</td>\n",
       "      <td>5330</td>\n",
       "      <td>78</td>\n",
       "    </tr>\n",
       "    <tr>\n",
       "      <th>2</th>\n",
       "      <td>672</td>\n",
       "      <td>200</td>\n",
       "      <td>421</td>\n",
       "    </tr>\n",
       "  </tbody>\n",
       "</table>\n",
       "</div>"
      ],
      "text/plain": [
       "      0     1    2\n",
       "0  8713   800  211\n",
       "1  1395  5330   78\n",
       "2   672   200  421"
      ]
     },
     "execution_count": 11,
     "metadata": {},
     "output_type": "execute_result"
    }
   ],
   "source": [
    "# Create confusion matrix\n",
    "pd.DataFrame(confusion_matrix(y_test, y_predictions))"
   ]
  },
  {
   "cell_type": "code",
   "execution_count": 12,
   "metadata": {},
   "outputs": [
    {
     "data": {
      "text/plain": [
       "{'feature_selection__k': 110,\n",
       " 'my_classifier__bootstrap': False,\n",
       " 'my_classifier__max_depth': 40,\n",
       " 'my_classifier__min_samples_leaf': 2,\n",
       " 'my_classifier__min_samples_split': 4,\n",
       " 'my_classifier__n_estimators': 320}"
      ]
     },
     "execution_count": 12,
     "metadata": {},
     "output_type": "execute_result"
    }
   ],
   "source": [
    "# get best parameters from rand serach\n",
    "rf_pipeline_rand_cv.best_params_"
   ]
  },
  {
   "cell_type": "code",
   "execution_count": 25,
   "metadata": {},
   "outputs": [
    {
     "data": {
      "text/html": [
       "<div>\n",
       "<style scoped>\n",
       "    .dataframe tbody tr th:only-of-type {\n",
       "        vertical-align: middle;\n",
       "    }\n",
       "\n",
       "    .dataframe tbody tr th {\n",
       "        vertical-align: top;\n",
       "    }\n",
       "\n",
       "    .dataframe thead th {\n",
       "        text-align: right;\n",
       "    }\n",
       "</style>\n",
       "<table border=\"1\" class=\"dataframe\">\n",
       "  <thead>\n",
       "    <tr style=\"text-align: right;\">\n",
       "      <th></th>\n",
       "      <th>rf_feature</th>\n",
       "      <th>rf_importance</th>\n",
       "    </tr>\n",
       "    <tr>\n",
       "      <th>rank</th>\n",
       "      <th></th>\n",
       "      <th></th>\n",
       "    </tr>\n",
       "  </thead>\n",
       "  <tbody>\n",
       "    <tr>\n",
       "      <th>1</th>\n",
       "      <td>gps_height</td>\n",
       "      <td>0.106222</td>\n",
       "    </tr>\n",
       "    <tr>\n",
       "      <th>2</th>\n",
       "      <td>permit_False.1</td>\n",
       "      <td>0.084643</td>\n",
       "    </tr>\n",
       "    <tr>\n",
       "      <th>3</th>\n",
       "      <td>population_log</td>\n",
       "      <td>0.074575</td>\n",
       "    </tr>\n",
       "    <tr>\n",
       "      <th>4</th>\n",
       "      <td>well_age</td>\n",
       "      <td>0.063211</td>\n",
       "    </tr>\n",
       "    <tr>\n",
       "      <th>5</th>\n",
       "      <td>long_simple</td>\n",
       "      <td>0.057757</td>\n",
       "    </tr>\n",
       "    <tr>\n",
       "      <th>6</th>\n",
       "      <td>lat_simple</td>\n",
       "      <td>0.055716</td>\n",
       "    </tr>\n",
       "    <tr>\n",
       "      <th>7</th>\n",
       "      <td>amount_tsh_log</td>\n",
       "      <td>0.035437</td>\n",
       "    </tr>\n",
       "    <tr>\n",
       "      <th>8</th>\n",
       "      <td>scheme_management_Company</td>\n",
       "      <td>0.028696</td>\n",
       "    </tr>\n",
       "    <tr>\n",
       "      <th>9</th>\n",
       "      <td>recorded_month</td>\n",
       "      <td>0.023704</td>\n",
       "    </tr>\n",
       "    <tr>\n",
       "      <th>10</th>\n",
       "      <td>construction_decade</td>\n",
       "      <td>0.023221</td>\n",
       "    </tr>\n",
       "    <tr>\n",
       "      <th>11</th>\n",
       "      <td>public_meeting_False</td>\n",
       "      <td>0.021881</td>\n",
       "    </tr>\n",
       "    <tr>\n",
       "      <th>12</th>\n",
       "      <td>extraction_type_class_motorpump</td>\n",
       "      <td>0.017626</td>\n",
       "    </tr>\n",
       "    <tr>\n",
       "      <th>13</th>\n",
       "      <td>public_meeting_True</td>\n",
       "      <td>0.014276</td>\n",
       "    </tr>\n",
       "    <tr>\n",
       "      <th>14</th>\n",
       "      <td>scheme_management_Water authority</td>\n",
       "      <td>0.011701</td>\n",
       "    </tr>\n",
       "    <tr>\n",
       "      <th>15</th>\n",
       "      <td>extraction_type_class_gravity</td>\n",
       "      <td>0.011691</td>\n",
       "    </tr>\n",
       "    <tr>\n",
       "      <th>16</th>\n",
       "      <td>scheme_management_Other</td>\n",
       "      <td>0.011443</td>\n",
       "    </tr>\n",
       "    <tr>\n",
       "      <th>17</th>\n",
       "      <td>basin_Wami / Ruvu</td>\n",
       "      <td>0.010478</td>\n",
       "    </tr>\n",
       "    <tr>\n",
       "      <th>18</th>\n",
       "      <td>scheme_management_VWC</td>\n",
       "      <td>0.009783</td>\n",
       "    </tr>\n",
       "    <tr>\n",
       "      <th>19</th>\n",
       "      <td>source_type_rainwater harvesting</td>\n",
       "      <td>0.009498</td>\n",
       "    </tr>\n",
       "    <tr>\n",
       "      <th>20</th>\n",
       "      <td>funder_size_s250</td>\n",
       "      <td>0.009248</td>\n",
       "    </tr>\n",
       "  </tbody>\n",
       "</table>\n",
       "</div>"
      ],
      "text/plain": [
       "                             rf_feature  rf_importance\n",
       "rank                                                  \n",
       "1                            gps_height       0.106222\n",
       "2                        permit_False.1       0.084643\n",
       "3                        population_log       0.074575\n",
       "4                              well_age       0.063211\n",
       "5                           long_simple       0.057757\n",
       "6                            lat_simple       0.055716\n",
       "7                        amount_tsh_log       0.035437\n",
       "8             scheme_management_Company       0.028696\n",
       "9                        recorded_month       0.023704\n",
       "10                  construction_decade       0.023221\n",
       "11                 public_meeting_False       0.021881\n",
       "12      extraction_type_class_motorpump       0.017626\n",
       "13                  public_meeting_True       0.014276\n",
       "14    scheme_management_Water authority       0.011701\n",
       "15        extraction_type_class_gravity       0.011691\n",
       "16              scheme_management_Other       0.011443\n",
       "17                    basin_Wami / Ruvu       0.010478\n",
       "18                scheme_management_VWC       0.009783\n",
       "19     source_type_rainwater harvesting       0.009498\n",
       "20                     funder_size_s250       0.009248"
      ]
     },
     "execution_count": 25,
     "metadata": {},
     "output_type": "execute_result"
    }
   ],
   "source": [
    "# Merge feature names and importance score into df\n",
    "features_names = pd.DataFrame(feature_list)\n",
    "rf_feature_importance_score = pd.DataFrame(rf_pipeline.steps[1][1].feature_importances_)\n",
    "rf_feature_importance = pd.concat([features_names, rf_feature_importance_score], axis=1)\n",
    "\n",
    "# Assign columns names\n",
    "new_cols = ['rf_feature', 'rf_importance']\n",
    "rf_feature_importance.columns = new_cols\n",
    "\n",
    "# Sort values by importance and show top 20\n",
    "rf_feature_importance = rf_feature_importance.sort_values('rf_importance', ascending=False).head(20)\n",
    "# insert ranking score\n",
    "rf_feature_importance['rank'] = range(1, 21)\n",
    "# set rank as index\n",
    "rf_feature_importance.set_index('rank', inplace=True)\n",
    "\n",
    "rf_feature_importance"
   ]
  },
  {
   "cell_type": "code",
   "execution_count": 30,
   "metadata": {},
   "outputs": [
    {
     "data": {
      "image/png": "[encoded data removed]",
      "text/plain": [
       "<Figure size 576x432 with 1 Axes>"
      ]
     },
     "metadata": {},
     "output_type": "display_data"
    }
   ],
   "source": [
    "# Plot rf feature importance\n",
    "# Set plot size\n",
    "fig, ax = plt.subplots(figsize=(8, 6))\n",
    "\n",
    "# Plot importance with correct lables\n",
    "g = sns.barplot(data=rf_feature_importance, x='rf_feature', y='rf_importance')\n",
    "g.set_xticklabels(rf_feature_importance.rf_feature, rotation=90);"
   ]
  },
  {
   "cell_type": "markdown",
   "metadata": {},
   "source": [
    "A quite good split of importance over a few features. Amount_tsh_log stll contains incorrect values, thus we ran model without feature, however model lost accurancy and we keep it."
   ]
  },
  {
   "cell_type": "markdown",
   "metadata": {},
   "source": [
    "#### Prediction of final data for sub-submission"
   ]
  },
  {
   "cell_type": "code",
   "execution_count": 15,
   "metadata": {},
   "outputs": [],
   "source": [
    "# Fit the random search model\n",
    "#rf_final_pipeline = rf_pipeline_rand_cv.best_estimator_.fit(train_data_np, target_labels_np);\n",
    "\n",
    "# Make predictions\n",
    "#rf_final_predictions = rf_final_pipeline.predict(test_data_np)\n"
   ]
  },
  {
   "cell_type": "markdown",
   "metadata": {},
   "source": [
    "## Light GBM"
   ]
  },
  {
   "cell_type": "markdown",
   "metadata": {},
   "source": [
    "#### Set up LGBM Pipline"
   ]
  },
  {
   "cell_type": "code",
   "execution_count": 31,
   "metadata": {},
   "outputs": [
    {
     "name": "stdout",
     "output_type": "stream",
     "text": [
      "             precision    recall  f1-score   support\n",
      "\n",
      "          0       0.75      0.92      0.83      9724\n",
      "          1       0.84      0.70      0.76      6803\n",
      "          2       0.65      0.18      0.28      1293\n",
      "\n",
      "avg / total       0.78      0.78      0.76     17820\n",
      "\n"
     ]
    }
   ],
   "source": [
    "# define number of features to select\n",
    "select = sklearn.feature_selection.SelectKBest(k=100)\n",
    "\n",
    "# define rf model\n",
    "clf2 = lgb.LGBMClassifier()\n",
    "\n",
    "# define steps of pipline                  \n",
    "steps = [('feature_selection', select),\n",
    "        ('my_classifier', clf2)]\n",
    "\n",
    "# define pipline                  \n",
    "lgbm_pipeline = sklearn.pipeline.Pipeline(steps)\n",
    "\n",
    "# split train_data into train(x) and validation(y) split          \n",
    "X_train, X_test, y_train, y_test = train_test_split(train_data_np, target_labels_np, test_size=0.30, random_state=42)\n",
    "\n",
    "# fit your pipeline on X_train and y_train\n",
    "lgbm_pipeline.fit(X_train, y_train)\n",
    "\n",
    "# call pipeline.predict() on your X_test data to make a set of test predictions\n",
    "y_prediction = lgbm_pipeline.predict(X_test)\n",
    "\n",
    "# test your predictions using sklearn.classification_report()\n",
    "report = sklearn.metrics.classification_report(y_test, y_prediction)\n",
    "\n",
    "# view the report\n",
    "print(report)"
   ]
  },
  {
   "cell_type": "markdown",
   "metadata": {},
   "source": [
    "#### Hyperparameter Tuning - 1st Round"
   ]
  },
  {
   "cell_type": "code",
   "execution_count": 22,
   "metadata": {},
   "outputs": [
    {
     "name": "stdout",
     "output_type": "stream",
     "text": [
      "Fitting 3 folds for each of 20 candidates, totalling 60 fits\n"
     ]
    },
    {
     "name": "stderr",
     "output_type": "stream",
     "text": [
      "[Parallel(n_jobs=1)]: Done  60 out of  60 | elapsed:  2.9min finished\n"
     ]
    },
    {
     "name": "stdout",
     "output_type": "stream",
     "text": [
      "             precision    recall  f1-score   support\n",
      "\n",
      "          0       0.79      0.90      0.84      9724\n",
      "          1       0.83      0.75      0.79      6803\n",
      "          2       0.60      0.27      0.37      1293\n",
      "\n",
      "avg / total       0.79      0.80      0.79     17820\n",
      "\n"
     ]
    }
   ],
   "source": [
    "# Define parameters for random search\n",
    "parameters = dict(feature_selection__k=[10, 20, 50, 100, 159],\n",
    "                    my_classifier__n_estimators=[100, 200, 300],\n",
    "                    my_classifier__objective='multiclass_ovr',\n",
    "                    my_classifier__metric='multi_logloss',\n",
    "                    my_classifier__learning_rate=[0.05, 0.1, 0.15],\n",
    "                    my_classifier__max_depth=[4, 6, 8, -1],\n",
    "                    my_classifier__num_leaves=[15, 25, 50],\n",
    "                    my_classifier__subsample=[1, 2, 3],\n",
    "                    my_classifier__feature_fraction=[0.4, 0.8, 0.12],\n",
    "                    my_classifier__bagging_fraction=[0.4, 0.8, 0.12],\n",
    "                    my_classifier__bagging_freq=[5, 10, 17])\n",
    "\n",
    "lgbm_pipeline_rand_cv = RandomizedSearchCV(estimator=lgbm_pipeline, param_distributions=parameters,\n",
    "                                  n_iter=20, cv=3, verbose=1, random_state=42)\n",
    "\n",
    "# Fit the random search model\n",
    "lgbm_pipeline_rand_cv.fit(X_train, y_train);\n",
    "\n",
    "# Make predictions\n",
    "y_predictions = lgbm_pipeline_rand_cv.predict(X_test)\n",
    "\n",
    "# Define reporting metric\n",
    "report = sklearn.metrics.classification_report(y_test, y_predictions)\n",
    "\n",
    "# View report output\n",
    "print(report)"
   ]
  },
  {
   "cell_type": "code",
   "execution_count": 23,
   "metadata": {},
   "outputs": [
    {
     "data": {
      "text/html": [
       "<div>\n",
       "<style scoped>\n",
       "    .dataframe tbody tr th:only-of-type {\n",
       "        vertical-align: middle;\n",
       "    }\n",
       "\n",
       "    .dataframe tbody tr th {\n",
       "        vertical-align: top;\n",
       "    }\n",
       "\n",
       "    .dataframe thead th {\n",
       "        text-align: right;\n",
       "    }\n",
       "</style>\n",
       "<table border=\"1\" class=\"dataframe\">\n",
       "  <thead>\n",
       "    <tr style=\"text-align: right;\">\n",
       "      <th></th>\n",
       "      <th>0</th>\n",
       "      <th>1</th>\n",
       "      <th>2</th>\n",
       "    </tr>\n",
       "  </thead>\n",
       "  <tbody>\n",
       "    <tr>\n",
       "      <th>0</th>\n",
       "      <td>8746</td>\n",
       "      <td>813</td>\n",
       "      <td>165</td>\n",
       "    </tr>\n",
       "    <tr>\n",
       "      <th>1</th>\n",
       "      <td>1611</td>\n",
       "      <td>5125</td>\n",
       "      <td>67</td>\n",
       "    </tr>\n",
       "    <tr>\n",
       "      <th>2</th>\n",
       "      <td>731</td>\n",
       "      <td>215</td>\n",
       "      <td>347</td>\n",
       "    </tr>\n",
       "  </tbody>\n",
       "</table>\n",
       "</div>"
      ],
      "text/plain": [
       "      0     1    2\n",
       "0  8746   813  165\n",
       "1  1611  5125   67\n",
       "2   731   215  347"
      ]
     },
     "execution_count": 23,
     "metadata": {},
     "output_type": "execute_result"
    }
   ],
   "source": [
    "# Create confusion matrix\n",
    "pd.DataFrame(confusion_matrix(y_test, y_predictions))"
   ]
  },
  {
   "cell_type": "code",
   "execution_count": 25,
   "metadata": {},
   "outputs": [
    {
     "data": {
      "text/plain": [
       "{'feature_selection__k': 159,\n",
       " 'my_classifier__bagging_fraction': 0.4,\n",
       " 'my_classifier__bagging_freq': 5,\n",
       " 'my_classifier__feature_fraction': 0.8,\n",
       " 'my_classifier__learning_rate': 0.1,\n",
       " 'my_classifier__max_depth': -1,\n",
       " 'my_classifier__metric': 's',\n",
       " 'my_classifier__n_estimators': 200,\n",
       " 'my_classifier__num_leaves': 50,\n",
       " 'my_classifier__objective': 'u',\n",
       " 'my_classifier__subsample': 1}"
      ]
     },
     "execution_count": 25,
     "metadata": {},
     "output_type": "execute_result"
    }
   ],
   "source": [
    "# get best parameters from rand serach\n",
    "lgbm_pipeline_rand_cv.best_params_"
   ]
  },
  {
   "cell_type": "markdown",
   "metadata": {},
   "source": [
    "#### Hyperparameter Tuning - 2nd Round"
   ]
  },
  {
   "cell_type": "code",
   "execution_count": 33,
   "metadata": {},
   "outputs": [
    {
     "name": "stdout",
     "output_type": "stream",
     "text": [
      "Fitting 3 folds for each of 20 candidates, totalling 60 fits\n"
     ]
    },
    {
     "name": "stderr",
     "output_type": "stream",
     "text": [
      "[Parallel(n_jobs=1)]: Done  60 out of  60 | elapsed:  4.8min finished\n"
     ]
    },
    {
     "name": "stdout",
     "output_type": "stream",
     "text": [
      "             precision    recall  f1-score   support\n",
      "\n",
      "          0       0.79      0.90      0.85      9724\n",
      "          1       0.84      0.76      0.80      6803\n",
      "          2       0.60      0.29      0.39      1293\n",
      "\n",
      "avg / total       0.80      0.80      0.79     17820\n",
      "\n"
     ]
    }
   ],
   "source": [
    "# Define parameters for random search\n",
    "parameters = dict(feature_selection__k=[130, 140, 150, 159],\n",
    "                    my_classifier__n_estimators=[150, 200, 250],\n",
    "                    my_classifier__objective='multiclass',\n",
    "                    my_classifier__metric='multi_logloss',\n",
    "                    my_classifier__learning_rate=[0.08, 0.1, 0.12],\n",
    "                    my_classifier__max_depth=[15, 20, 30, -1],\n",
    "                    my_classifier__num_leaves=[40, 50, 60],\n",
    "                    my_classifier__subsample=[1, 2],\n",
    "                    my_classifier__feature_fraction=[0.6, 0.7, 0.8, 0.9, 1],\n",
    "                    my_classifier__bagging_fraction=[0.3, 0.4, 0.5, 0.6],\n",
    "                    my_classifier__bagging_freq=[3, 4, 5, 6, 7])\n",
    "\n",
    "lgbm_pipeline_rand_cv = RandomizedSearchCV(estimator=lgbm_pipeline, param_distributions=parameters,\n",
    "                                  n_iter=20, cv=3, verbose=1, random_state=42)\n",
    "\n",
    "# Fit the random search model\n",
    "lgbm_pipeline_rand_cv.fit(X_train, y_train);\n",
    "\n",
    "# Make predictions\n",
    "y_predictions = lgbm_pipeline_rand_cv.predict(X_test)\n",
    "\n",
    "# Define reporting metric\n",
    "report = sklearn.metrics.classification_report(y_test, y_predictions)\n",
    "\n",
    "# View report output\n",
    "print(report)"
   ]
  },
  {
   "cell_type": "code",
   "execution_count": 23,
   "metadata": {},
   "outputs": [
    {
     "data": {
      "text/html": [
       "<div>\n",
       "<style scoped>\n",
       "    .dataframe tbody tr th:only-of-type {\n",
       "        vertical-align: middle;\n",
       "    }\n",
       "\n",
       "    .dataframe tbody tr th {\n",
       "        vertical-align: top;\n",
       "    }\n",
       "\n",
       "    .dataframe thead th {\n",
       "        text-align: right;\n",
       "    }\n",
       "</style>\n",
       "<table border=\"1\" class=\"dataframe\">\n",
       "  <thead>\n",
       "    <tr style=\"text-align: right;\">\n",
       "      <th></th>\n",
       "      <th>0</th>\n",
       "      <th>1</th>\n",
       "      <th>2</th>\n",
       "    </tr>\n",
       "  </thead>\n",
       "  <tbody>\n",
       "    <tr>\n",
       "      <th>0</th>\n",
       "      <td>8746</td>\n",
       "      <td>813</td>\n",
       "      <td>165</td>\n",
       "    </tr>\n",
       "    <tr>\n",
       "      <th>1</th>\n",
       "      <td>1611</td>\n",
       "      <td>5125</td>\n",
       "      <td>67</td>\n",
       "    </tr>\n",
       "    <tr>\n",
       "      <th>2</th>\n",
       "      <td>731</td>\n",
       "      <td>215</td>\n",
       "      <td>347</td>\n",
       "    </tr>\n",
       "  </tbody>\n",
       "</table>\n",
       "</div>"
      ],
      "text/plain": [
       "      0     1    2\n",
       "0  8746   813  165\n",
       "1  1611  5125   67\n",
       "2   731   215  347"
      ]
     },
     "execution_count": 23,
     "metadata": {},
     "output_type": "execute_result"
    }
   ],
   "source": [
    "# Create confusion matrix\n",
    "pd.DataFrame(confusion_matrix(y_test, y_predictions))"
   ]
  },
  {
   "cell_type": "code",
   "execution_count": 25,
   "metadata": {},
   "outputs": [
    {
     "data": {
      "text/plain": [
       "{'feature_selection__k': 159,\n",
       " 'my_classifier__bagging_fraction': 0.4,\n",
       " 'my_classifier__bagging_freq': 5,\n",
       " 'my_classifier__feature_fraction': 0.8,\n",
       " 'my_classifier__learning_rate': 0.1,\n",
       " 'my_classifier__max_depth': -1,\n",
       " 'my_classifier__metric': 's',\n",
       " 'my_classifier__n_estimators': 200,\n",
       " 'my_classifier__num_leaves': 50,\n",
       " 'my_classifier__objective': 'u',\n",
       " 'my_classifier__subsample': 1}"
      ]
     },
     "execution_count": 25,
     "metadata": {},
     "output_type": "execute_result"
    }
   ],
   "source": [
    "# get best parameters from rand serach\n",
    "lgbm_pipeline_rand_cv.best_params_"
   ]
  },
  {
   "cell_type": "markdown",
   "metadata": {},
   "source": [
    "#### Hyperparameter Tuning - 3rd Round"
   ]
  },
  {
   "cell_type": "code",
   "execution_count": 34,
   "metadata": {},
   "outputs": [
    {
     "name": "stdout",
     "output_type": "stream",
     "text": [
      "Fitting 3 folds for each of 20 candidates, totalling 60 fits\n"
     ]
    },
    {
     "name": "stderr",
     "output_type": "stream",
     "text": [
      "[Parallel(n_jobs=1)]: Done  60 out of  60 | elapsed:  4.9min finished\n"
     ]
    },
    {
     "name": "stdout",
     "output_type": "stream",
     "text": [
      "             precision    recall  f1-score   support\n",
      "\n",
      "          0       0.79      0.91      0.84      9724\n",
      "          1       0.84      0.75      0.79      6803\n",
      "          2       0.62      0.26      0.36      1293\n",
      "\n",
      "avg / total       0.80      0.80      0.79     17820\n",
      "\n"
     ]
    }
   ],
   "source": [
    "# Define parameters for random search\n",
    "parameters = dict(feature_selection__k=[150, 155, 159],\n",
    "                    my_classifier__n_estimators=[180, 200, 220],\n",
    "                    my_classifier__objective='multiclass',\n",
    "                    my_classifier__metric='multi_logloss',\n",
    "                    my_classifier__learning_rate=[0.07, 0.08, 0.09],\n",
    "                    my_classifier__max_depth=[50, 100, 150, -1],\n",
    "                    my_classifier__num_leaves=[45, 50, 55],\n",
    "                    my_classifier__subsample=[1],\n",
    "                    my_classifier__feature_fraction=[0.7, 0.8, 0.9],\n",
    "                    my_classifier__bagging_fraction=[0.3, 0.4, 0.5],\n",
    "                    my_classifier__bagging_freq=[4, 5, 6])\n",
    "\n",
    "lgbm_pipeline_rand_cv = RandomizedSearchCV(estimator=lgbm_pipeline, param_distributions=parameters,\n",
    "                                  n_iter=20, cv=3, verbose=1, random_state=42)\n",
    "\n",
    "# Fit the random search model\n",
    "lgbm_pipeline_rand_cv.fit(X_train, y_train);\n",
    "\n",
    "# Make predictions\n",
    "y_predictions = lgbm_pipeline_rand_cv.predict(X_test)\n",
    "\n",
    "# Define reporting metric\n",
    "report = sklearn.metrics.classification_report(y_test, y_predictions)\n",
    "\n",
    "# View report output\n",
    "print(report)"
   ]
  },
  {
   "cell_type": "code",
   "execution_count": 35,
   "metadata": {},
   "outputs": [
    {
     "data": {
      "text/html": [
       "<div>\n",
       "<style scoped>\n",
       "    .dataframe tbody tr th:only-of-type {\n",
       "        vertical-align: middle;\n",
       "    }\n",
       "\n",
       "    .dataframe tbody tr th {\n",
       "        vertical-align: top;\n",
       "    }\n",
       "\n",
       "    .dataframe thead th {\n",
       "        text-align: right;\n",
       "    }\n",
       "</style>\n",
       "<table border=\"1\" class=\"dataframe\">\n",
       "  <thead>\n",
       "    <tr style=\"text-align: right;\">\n",
       "      <th></th>\n",
       "      <th>0</th>\n",
       "      <th>1</th>\n",
       "      <th>2</th>\n",
       "    </tr>\n",
       "  </thead>\n",
       "  <tbody>\n",
       "    <tr>\n",
       "      <th>0</th>\n",
       "      <td>8816</td>\n",
       "      <td>767</td>\n",
       "      <td>141</td>\n",
       "    </tr>\n",
       "    <tr>\n",
       "      <th>1</th>\n",
       "      <td>1613</td>\n",
       "      <td>5123</td>\n",
       "      <td>67</td>\n",
       "    </tr>\n",
       "    <tr>\n",
       "      <th>2</th>\n",
       "      <td>747</td>\n",
       "      <td>212</td>\n",
       "      <td>334</td>\n",
       "    </tr>\n",
       "  </tbody>\n",
       "</table>\n",
       "</div>"
      ],
      "text/plain": [
       "      0     1    2\n",
       "0  8816   767  141\n",
       "1  1613  5123   67\n",
       "2   747   212  334"
      ]
     },
     "execution_count": 35,
     "metadata": {},
     "output_type": "execute_result"
    }
   ],
   "source": [
    "# Create confusion matrix\n",
    "pd.DataFrame(confusion_matrix(y_test, y_predictions))"
   ]
  },
  {
   "cell_type": "code",
   "execution_count": 36,
   "metadata": {},
   "outputs": [
    {
     "data": {
      "text/plain": [
       "{'feature_selection__k': 150,\n",
       " 'my_classifier__bagging_fraction': 0.5,\n",
       " 'my_classifier__bagging_freq': 4,\n",
       " 'my_classifier__feature_fraction': 0.8,\n",
       " 'my_classifier__learning_rate': 0.09,\n",
       " 'my_classifier__max_depth': 100,\n",
       " 'my_classifier__metric': 'l',\n",
       " 'my_classifier__n_estimators': 220,\n",
       " 'my_classifier__num_leaves': 45,\n",
       " 'my_classifier__objective': 'a',\n",
       " 'my_classifier__subsample': 1}"
      ]
     },
     "execution_count": 36,
     "metadata": {},
     "output_type": "execute_result"
    }
   ],
   "source": [
    "# get best parameters from rand serach\n",
    "lgbm_pipeline_rand_cv.best_params_"
   ]
  },
  {
   "cell_type": "code",
   "execution_count": 37,
   "metadata": {},
   "outputs": [
    {
     "data": {
      "text/html": [
       "<div>\n",
       "<style scoped>\n",
       "    .dataframe tbody tr th:only-of-type {\n",
       "        vertical-align: middle;\n",
       "    }\n",
       "\n",
       "    .dataframe tbody tr th {\n",
       "        vertical-align: top;\n",
       "    }\n",
       "\n",
       "    .dataframe thead th {\n",
       "        text-align: right;\n",
       "    }\n",
       "</style>\n",
       "<table border=\"1\" class=\"dataframe\">\n",
       "  <thead>\n",
       "    <tr style=\"text-align: right;\">\n",
       "      <th></th>\n",
       "      <th>lgbm_feature</th>\n",
       "      <th>lgbm_importance</th>\n",
       "    </tr>\n",
       "    <tr>\n",
       "      <th>rank</th>\n",
       "      <th></th>\n",
       "      <th></th>\n",
       "    </tr>\n",
       "  </thead>\n",
       "  <tbody>\n",
       "    <tr>\n",
       "      <th>1</th>\n",
       "      <td>lat_simple</td>\n",
       "      <td>911.0</td>\n",
       "    </tr>\n",
       "    <tr>\n",
       "      <th>2</th>\n",
       "      <td>long_simple</td>\n",
       "      <td>878.0</td>\n",
       "    </tr>\n",
       "    <tr>\n",
       "      <th>3</th>\n",
       "      <td>gps_height</td>\n",
       "      <td>807.0</td>\n",
       "    </tr>\n",
       "    <tr>\n",
       "      <th>4</th>\n",
       "      <td>well_age</td>\n",
       "      <td>691.0</td>\n",
       "    </tr>\n",
       "    <tr>\n",
       "      <th>5</th>\n",
       "      <td>population_log</td>\n",
       "      <td>547.0</td>\n",
       "    </tr>\n",
       "    <tr>\n",
       "      <th>6</th>\n",
       "      <td>recorded_month</td>\n",
       "      <td>280.0</td>\n",
       "    </tr>\n",
       "    <tr>\n",
       "      <th>7</th>\n",
       "      <td>amount_tsh_log</td>\n",
       "      <td>271.0</td>\n",
       "    </tr>\n",
       "    <tr>\n",
       "      <th>8</th>\n",
       "      <td>permit_False.1</td>\n",
       "      <td>180.0</td>\n",
       "    </tr>\n",
       "    <tr>\n",
       "      <th>9</th>\n",
       "      <td>basin_Wami / Ruvu</td>\n",
       "      <td>138.0</td>\n",
       "    </tr>\n",
       "    <tr>\n",
       "      <th>10</th>\n",
       "      <td>waterpoint_type_group_communal standpipe</td>\n",
       "      <td>107.0</td>\n",
       "    </tr>\n",
       "    <tr>\n",
       "      <th>11</th>\n",
       "      <td>public_meeting_False</td>\n",
       "      <td>106.0</td>\n",
       "    </tr>\n",
       "    <tr>\n",
       "      <th>12</th>\n",
       "      <td>extraction_type_class_submersible</td>\n",
       "      <td>105.0</td>\n",
       "    </tr>\n",
       "    <tr>\n",
       "      <th>13</th>\n",
       "      <td>extraction_type_class_gravity</td>\n",
       "      <td>102.0</td>\n",
       "    </tr>\n",
       "    <tr>\n",
       "      <th>14</th>\n",
       "      <td>public_meeting_True</td>\n",
       "      <td>99.0</td>\n",
       "    </tr>\n",
       "    <tr>\n",
       "      <th>15</th>\n",
       "      <td>region_Pwani</td>\n",
       "      <td>98.0</td>\n",
       "    </tr>\n",
       "    <tr>\n",
       "      <th>16</th>\n",
       "      <td>scheme_management_VWC</td>\n",
       "      <td>98.0</td>\n",
       "    </tr>\n",
       "    <tr>\n",
       "      <th>17</th>\n",
       "      <td>extraction_type_class_motorpump</td>\n",
       "      <td>96.0</td>\n",
       "    </tr>\n",
       "    <tr>\n",
       "      <th>18</th>\n",
       "      <td>payment_type_never pay</td>\n",
       "      <td>94.0</td>\n",
       "    </tr>\n",
       "    <tr>\n",
       "      <th>19</th>\n",
       "      <td>region_Shinyanga</td>\n",
       "      <td>92.0</td>\n",
       "    </tr>\n",
       "    <tr>\n",
       "      <th>20</th>\n",
       "      <td>region_Mtwara</td>\n",
       "      <td>89.0</td>\n",
       "    </tr>\n",
       "  </tbody>\n",
       "</table>\n",
       "</div>"
      ],
      "text/plain": [
       "                                  lgbm_feature  lgbm_importance\n",
       "rank                                                           \n",
       "1                                   lat_simple            911.0\n",
       "2                                  long_simple            878.0\n",
       "3                                   gps_height            807.0\n",
       "4                                     well_age            691.0\n",
       "5                               population_log            547.0\n",
       "6                               recorded_month            280.0\n",
       "7                               amount_tsh_log            271.0\n",
       "8                               permit_False.1            180.0\n",
       "9                            basin_Wami / Ruvu            138.0\n",
       "10    waterpoint_type_group_communal standpipe            107.0\n",
       "11                        public_meeting_False            106.0\n",
       "12           extraction_type_class_submersible            105.0\n",
       "13               extraction_type_class_gravity            102.0\n",
       "14                         public_meeting_True             99.0\n",
       "15                                region_Pwani             98.0\n",
       "16                       scheme_management_VWC             98.0\n",
       "17             extraction_type_class_motorpump             96.0\n",
       "18                      payment_type_never pay             94.0\n",
       "19                            region_Shinyanga             92.0\n",
       "20                               region_Mtwara             89.0"
      ]
     },
     "execution_count": 37,
     "metadata": {},
     "output_type": "execute_result"
    }
   ],
   "source": [
    "# Merge feature names and importance score into df\n",
    "features_names = pd.DataFrame(feature_list)\n",
    "lgbm_feature_importance_score = pd.DataFrame(lgbm_pipeline.steps[1][1].feature_importances_)\n",
    "lgbm_feature_importance = pd.concat([features_names, lgbm_feature_importance_score], axis=1)\n",
    "\n",
    "# Assign columns names\n",
    "new_cols = ['lgbm_feature', 'lgbm_importance']\n",
    "lgbm_feature_importance.columns = new_cols\n",
    "\n",
    "# Sort values by importance and show top 20\n",
    "lgbm_feature_importance = lgbm_feature_importance.sort_values('lgbm_importance', ascending=False).head(20)\n",
    "# insert ranking score\n",
    "lgbm_feature_importance['rank'] = range(1, 21)\n",
    "# set rank as index\n",
    "lgbm_feature_importance.set_index('rank', inplace=True)\n",
    "\n",
    "lgbm_feature_importance"
   ]
  },
  {
   "cell_type": "code",
   "execution_count": 38,
   "metadata": {},
   "outputs": [
    {
     "data": {
      "image/png": "[encoded data removed]",
      "text/plain": [
       "<Figure size 576x432 with 1 Axes>"
      ]
     },
     "metadata": {},
     "output_type": "display_data"
    }
   ],
   "source": [
    "# Plot rf feature importance\n",
    "# Set plot size\n",
    "fig, ax = plt.subplots(figsize=(8, 6))\n",
    "\n",
    "# Plot importance with correct lables\n",
    "g = sns.barplot(data=lgbm_feature_importance, x='lgbm_feature', y='lgbm_importance')\n",
    "g.set_xticklabels(lgbm_feature_importance.lgbm_feature, rotation=90);"
   ]
  },
  {
   "cell_type": "markdown",
   "metadata": {},
   "source": [
    "The coordinates and gps_height scorce very high, this might be of concern since these values contain a handful of imputations, if we failed with these imputations our model and redid them, perhaps our model can excel further."
   ]
  },
  {
   "cell_type": "markdown",
   "metadata": {},
   "source": [
    "## KNN\n",
    "K-Nearest Neighbors model. A simpler approach than random forest and LGBM."
   ]
  },
  {
   "cell_type": "code",
   "execution_count": 50,
   "metadata": {},
   "outputs": [],
   "source": [
    "# KNN requires scaled data \n",
    "# Scale train data\n",
    "scaled_train_data = scale(train_data)\n",
    "\n",
    "# Scale test data\n",
    "scaled_test_data = scale(test_data)"
   ]
  },
  {
   "cell_type": "code",
   "execution_count": 51,
   "metadata": {},
   "outputs": [],
   "source": [
    "# Split train_data into train(x) and validation(y) split -> use scaled data\n",
    "s_train_features, s_validation_features, s_train_labels, s_validation_labels = \\\n",
    "    train_test_split(scaled_train_data, target_labels, test_size=0.30, random_state=42)"
   ]
  },
  {
   "cell_type": "code",
   "execution_count": 7,
   "metadata": {},
   "outputs": [
    {
     "data": {
      "text/plain": [
       "KNeighborsClassifier(algorithm='auto', leaf_size=30, metric='minkowski',\n",
       "           metric_params=None, n_jobs=1, n_neighbors=3, p=2,\n",
       "           weights='uniform')"
      ]
     },
     "execution_count": 7,
     "metadata": {},
     "output_type": "execute_result"
    }
   ],
   "source": [
    "# instantiate learning model (k = 3)\n",
    "knn = KNeighborsClassifier(n_neighbors=3)\n",
    "\n",
    "# fitting the model\n",
    "knn.fit(s_train_features, s_train_labels)"
   ]
  },
  {
   "cell_type": "code",
   "execution_count": 8,
   "metadata": {},
   "outputs": [
    {
     "name": "stdout",
     "output_type": "stream",
     "text": [
      "Mean accuracy KNN score: 0.749\n"
     ]
    }
   ],
   "source": [
    "# predict the response\n",
    "knn_predicted = knn.predict(s_validation_features)\n",
    "knn_accuracy = accuracy_score(s_validation_labels, knn_predicted)\n",
    "\n",
    "print(f'Mean accuracy first KNN score: {knn_accuracy:.3}')"
   ]
  },
  {
   "cell_type": "code",
   "execution_count": 11,
   "metadata": {},
   "outputs": [],
   "source": [
    "# creating odd list of K for KNN\n",
    "neighbors = [1, 3, 5, 7, 9]\n",
    "\n",
    "# empty list that will hold cv scores\n",
    "cv_scores = []\n",
    "\n",
    "# perform 3-fold cross validation\n",
    "for k in neighbors:\n",
    "    # intilize model\n",
    "    knn = KNeighborsClassifier(n_neighbors=k)\n",
    "    # cross validate prediction accuracies\n",
    "    scores = cross_val_score(knn, s_train_features, s_train_labels, cv=3, scoring='accuracy')\n",
    "    # add cv score to cv scores\n",
    "    cv_scores.append(scores.mean())"
   ]
  },
  {
   "cell_type": "code",
   "execution_count": 59,
   "metadata": {},
   "outputs": [
    {
     "name": "stdout",
     "output_type": "stream",
     "text": [
      "The optimal number of neighbors is 5 with mean cv score: 0.740\n"
     ]
    }
   ],
   "source": [
    "# changing to misclassification error\n",
    "MSE = [1 - x for x in cv_scores]\n",
    "\n",
    "# determining highest cv_score\n",
    "highest_cv_score = max(cv_scores)\n",
    "# determining best k\n",
    "optimal_k = neighbors[MSE.index(min(MSE))]\n",
    "\n",
    "print(\"The optimal number of neighbors is %d with mean cv score: %.3f\" % (optimal_k, highest_cv_score))"
   ]
  },
  {
   "cell_type": "code",
   "execution_count": 61,
   "metadata": {},
   "outputs": [
    {
     "data": {
      "image/png": "[encoded data removed]",
      "text/plain": [
       "<Figure size 432x288 with 1 Axes>"
      ]
     },
     "metadata": {},
     "output_type": "display_data"
    }
   ],
   "source": [
    "# plot misclassification error vs k\n",
    "plt.plot(neighbors, cv_scores)\n",
    "plt.xlabel('Number of Neighbors K')\n",
    "plt.ylabel('Accuracy')\n",
    "plt.show()"
   ]
  },
  {
   "cell_type": "code",
   "execution_count": 122,
   "metadata": {},
   "outputs": [
    {
     "data": {
      "text/plain": [
       "KNeighborsClassifier(algorithm='auto', leaf_size=30, metric='minkowski',\n",
       "           metric_params=None, n_jobs=1, n_neighbors=5, p=2,\n",
       "           weights='uniform')"
      ]
     },
     "execution_count": 122,
     "metadata": {},
     "output_type": "execute_result"
    }
   ],
   "source": [
    "# final knn model with best neighbor (k = 5)\n",
    "final_knn = KNeighborsClassifier(n_neighbors=5)\n",
    "\n",
    "# fitting the model\n",
    "final_knn.fit(s_train_features, s_train_labels)"
   ]
  },
  {
   "cell_type": "code",
   "execution_count": 123,
   "metadata": {},
   "outputs": [
    {
     "name": "stdout",
     "output_type": "stream",
     "text": [
      "Mean accuracy final KNN score: 0.754\n"
     ]
    }
   ],
   "source": [
    "# predict the response\n",
    "knn_final_predicted = final_knn.predict(validation_features)\n",
    "knn_final_accuracy = accuracy_score(s_validation_labels, s_knn_final_predicted)\n",
    "\n",
    "#print(f'Mean accuracy first KNN score: {knn_accuracy:.3}')\n",
    "print(f'Mean accuracy final KNN score: {knn_final_accuracy:.3}')"
   ]
  },
  {
   "cell_type": "code",
   "execution_count": 64,
   "metadata": {},
   "outputs": [
    {
     "data": {
      "text/html": [
       "<div>\n",
       "<style scoped>\n",
       "    .dataframe tbody tr th:only-of-type {\n",
       "        vertical-align: middle;\n",
       "    }\n",
       "\n",
       "    .dataframe tbody tr th {\n",
       "        vertical-align: top;\n",
       "    }\n",
       "\n",
       "    .dataframe thead th {\n",
       "        text-align: right;\n",
       "    }\n",
       "</style>\n",
       "<table border=\"1\" class=\"dataframe\">\n",
       "  <thead>\n",
       "    <tr style=\"text-align: right;\">\n",
       "      <th></th>\n",
       "      <th>0</th>\n",
       "      <th>1</th>\n",
       "      <th>2</th>\n",
       "    </tr>\n",
       "  </thead>\n",
       "  <tbody>\n",
       "    <tr>\n",
       "      <th>0</th>\n",
       "      <td>6925</td>\n",
       "      <td>989</td>\n",
       "      <td>184</td>\n",
       "    </tr>\n",
       "    <tr>\n",
       "      <th>1</th>\n",
       "      <td>1609</td>\n",
       "      <td>3969</td>\n",
       "      <td>100</td>\n",
       "    </tr>\n",
       "    <tr>\n",
       "      <th>2</th>\n",
       "      <td>603</td>\n",
       "      <td>202</td>\n",
       "      <td>269</td>\n",
       "    </tr>\n",
       "  </tbody>\n",
       "</table>\n",
       "</div>"
      ],
      "text/plain": [
       "      0     1    2\n",
       "0  6925   989  184\n",
       "1  1609  3969  100\n",
       "2   603   202  269"
      ]
     },
     "execution_count": 64,
     "metadata": {},
     "output_type": "execute_result"
    }
   ],
   "source": [
    "# Create confusion matrix\n",
    "knn_confusion = pd.DataFrame(confusion_matrix(s_validation_labels, knn_final_predicted))\n",
    "knn_confusion"
   ]
  },
  {
   "cell_type": "markdown",
   "metadata": {},
   "source": [
    "Doesn't seem to give promising results, we move on. Perhaps the KNN is to simple to understand the rather complex relationship between data and targets."
   ]
  },
  {
   "cell_type": "markdown",
   "metadata": {},
   "source": [
    "###  LDA\n",
    "Linear discriminant analysis based model. Finds a linear combination of features that characterizes or separates our targets. We also tried to use PCA for dimension reducation and use these to compare against LDA, and also use dimensions for LDA model. These results were far inferior and therefore were dropped. "
   ]
  },
  {
   "cell_type": "code",
   "execution_count": 56,
   "metadata": {},
   "outputs": [
    {
     "data": {
      "text/plain": [
       "LinearDiscriminantAnalysis(n_components=None, priors=None, shrinkage=None,\n",
       "              solver='svd', store_covariance=False, tol=0.0001)"
      ]
     },
     "execution_count": 56,
     "metadata": {},
     "output_type": "execute_result"
    }
   ],
   "source": [
    "# define lda model\n",
    "lda = LinearDiscriminantAnalysis()\n",
    "\n",
    "# fitting model to pca data\n",
    "lda.fit(s_train_features, s_train_labels)"
   ]
  },
  {
   "cell_type": "code",
   "execution_count": 57,
   "metadata": {},
   "outputs": [
    {
     "name": "stdout",
     "output_type": "stream",
     "text": [
      "Mean accuracy first LDA score: 0.731\n"
     ]
    }
   ],
   "source": [
    "# predict the response\n",
    "lda_predicted = lda.predict(s_validation_features)\n",
    "lda_accuracy = accuracy_score(s_validation_labels, lda_predicted)\n",
    "\n",
    "print(f'Mean accuracy first LDA score: {lda_accuracy:.3}')"
   ]
  },
  {
   "cell_type": "code",
   "execution_count": 58,
   "metadata": {},
   "outputs": [
    {
     "name": "stdout",
     "output_type": "stream",
     "text": [
      "{'n_components': None,\n",
      " 'priors': None,\n",
      " 'shrinkage': None,\n",
      " 'solver': 'svd',\n",
      " 'store_covariance': False,\n",
      " 'tol': 0.0001}\n"
     ]
    }
   ],
   "source": [
    "pprint(lda.get_params())"
   ]
  },
  {
   "cell_type": "markdown",
   "metadata": {},
   "source": [
    "Doesn't seem to give promising results, we move on. Similar to KNN, the complexity of relationships can not efficiently be reducued to lower dimensions."
   ]
  },
  {
   "cell_type": "markdown",
   "metadata": {},
   "source": [
    "### LogisticRegression -  One vs All Classifier\n",
    "\n",
    "LogisticRegression with one vs all multiclass classification. Method to reduce multi-class problem into multiple binary problems."
   ]
  },
  {
   "cell_type": "code",
   "execution_count": 63,
   "metadata": {},
   "outputs": [
    {
     "data": {
      "text/plain": [
       "LogisticRegressionCV(Cs=10, class_weight=None, cv=3, dual=False,\n",
       "           fit_intercept=True, intercept_scaling=1.0, max_iter=20,\n",
       "           multi_class='ovr', n_jobs=1, penalty='l1', random_state=42,\n",
       "           refit=True, scoring='accuracy', solver='saga', tol=20,\n",
       "           verbose=0)"
      ]
     },
     "execution_count": 63,
     "metadata": {},
     "output_type": "execute_result"
    }
   ],
   "source": [
    "# define lr model\n",
    "lr_ova = LogisticRegressionCV(penalty='l1'\n",
    "    , scoring='accuracy'\n",
    "    , cv=3\n",
    "    , random_state=42\n",
    "    , max_iter=20\n",
    "    , fit_intercept=True\n",
    "    , solver='saga'\n",
    "    , tol=20\n",
    "    , multi_class = 'ovr')\n",
    "\n",
    "# fitting the model\n",
    "lr_ova.fit(s_train_features, s_train_labels)"
   ]
  },
  {
   "cell_type": "code",
   "execution_count": 64,
   "metadata": {},
   "outputs": [
    {
     "name": "stdout",
     "output_type": "stream",
     "text": [
      "Mean accuracy first lr_ova score: 0.734\n"
     ]
    }
   ],
   "source": [
    "# predict the response\n",
    "lr_ova_predicted = lr_ova.predict(s_validation_features)\n",
    "lr_ova_accuracy = accuracy_score(s_validation_labels, lr_ova_predicted)\n",
    "\n",
    "print(f'Mean accuracy first lr_ova score: {lr_ova_accuracy:.3}')"
   ]
  },
  {
   "cell_type": "markdown",
   "metadata": {},
   "source": [
    "Doesn't seem to give promising results, we move on. This bad result is probably due the our targets being unbalanced. There are not enough samples of class non-functional / repairs to conclusively understand when to classify a new samples. "
   ]
  },
  {
   "cell_type": "markdown",
   "metadata": {},
   "source": [
    "##  Stacking Models\n",
    "In this section we will try to stack our best model and see if they can complement eachother and thereby product better predictions."
   ]
  },
  {
   "cell_type": "code",
   "execution_count": 65,
   "metadata": {},
   "outputs": [],
   "source": [
    "# Stacking classifer\n",
    "# Define the method for meta classifing\n",
    "# lgbm_class = lgb.LGBMClassifier() -> tested: not better\n",
    "# rforest_class = RandomForestClassifier(n_estimators=100, random_state=42) -> tested: not better\n",
    "lr = LogisticRegression()\n",
    "clf1 = rf_pipeline_rand_cv.best_estimator_\n",
    "clf2 = lgbm_pipeline_rand_cv.best_estimator_\n",
    "\n",
    "# Define stacking classifier\n",
    "sclf = StackingClassifier(classifiers=[clf1, clf2], \n",
    "                          meta_classifier=lr)\n",
    "\n",
    "# Define name of models and stack classifier\n",
    "labels = ['RandomForest', 'LightGBM', 'LRStack']\n",
    "\n",
    "# Define classifer list\n",
    "clf_list = [clf1, clf2, sclf]"
   ]
  },
  {
   "cell_type": "code",
   "execution_count": 66,
   "metadata": {},
   "outputs": [
    {
     "name": "stdout",
     "output_type": "stream",
     "text": [
      "Accuracy: 0.808 (+/- 0.000) [RandomForest]\n",
      "Accuracy: 0.797 (+/- 0.001) [LightGBM]\n",
      "Accuracy: 0.791 (+/- 0.000) [LRStack]\n"
     ]
    }
   ],
   "source": [
    "# Assing empty lists for cross validation mean scores and std\n",
    "clf_cv_mean = []\n",
    "clf_cv_std = []\n",
    "\n",
    "# Cross validate each model and plot average score\n",
    "for clf, label in zip(clf_list, labels):\n",
    "        \n",
    "    scores = cross_val_score(clf, train_data, target_labels, cv=3, scoring='accuracy')\n",
    "    print(\"Accuracy: %.3f (+/- %.3f) [%s]\" %(scores.mean(), scores.std(), label))\n",
    "    clf_cv_mean.append(scores.mean())\n",
    "    clf_cv_std.append(scores.std())"
   ]
  },
  {
   "cell_type": "code",
   "execution_count": 70,
   "metadata": {},
   "outputs": [
    {
     "data": {
      "image/png": "[encoded data removed]",
      "text/plain": [
       "<Figure size 576x432 with 1 Axes>"
      ]
     },
     "metadata": {},
     "output_type": "display_data"
    }
   ],
   "source": [
    "# Plot the accurancy of the different models\n",
    "plt.figure(figsize=(8, 6))\n",
    "\n",
    "(_, caps, _) = plt.errorbar(range(3), clf_cv_mean, yerr=clf_cv_std, c='blue', fmt='-o', capsize=5)\n",
    "\n",
    "for cap in caps:\n",
    "    cap.set_markeredgewidth(1)                                                                                                                                \n",
    "\n",
    "plt.xticks(range(3), ['RandomForest', 'LightGBM', 'LRStack'])        \n",
    "plt.ylabel('Accuracy'); plt.xlabel('Classifier'); plt.title('Stacking Ensemble');\n",
    "plt.show()"
   ]
  },
  {
   "cell_type": "markdown",
   "metadata": {},
   "source": [
    "The stacked model do not manage to do a better prediction than our the induvidual models. This is most likely due to both model having very similar way of predicting. The confusion matrices have the same pattern and therefore we get worse results as the meta classifier stuggles to determine what model to use for different instances. "
   ]
  },
  {
   "cell_type": "markdown",
   "metadata": {},
   "source": [
    "### Final Model\n",
    "We have tried a range of model and conclude that the random forest is the best model and proceed to make a final submission based on this model."
   ]
  },
  {
   "cell_type": "code",
   "execution_count": 71,
   "metadata": {},
   "outputs": [
    {
     "data": {
      "text/plain": [
       "Pipeline(memory=None,\n",
       "     steps=[('feature_selection', SelectKBest(k=110, score_func=<function f_classif at 0x1a0fd12b70>)), ('my_classifier', RandomForestClassifier(bootstrap=False, class_weight=None, criterion='gini',\n",
       "            max_depth=40, max_features='auto', max_leaf_nodes=None,\n",
       "            min_impurity_decrease=0.0,...n_jobs=1,\n",
       "            oob_score=False, random_state=None, verbose=0,\n",
       "            warm_start=False))])"
      ]
     },
     "execution_count": 71,
     "metadata": {},
     "output_type": "execute_result"
    }
   ],
   "source": [
    "# Fit model\n",
    "rf_pipeline_rand_cv.best_estimator_.fit(train_data_np, target_labels_np)"
   ]
  },
  {
   "cell_type": "code",
   "execution_count": 75,
   "metadata": {},
   "outputs": [],
   "source": [
    "# Make predictions for test data, input into new df\n",
    "final_predictions = pd.DataFrame(rf_pipeline_rand_cv.best_estimator_.predict(test_data_np))"
   ]
  },
  {
   "cell_type": "markdown",
   "metadata": {},
   "source": [
    "## 10. Submission\n",
    "Write prediction to submission.csv"
   ]
  },
  {
   "cell_type": "code",
   "execution_count": 76,
   "metadata": {},
   "outputs": [],
   "source": [
    "# New df\n",
    "submission = pd.DataFrame()\n",
    "\n",
    "# Import id from test_data index\n",
    "submission['id'] = test_data.index\n",
    "\n",
    "# import status_group predictions \n",
    "submission['status_group'] = final_predictions\n",
    "\n",
    "# convert numerical to description\n",
    "submission.loc[submission.status_group == 0, 'status_group'] = 'functional'\n",
    "submission.loc[submission.status_group == 1, 'status_group'] = 'non functional'\n",
    "submission.loc[submission.status_group == 2, 'status_group'] = 'functional needs repair'"
   ]
  },
  {
   "cell_type": "code",
   "execution_count": 77,
   "metadata": {},
   "outputs": [
    {
     "data": {
      "text/html": [
       "<div>\n",
       "<style scoped>\n",
       "    .dataframe tbody tr th:only-of-type {\n",
       "        vertical-align: middle;\n",
       "    }\n",
       "\n",
       "    .dataframe tbody tr th {\n",
       "        vertical-align: top;\n",
       "    }\n",
       "\n",
       "    .dataframe thead th {\n",
       "        text-align: right;\n",
       "    }\n",
       "</style>\n",
       "<table border=\"1\" class=\"dataframe\">\n",
       "  <thead>\n",
       "    <tr style=\"text-align: right;\">\n",
       "      <th></th>\n",
       "      <th>id</th>\n",
       "      <th>status_group</th>\n",
       "    </tr>\n",
       "  </thead>\n",
       "  <tbody>\n",
       "    <tr>\n",
       "      <th>0</th>\n",
       "      <td>50785</td>\n",
       "      <td>non functional</td>\n",
       "    </tr>\n",
       "    <tr>\n",
       "      <th>1</th>\n",
       "      <td>51630</td>\n",
       "      <td>functional</td>\n",
       "    </tr>\n",
       "    <tr>\n",
       "      <th>2</th>\n",
       "      <td>17168</td>\n",
       "      <td>functional</td>\n",
       "    </tr>\n",
       "    <tr>\n",
       "      <th>3</th>\n",
       "      <td>45559</td>\n",
       "      <td>non functional</td>\n",
       "    </tr>\n",
       "    <tr>\n",
       "      <th>4</th>\n",
       "      <td>49871</td>\n",
       "      <td>functional</td>\n",
       "    </tr>\n",
       "  </tbody>\n",
       "</table>\n",
       "</div>"
      ],
      "text/plain": [
       "      id    status_group\n",
       "0  50785  non functional\n",
       "1  51630      functional\n",
       "2  17168      functional\n",
       "3  45559  non functional\n",
       "4  49871      functional"
      ]
     },
     "execution_count": 77,
     "metadata": {},
     "output_type": "execute_result"
    }
   ],
   "source": [
    "# Preview\n",
    "submission.head()"
   ]
  },
  {
   "cell_type": "code",
   "execution_count": 78,
   "metadata": {},
   "outputs": [],
   "source": [
    "# Write submission to csv\n",
    "submission.to_csv('submission_final.csv', sep=',', index=False)"
   ]
  },
  {
   "cell_type": "markdown",
   "metadata": {},
   "source": [
    "### Conclusion\n",
    "Our final submission scores 0.8162 on Data Driven, which places us within the top 500 on the leaderboard.\n",
    "<br>\n",
    "\n",
    "**Considerations**\n",
    "<br>\n",
    "To improve our score we should go back to data preporcessing and try to make better imputations for NaNs and incorrect values. Additionally, we can try to do more comprehensive feature engineering and thus find more information that can boost the predictive capability of our model."
   ]
  },
  {
   "cell_type": "code",
   "execution_count": null,
   "metadata": {},
   "outputs": [],
   "source": []
  }
 ],
 "metadata": {
  "kernelspec": {
   "display_name": "Python 3",
   "language": "python",
   "name": "python3"
  },
  "language_info": {
   "codemirror_mode": {
    "name": "ipython",
    "version": 3
   },
   "file_extension": ".py",
   "mimetype": "text/x-python",
   "name": "python",
   "nbconvert_exporter": "python",
   "pygments_lexer": "ipython3",
   "version": "3.6.4"
  }
 },
 "nbformat": 4,
 "nbformat_minor": 2
}
