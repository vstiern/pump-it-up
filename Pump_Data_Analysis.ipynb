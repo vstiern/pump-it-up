{
 "cells": [
  {
   "cell_type": "markdown",
   "metadata": {},
   "source": [
    "# Data Driven: Pump It Up (1/3)\n",
    "\n",
    "**Vilhelm Stiernstedt & Camillo Baratta**\n",
    "<br>\n",
    "** Date: 14/03/2018**\n",
    "\n",
    "** Instructions **\n",
    "<br>\n",
    "Using data from Taarifa and the Tanzanian Ministry of Water, can you predict which pumps are functional, which need some repairs, and which don't work at all? This is an intermediate-level practice competition. Predict one of these three classes based on a number of variables about what kind of pump is operating, when it was installed, and how it is managed. A smart understanding of which waterpoints will fail can improve maintenance operations and ensure that clean, potable water is available to communities across Tanzania.\n",
    "<br>\n",
    "<br>\n",
    "** Goal **\n",
    "<br>\n",
    "Your goal is to predict the operating condition of a waterpoint for each record in the dataset.\n",
    "The labels in this dataset are simple. There are three possible values:\n",
    "\n",
    "- functional - the waterpoint is operational and there are no repairs needed\n",
    "- functional needs repair - the waterpoint is operational, but needs repairs\n",
    "- non functional - the waterpoint is not operational\n",
    "\n",
    "**Plan**\n",
    "1. Import libraries\n",
    "2. Import data\n",
    "3. Data description\n",
    "4. Feature analysis\n",
    "5. Data cleaning\n",
    "    - Impute missing values\n",
    "    - Outlier treatment\n",
    "6. Feature engineering\n",
    "    - Transformation\n",
    "    - Binning\n",
    "    - New features\n",
    "7. Feature selection\n",
    "    - Drop irrelevant features\n",
    "8. Modelling Preparation\n",
    "    - One-hot encoding\n",
    "    - Test/train split\n",
    "9. Modelling\n",
    "    - Randomforest model\n",
    "    - Light GBM\n",
    "    - KNN\n",
    "    - LDA\n",
    "    - LR-OVR (OneVsAll)\n",
    "    - Stacked Model\n",
    "10. Submission\n",
    "\n",
    "<br>\n",
    "** Notebooks used in project:**\n",
    "<br>\n",
    "The different steps are distrubuted over 3 notebooks:\n",
    "1. Data Analysis - step 1-4 (Pump_Data_Analysis)\n",
    "2. Data Preparation - steps 5-8 (Pump_Data_Preparation)\n",
    "3. Data Modelling - steps 9-10 (Pump_Models)"
   ]
  },
  {
   "cell_type": "markdown",
   "metadata": {},
   "source": [
    "## 1. Import Libaries & Settings"
   ]
  },
  {
   "cell_type": "code",
   "execution_count": 3,
   "metadata": {},
   "outputs": [],
   "source": [
    "# Import libaries\n",
    "import datetime as dt\n",
    "import matplotlib.pyplot as plt\n",
    "import numpy as np\n",
    "import pandas as pd\n",
    "from pprint import pprint\n",
    "import seaborn as sns\n",
    "\n",
    "# Pandas settings\n",
    "pd.set_option('display.max_columns', 100)\n",
    "\n",
    "# Plot settings\n",
    "%matplotlib inline"
   ]
  },
  {
   "cell_type": "markdown",
   "metadata": {},
   "source": [
    "## 2. Import Data\n",
    "1. Load csv files:\n",
    "    - train_values\n",
    "    - train_labels\n",
    "    - test_values\n",
    "2. Merge train_values and train_labels into **train** - use this df for all data analysis.\n",
    "3. Merge train with test_values into **all_data** - use this df for all cleaning and then split train and test before modelling.\n",
    "3. Write files to csv for storage."
   ]
  },
  {
   "cell_type": "code",
   "execution_count": 4,
   "metadata": {},
   "outputs": [],
   "source": [
    "# Data Processing\n",
    "# Import data\n",
    "train_values = pd.read_csv(\"data/train_set_values.csv\", sep=\",\")\n",
    "train_labels = pd.read_csv(\"data/train_set_labels.csv\", sep=\",\")\n",
    "test = pd.read_csv(\"data/test.csv\", sep=\",\")\n",
    "\n",
    "# Merge train with train_labels\n",
    "train = train_values.merge(train_labels, on='id', how='inner')\n",
    "\n",
    "# Merge train with test_values\n",
    "all_data = train.append(test)\n",
    "\n",
    "# Set  id index\n",
    "all_data.set_index('id', inplace=True)\n",
    "train_labels.set_index('id', inplace=True)\n",
    "train.set_index('id', inplace=True)\n",
    "test.set_index('id', inplace=True)\n",
    "\n",
    "# Write to csv\n",
    "#train.to_csv('data/train.csv', sep=',')\n",
    "#test.to_csv('data/test.csv', sep=',')\n",
    "#all_data.to_csv('data/all_data.csv', sep=',')"
   ]
  },
  {
   "cell_type": "markdown",
   "metadata": {},
   "source": [
    "## 3. Data Description\n",
    "1. Establish data types\n",
    "2. Transform data types if necessary\n",
    "3. Create dfs for numerical and categorical variables\n",
    "4. Inspect numerical variables\n",
    "5. Inspect categorical variables\n",
    "6. Group parameters"
   ]
  },
  {
   "cell_type": "code",
   "execution_count": 5,
   "metadata": {},
   "outputs": [
    {
     "data": {
      "text/plain": [
       "population                 int64\n",
       "construction_year          int64\n",
       "region_code                int64\n",
       "district_code              int64\n",
       "num_private                int64\n",
       "gps_height                 int64\n",
       "amount_tsh               float64\n",
       "longitude                float64\n",
       "latitude                 float64\n",
       "status_group              object\n",
       "source_class              object\n",
       "quantity_group            object\n",
       "source                    object\n",
       "subvillage                object\n",
       "scheme_name               object\n",
       "scheme_management         object\n",
       "ward                      object\n",
       "water_quality             object\n",
       "region                    object\n",
       "recorded_by               object\n",
       "waterpoint_type           object\n",
       "source_type               object\n",
       "quantity                  object\n",
       "permit                    object\n",
       "public_meeting            object\n",
       "waterpoint_type_group     object\n",
       "payment_type              object\n",
       "payment                   object\n",
       "management_group          object\n",
       "management                object\n",
       "lga                       object\n",
       "installer                 object\n",
       "funder                    object\n",
       "extraction_type_group     object\n",
       "extraction_type_class     object\n",
       "extraction_type           object\n",
       "date_recorded             object\n",
       "basin                     object\n",
       "quality_group             object\n",
       "wpt_name                  object\n",
       "dtype: object"
      ]
     },
     "execution_count": 5,
     "metadata": {},
     "output_type": "execute_result"
    }
   ],
   "source": [
    "# Show datatype of all variables\n",
    "all_data.dtypes.sort_values()"
   ]
  },
  {
   "cell_type": "markdown",
   "metadata": {},
   "source": [
    "### Transform data types\n",
    "date_recorded -> string to datetime"
   ]
  },
  {
   "cell_type": "code",
   "execution_count": 6,
   "metadata": {},
   "outputs": [],
   "source": [
    "# Transform dtypes\n",
    "# Numerical to datetime (Year-MM-DD)\n",
    "all_data.date_recorded = pd.to_datetime(all_data.date_recorded,\n",
    "                                        errors='ignore',\n",
    "                                        format='%Y-%m-%d')\n",
    "\n",
    "train.date_recorded = pd.to_datetime(train.date_recorded,\n",
    "                                     errors='ignore',\n",
    "                                     format='%Y-%m-%d')\n",
    "\n",
    "test.date_recorded = pd.to_datetime(test.date_recorded,\n",
    "                                    errors='ignore',\n",
    "                                    format='%Y-%m-%d')"
   ]
  },
  {
   "cell_type": "markdown",
   "metadata": {},
   "source": [
    "### Create dfs for numerical and categorical variables"
   ]
  },
  {
   "cell_type": "code",
   "execution_count": 7,
   "metadata": {},
   "outputs": [],
   "source": [
    "# Subset data for categorical Values\n",
    "all_cat_vars = all_data.select_dtypes(include=['object'])\n",
    "\n",
    "# Subset data for numerical values\n",
    "all_num_vars = all_data.select_dtypes(exclude=['object'])"
   ]
  },
  {
   "cell_type": "markdown",
   "metadata": {},
   "source": [
    "### Inspect numercial variables"
   ]
  },
  {
   "cell_type": "code",
   "execution_count": 8,
   "metadata": {},
   "outputs": [
    {
     "data": {
      "text/html": [
       "<div>\n",
       "<style scoped>\n",
       "    .dataframe tbody tr th:only-of-type {\n",
       "        vertical-align: middle;\n",
       "    }\n",
       "\n",
       "    .dataframe tbody tr th {\n",
       "        vertical-align: top;\n",
       "    }\n",
       "\n",
       "    .dataframe thead th {\n",
       "        text-align: right;\n",
       "    }\n",
       "</style>\n",
       "<table border=\"1\" class=\"dataframe\">\n",
       "  <thead>\n",
       "    <tr style=\"text-align: right;\">\n",
       "      <th></th>\n",
       "      <th>amount_tsh</th>\n",
       "      <th>construction_year</th>\n",
       "      <th>district_code</th>\n",
       "      <th>gps_height</th>\n",
       "      <th>latitude</th>\n",
       "      <th>longitude</th>\n",
       "      <th>num_private</th>\n",
       "      <th>population</th>\n",
       "      <th>region_code</th>\n",
       "    </tr>\n",
       "  </thead>\n",
       "  <tbody>\n",
       "    <tr>\n",
       "      <th>count</th>\n",
       "      <td>74250.000000</td>\n",
       "      <td>74250.000000</td>\n",
       "      <td>74250.000000</td>\n",
       "      <td>74250.000000</td>\n",
       "      <td>7.425000e+04</td>\n",
       "      <td>74250.000000</td>\n",
       "      <td>74250.000000</td>\n",
       "      <td>74250.000000</td>\n",
       "      <td>74250.000000</td>\n",
       "    </tr>\n",
       "    <tr>\n",
       "      <th>mean</th>\n",
       "      <td>318.685704</td>\n",
       "      <td>1298.463650</td>\n",
       "      <td>5.629077</td>\n",
       "      <td>665.667313</td>\n",
       "      <td>-5.701771e+00</td>\n",
       "      <td>34.074262</td>\n",
       "      <td>0.462330</td>\n",
       "      <td>180.750828</td>\n",
       "      <td>15.265414</td>\n",
       "    </tr>\n",
       "    <tr>\n",
       "      <th>std</th>\n",
       "      <td>2906.762364</td>\n",
       "      <td>952.349375</td>\n",
       "      <td>9.641636</td>\n",
       "      <td>692.761033</td>\n",
       "      <td>2.944969e+00</td>\n",
       "      <td>6.572519</td>\n",
       "      <td>11.537879</td>\n",
       "      <td>471.086120</td>\n",
       "      <td>17.508907</td>\n",
       "    </tr>\n",
       "    <tr>\n",
       "      <th>min</th>\n",
       "      <td>0.000000</td>\n",
       "      <td>0.000000</td>\n",
       "      <td>0.000000</td>\n",
       "      <td>-90.000000</td>\n",
       "      <td>-1.164944e+01</td>\n",
       "      <td>0.000000</td>\n",
       "      <td>0.000000</td>\n",
       "      <td>0.000000</td>\n",
       "      <td>1.000000</td>\n",
       "    </tr>\n",
       "    <tr>\n",
       "      <th>25%</th>\n",
       "      <td>0.000000</td>\n",
       "      <td>0.000000</td>\n",
       "      <td>2.000000</td>\n",
       "      <td>0.000000</td>\n",
       "      <td>-8.525675e+00</td>\n",
       "      <td>33.086819</td>\n",
       "      <td>0.000000</td>\n",
       "      <td>0.000000</td>\n",
       "      <td>5.000000</td>\n",
       "    </tr>\n",
       "    <tr>\n",
       "      <th>50%</th>\n",
       "      <td>0.000000</td>\n",
       "      <td>1986.000000</td>\n",
       "      <td>3.000000</td>\n",
       "      <td>364.000000</td>\n",
       "      <td>-5.026540e+00</td>\n",
       "      <td>34.907475</td>\n",
       "      <td>0.000000</td>\n",
       "      <td>25.000000</td>\n",
       "      <td>12.000000</td>\n",
       "    </tr>\n",
       "    <tr>\n",
       "      <th>75%</th>\n",
       "      <td>20.000000</td>\n",
       "      <td>2004.000000</td>\n",
       "      <td>5.000000</td>\n",
       "      <td>1317.000000</td>\n",
       "      <td>-3.325058e+00</td>\n",
       "      <td>37.181685</td>\n",
       "      <td>0.000000</td>\n",
       "      <td>215.000000</td>\n",
       "      <td>17.000000</td>\n",
       "    </tr>\n",
       "    <tr>\n",
       "      <th>max</th>\n",
       "      <td>350000.000000</td>\n",
       "      <td>2013.000000</td>\n",
       "      <td>80.000000</td>\n",
       "      <td>2777.000000</td>\n",
       "      <td>-2.000000e-08</td>\n",
       "      <td>40.345193</td>\n",
       "      <td>1776.000000</td>\n",
       "      <td>30500.000000</td>\n",
       "      <td>99.000000</td>\n",
       "    </tr>\n",
       "  </tbody>\n",
       "</table>\n",
       "</div>"
      ],
      "text/plain": [
       "          amount_tsh  construction_year  district_code    gps_height  \\\n",
       "count   74250.000000       74250.000000   74250.000000  74250.000000   \n",
       "mean      318.685704        1298.463650       5.629077    665.667313   \n",
       "std      2906.762364         952.349375       9.641636    692.761033   \n",
       "min         0.000000           0.000000       0.000000    -90.000000   \n",
       "25%         0.000000           0.000000       2.000000      0.000000   \n",
       "50%         0.000000        1986.000000       3.000000    364.000000   \n",
       "75%        20.000000        2004.000000       5.000000   1317.000000   \n",
       "max    350000.000000        2013.000000      80.000000   2777.000000   \n",
       "\n",
       "           latitude     longitude   num_private    population   region_code  \n",
       "count  7.425000e+04  74250.000000  74250.000000  74250.000000  74250.000000  \n",
       "mean  -5.701771e+00     34.074262      0.462330    180.750828     15.265414  \n",
       "std    2.944969e+00      6.572519     11.537879    471.086120     17.508907  \n",
       "min   -1.164944e+01      0.000000      0.000000      0.000000      1.000000  \n",
       "25%   -8.525675e+00     33.086819      0.000000      0.000000      5.000000  \n",
       "50%   -5.026540e+00     34.907475      0.000000     25.000000     12.000000  \n",
       "75%   -3.325058e+00     37.181685      0.000000    215.000000     17.000000  \n",
       "max   -2.000000e-08     40.345193   1776.000000  30500.000000     99.000000  "
      ]
     },
     "execution_count": 8,
     "metadata": {},
     "output_type": "execute_result"
    }
   ],
   "source": [
    "# Describe numerical variables\n",
    "all_num_vars.describe()"
   ]
  },
  {
   "cell_type": "markdown",
   "metadata": {},
   "source": [
    "### Inspect categorical variables"
   ]
  },
  {
   "cell_type": "code",
   "execution_count": 9,
   "metadata": {},
   "outputs": [
    {
     "data": {
      "text/html": [
       "<div>\n",
       "<style scoped>\n",
       "    .dataframe tbody tr th:only-of-type {\n",
       "        vertical-align: middle;\n",
       "    }\n",
       "\n",
       "    .dataframe tbody tr th {\n",
       "        vertical-align: top;\n",
       "    }\n",
       "\n",
       "    .dataframe thead th {\n",
       "        text-align: right;\n",
       "    }\n",
       "</style>\n",
       "<table border=\"1\" class=\"dataframe\">\n",
       "  <thead>\n",
       "    <tr style=\"text-align: right;\">\n",
       "      <th></th>\n",
       "      <th>basin</th>\n",
       "      <th>extraction_type</th>\n",
       "      <th>extraction_type_class</th>\n",
       "      <th>extraction_type_group</th>\n",
       "      <th>funder</th>\n",
       "      <th>installer</th>\n",
       "      <th>lga</th>\n",
       "      <th>management</th>\n",
       "      <th>management_group</th>\n",
       "      <th>payment</th>\n",
       "      <th>payment_type</th>\n",
       "      <th>permit</th>\n",
       "      <th>public_meeting</th>\n",
       "      <th>quality_group</th>\n",
       "      <th>quantity</th>\n",
       "      <th>quantity_group</th>\n",
       "      <th>recorded_by</th>\n",
       "      <th>region</th>\n",
       "      <th>scheme_management</th>\n",
       "      <th>scheme_name</th>\n",
       "      <th>source</th>\n",
       "      <th>source_class</th>\n",
       "      <th>source_type</th>\n",
       "      <th>status_group</th>\n",
       "      <th>subvillage</th>\n",
       "      <th>ward</th>\n",
       "      <th>water_quality</th>\n",
       "      <th>waterpoint_type</th>\n",
       "      <th>waterpoint_type_group</th>\n",
       "      <th>wpt_name</th>\n",
       "    </tr>\n",
       "  </thead>\n",
       "  <tbody>\n",
       "    <tr>\n",
       "      <th>count</th>\n",
       "      <td>74250</td>\n",
       "      <td>74250</td>\n",
       "      <td>74250</td>\n",
       "      <td>74250</td>\n",
       "      <td>69746</td>\n",
       "      <td>69718</td>\n",
       "      <td>74250</td>\n",
       "      <td>74250</td>\n",
       "      <td>74250</td>\n",
       "      <td>74250</td>\n",
       "      <td>74250</td>\n",
       "      <td>70457</td>\n",
       "      <td>70095</td>\n",
       "      <td>74250</td>\n",
       "      <td>74250</td>\n",
       "      <td>74250</td>\n",
       "      <td>74250</td>\n",
       "      <td>74250</td>\n",
       "      <td>69404</td>\n",
       "      <td>38992</td>\n",
       "      <td>74250</td>\n",
       "      <td>74250</td>\n",
       "      <td>74250</td>\n",
       "      <td>59400</td>\n",
       "      <td>73780</td>\n",
       "      <td>74250</td>\n",
       "      <td>74250</td>\n",
       "      <td>74250</td>\n",
       "      <td>74250</td>\n",
       "      <td>74250</td>\n",
       "    </tr>\n",
       "    <tr>\n",
       "      <th>unique</th>\n",
       "      <td>9</td>\n",
       "      <td>18</td>\n",
       "      <td>7</td>\n",
       "      <td>13</td>\n",
       "      <td>2140</td>\n",
       "      <td>2410</td>\n",
       "      <td>125</td>\n",
       "      <td>12</td>\n",
       "      <td>5</td>\n",
       "      <td>7</td>\n",
       "      <td>7</td>\n",
       "      <td>2</td>\n",
       "      <td>2</td>\n",
       "      <td>6</td>\n",
       "      <td>5</td>\n",
       "      <td>5</td>\n",
       "      <td>1</td>\n",
       "      <td>21</td>\n",
       "      <td>12</td>\n",
       "      <td>2868</td>\n",
       "      <td>10</td>\n",
       "      <td>3</td>\n",
       "      <td>7</td>\n",
       "      <td>3</td>\n",
       "      <td>21425</td>\n",
       "      <td>2098</td>\n",
       "      <td>8</td>\n",
       "      <td>7</td>\n",
       "      <td>6</td>\n",
       "      <td>45684</td>\n",
       "    </tr>\n",
       "    <tr>\n",
       "      <th>top</th>\n",
       "      <td>Lake Victoria</td>\n",
       "      <td>gravity</td>\n",
       "      <td>gravity</td>\n",
       "      <td>gravity</td>\n",
       "      <td>Government Of Tanzania</td>\n",
       "      <td>DWE</td>\n",
       "      <td>Njombe</td>\n",
       "      <td>vwc</td>\n",
       "      <td>user-group</td>\n",
       "      <td>never pay</td>\n",
       "      <td>never pay</td>\n",
       "      <td>True</td>\n",
       "      <td>True</td>\n",
       "      <td>good</td>\n",
       "      <td>enough</td>\n",
       "      <td>enough</td>\n",
       "      <td>GeoData Consultants Ltd</td>\n",
       "      <td>Iringa</td>\n",
       "      <td>VWC</td>\n",
       "      <td>K</td>\n",
       "      <td>spring</td>\n",
       "      <td>groundwater</td>\n",
       "      <td>spring</td>\n",
       "      <td>functional</td>\n",
       "      <td>Shuleni</td>\n",
       "      <td>Igosi</td>\n",
       "      <td>soft</td>\n",
       "      <td>communal standpipe</td>\n",
       "      <td>communal standpipe</td>\n",
       "      <td>none</td>\n",
       "    </tr>\n",
       "    <tr>\n",
       "      <th>freq</th>\n",
       "      <td>12871</td>\n",
       "      <td>33263</td>\n",
       "      <td>33263</td>\n",
       "      <td>33263</td>\n",
       "      <td>11299</td>\n",
       "      <td>21751</td>\n",
       "      <td>3128</td>\n",
       "      <td>50624</td>\n",
       "      <td>65538</td>\n",
       "      <td>31712</td>\n",
       "      <td>31712</td>\n",
       "      <td>48606</td>\n",
       "      <td>63749</td>\n",
       "      <td>63505</td>\n",
       "      <td>41522</td>\n",
       "      <td>41522</td>\n",
       "      <td>74250</td>\n",
       "      <td>6599</td>\n",
       "      <td>45917</td>\n",
       "      <td>858</td>\n",
       "      <td>21216</td>\n",
       "      <td>57286</td>\n",
       "      <td>21216</td>\n",
       "      <td>32259</td>\n",
       "      <td>646</td>\n",
       "      <td>386</td>\n",
       "      <td>63505</td>\n",
       "      <td>35628</td>\n",
       "      <td>43239</td>\n",
       "      <td>4440</td>\n",
       "    </tr>\n",
       "  </tbody>\n",
       "</table>\n",
       "</div>"
      ],
      "text/plain": [
       "                basin extraction_type extraction_type_class  \\\n",
       "count           74250           74250                 74250   \n",
       "unique              9              18                     7   \n",
       "top     Lake Victoria         gravity               gravity   \n",
       "freq            12871           33263                 33263   \n",
       "\n",
       "       extraction_type_group                  funder installer     lga  \\\n",
       "count                  74250                   69746     69718   74250   \n",
       "unique                    13                    2140      2410     125   \n",
       "top                  gravity  Government Of Tanzania       DWE  Njombe   \n",
       "freq                   33263                   11299     21751    3128   \n",
       "\n",
       "       management management_group    payment payment_type permit  \\\n",
       "count       74250            74250      74250        74250  70457   \n",
       "unique         12                5          7            7      2   \n",
       "top           vwc       user-group  never pay    never pay   True   \n",
       "freq        50624            65538      31712        31712  48606   \n",
       "\n",
       "       public_meeting quality_group quantity quantity_group  \\\n",
       "count           70095         74250    74250          74250   \n",
       "unique              2             6        5              5   \n",
       "top              True          good   enough         enough   \n",
       "freq            63749         63505    41522          41522   \n",
       "\n",
       "                    recorded_by  region scheme_management scheme_name  source  \\\n",
       "count                     74250   74250             69404       38992   74250   \n",
       "unique                        1      21                12        2868      10   \n",
       "top     GeoData Consultants Ltd  Iringa               VWC           K  spring   \n",
       "freq                      74250    6599             45917         858   21216   \n",
       "\n",
       "       source_class source_type status_group subvillage   ward water_quality  \\\n",
       "count         74250       74250        59400      73780  74250         74250   \n",
       "unique            3           7            3      21425   2098             8   \n",
       "top     groundwater      spring   functional    Shuleni  Igosi          soft   \n",
       "freq          57286       21216        32259        646    386         63505   \n",
       "\n",
       "           waterpoint_type waterpoint_type_group wpt_name  \n",
       "count                74250                 74250    74250  \n",
       "unique                   7                     6    45684  \n",
       "top     communal standpipe    communal standpipe     none  \n",
       "freq                 35628                 43239     4440  "
      ]
     },
     "execution_count": 9,
     "metadata": {},
     "output_type": "execute_result"
    }
   ],
   "source": [
    "# Describe categorical variables\n",
    "all_cat_vars.describe()"
   ]
  },
  {
   "cell_type": "markdown",
   "metadata": {},
   "source": [
    "### Group Parameters\n",
    "\n",
    "**Target Paramenter**\n",
    "- status_group\n",
    "\n",
    "**Well Parameters**\n",
    "- amount_tsh (water remaining)\n",
    "- basin\n",
    "- construction_year\n",
    "- extraction_type_class\n",
    "- extraction_type\n",
    "- extraction_type_group\n",
    "- gps_height\n",
    "- quantity\n",
    "- quantity_group \n",
    "- source \n",
    "- source_type\n",
    "- source_class\n",
    "- wpt_name\n",
    "- water_quality\n",
    "- quality_group \n",
    "- waterpoint_type\n",
    "- waterpoint_type_group \n",
    "\n",
    "**Time Parameters**\n",
    "- date_recorded\n",
    "\n",
    "**Demographic Parameters**\n",
    "- population\n",
    "\n",
    "**Economic Parameters**\n",
    "- payment \n",
    "- payment_type\n",
    "\n",
    "**Legal Parameters**\n",
    "- permit\n",
    "\n",
    "**Geographic Parameters**\n",
    "- basin (water reserve of well: supply)\n",
    "- region\n",
    "- lga (town name)\n",
    "- region_code\n",
    "- district_code\n",
    "- latitude (well)\n",
    "- longitude (well)\n",
    "- ward \n",
    "- subvillage\n",
    "\n",
    "**Organizational Parameters**\n",
    "- scheme_management\n",
    "- funder\n",
    "- installer\n",
    "- scheme_name\n",
    "- management \n",
    "- management_group \n",
    "- recorded_by"
   ]
  },
  {
   "cell_type": "markdown",
   "metadata": {},
   "source": [
    "## 4. Feature Analysis\n",
    "Go through each group of features and perform the following operations:\n",
    "1. Univariate analysis\n",
    "2. Multivariate analysis"
   ]
  },
  {
   "cell_type": "markdown",
   "metadata": {},
   "source": [
    "### status_group (target variable)"
   ]
  },
  {
   "cell_type": "code",
   "execution_count": 10,
   "metadata": {},
   "outputs": [
    {
     "data": {
      "image/png": "[encoded data removed]",
      "text/plain": [
       "<Figure size 576x288 with 1 Axes>"
      ]
     },
     "metadata": {},
     "output_type": "display_data"
    }
   ],
   "source": [
    "# Barplot to show distrubution of each level\n",
    "g = sns.factorplot(\"status_group\", data=train, aspect=2,\n",
    "                   kind=\"count\", color='steelblue')\n",
    "g.set_xticklabels(step=1, rotation=0);"
   ]
  },
  {
   "cell_type": "code",
   "execution_count": 11,
   "metadata": {},
   "outputs": [
    {
     "data": {
      "text/plain": [
       "functional                 32259\n",
       "non functional             22824\n",
       "functional needs repair     4317\n",
       "Name: status_group, dtype: int64"
      ]
     },
     "execution_count": 11,
     "metadata": {},
     "output_type": "execute_result"
    }
   ],
   "source": [
    "# value count\n",
    "train.status_group.value_counts()"
   ]
  },
  {
   "cell_type": "code",
   "execution_count": 12,
   "metadata": {},
   "outputs": [
    {
     "data": {
      "text/plain": [
       "0"
      ]
     },
     "execution_count": 12,
     "metadata": {},
     "output_type": "execute_result"
    }
   ],
   "source": [
    "# Count NAs for train just to reassure nothing missing\n",
    "train.status_group.isnull().sum()"
   ]
  },
  {
   "cell_type": "markdown",
   "metadata": {},
   "source": [
    "## well_parameters\n",
    "\n",
    "### amount_tsh\n",
    "\n",
    "1. Analysis - Majority zero values\n",
    "2. Transform with log10 to normalize distrubution\n",
    "3. Create new feature: log_amount_tsh"
   ]
  },
  {
   "cell_type": "code",
   "execution_count": 13,
   "metadata": {},
   "outputs": [
    {
     "data": {
      "text/plain": [
       "count     59400.000000\n",
       "mean        317.650385\n",
       "std        2997.574558\n",
       "min           0.000000\n",
       "25%           0.000000\n",
       "50%           0.000000\n",
       "75%          20.000000\n",
       "max      350000.000000\n",
       "Name: amount_tsh, dtype: float64"
      ]
     },
     "execution_count": 13,
     "metadata": {},
     "output_type": "execute_result"
    }
   ],
   "source": [
    "# overall info\n",
    "train.amount_tsh.describe()\n",
    "# -> large IQR, mode = 0"
   ]
  },
  {
   "cell_type": "code",
   "execution_count": 14,
   "metadata": {},
   "outputs": [
    {
     "data": {
      "image/png": "[encoded data removed]",
      "text/plain": [
       "<Figure size 576x432 with 1 Axes>"
      ]
     },
     "metadata": {},
     "output_type": "display_data"
    }
   ],
   "source": [
    "# KDEplot to see distrubution -> zero values -> very skewed\n",
    "fig, ax = plt.subplots(figsize=(8, 6))\n",
    "sns.kdeplot(train['amount_tsh'], shade=True);"
   ]
  },
  {
   "cell_type": "code",
   "execution_count": 15,
   "metadata": {},
   "outputs": [
    {
     "data": {
      "text/plain": [
       "52049"
      ]
     },
     "execution_count": 15,
     "metadata": {},
     "output_type": "execute_result"
    }
   ],
   "source": [
    "# Vast number of rows where value = 0 --> need to impute these values\n",
    "all_data[all_data['amount_tsh'] == 0].amount_tsh.count()"
   ]
  },
  {
   "cell_type": "code",
   "execution_count": 16,
   "metadata": {},
   "outputs": [
    {
     "data": {
      "image/png": "[encoded data removed]",
      "text/plain": [
       "<Figure size 576x432 with 1 Axes>"
      ]
     },
     "metadata": {},
     "output_type": "display_data"
    }
   ],
   "source": [
    "# Transform to log10 to get better view -> much better results\n",
    "# KDEplot\n",
    "fig, ax = plt.subplots(figsize=(8, 6))\n",
    "sns.kdeplot(np.log10(train['amount_tsh'] + 1), shade=True);"
   ]
  },
  {
   "cell_type": "code",
   "execution_count": 17,
   "metadata": {},
   "outputs": [
    {
     "data": {
      "text/plain": [
       "0"
      ]
     },
     "execution_count": 17,
     "metadata": {},
     "output_type": "execute_result"
    }
   ],
   "source": [
    "# Missing values -> no need to impute NaNs\n",
    "all_data.amount_tsh.isnull().sum()"
   ]
  },
  {
   "cell_type": "code",
   "execution_count": 18,
   "metadata": {},
   "outputs": [
    {
     "name": "stderr",
     "output_type": "stream",
     "text": [
      "/anaconda/lib/python3.6/site-packages/matplotlib/axes/_axes.py:6448: UserWarning: The 'normed' kwarg is deprecated, and has been replaced by the 'density' kwarg.\n",
      "  warnings.warn(\"The 'normed' kwarg is deprecated, and has been \"\n"
     ]
    },
    {
     "data": {
      "image/png": "[encoded data removed]",
      "text/plain": [
       "<Figure size 864x576 with 1 Axes>"
      ]
     },
     "metadata": {},
     "output_type": "display_data"
    }
   ],
   "source": [
    "# See distrubtion of log amount_tsh vs status_group -> no clear relationship\n",
    "plot_df = pd.concat([train.status_group, np.log10(train.amount_tsh + 1)], axis=1)\n",
    "\n",
    "fig, ax = plt.subplots(figsize=(12, 8))\n",
    "\n",
    "sns.distplot(plot_df[(plot_df.status_group == 'functional')].amount_tsh,\n",
    "             kde=False, color='r',\n",
    "             label=\"functional\")\n",
    "\n",
    "sns.distplot(plot_df[(plot_df.status_group == 'non functional')].amount_tsh,\n",
    "             kde=False, color='g',\n",
    "             label=\"non functional\")\n",
    "\n",
    "sns.distplot(plot_df[(plot_df.status_group == 'functional needs repair')].amount_tsh,\n",
    "             kde=False, color='b',\n",
    "             label=\"functional needs repair\")\n",
    "\n",
    "plt.legend();"
   ]
  },
  {
   "cell_type": "markdown",
   "metadata": {},
   "source": [
    "### basin\n",
    "1. Analysis -> lake victoria most common basin\n",
    "2. No specific relationship with status_group"
   ]
  },
  {
   "cell_type": "code",
   "execution_count": 19,
   "metadata": {},
   "outputs": [
    {
     "data": {
      "text/plain": [
       "count             59400\n",
       "unique                9\n",
       "top       Lake Victoria\n",
       "freq              10248\n",
       "Name: basin, dtype: object"
      ]
     },
     "execution_count": 19,
     "metadata": {},
     "output_type": "execute_result"
    }
   ],
   "source": [
    "# Overall info\n",
    "train.basin.describe()"
   ]
  },
  {
   "cell_type": "code",
   "execution_count": 20,
   "metadata": {},
   "outputs": [
    {
     "data": {
      "image/png": "[encoded data removed]",
      "text/plain": [
       "<Figure size 576x288 with 1 Axes>"
      ]
     },
     "metadata": {},
     "output_type": "display_data"
    }
   ],
   "source": [
    "# Barplot to show distrubution of each level\n",
    "g = sns.factorplot(\"basin\", data=train, aspect=2,\n",
    "                   kind=\"count\", color='steelblue')\n",
    "g.set_xticklabels(step=1, rotation=60);"
   ]
  },
  {
   "cell_type": "code",
   "execution_count": 21,
   "metadata": {},
   "outputs": [
    {
     "data": {
      "text/plain": [
       "Lake Victoria              10248\n",
       "Pangani                     8940\n",
       "Rufiji                      7976\n",
       "Internal                    7785\n",
       "Lake Tanganyika             6432\n",
       "Wami / Ruvu                 5987\n",
       "Lake Nyasa                  5085\n",
       "Ruvuma / Southern Coast     4493\n",
       "Lake Rukwa                  2454\n",
       "Name: basin, dtype: int64"
      ]
     },
     "execution_count": 21,
     "metadata": {},
     "output_type": "execute_result"
    }
   ],
   "source": [
    "# Value count\n",
    "train.basin.value_counts()"
   ]
  },
  {
   "cell_type": "code",
   "execution_count": 22,
   "metadata": {},
   "outputs": [
    {
     "data": {
      "text/plain": [
       "0"
      ]
     },
     "execution_count": 22,
     "metadata": {},
     "output_type": "execute_result"
    }
   ],
   "source": [
    "# Missing values -> no need to impute\n",
    "all_data.basin.isnull().sum()"
   ]
  },
  {
   "cell_type": "code",
   "execution_count": 23,
   "metadata": {},
   "outputs": [
    {
     "data": {
      "image/png": "[encoded data removed]",
      "text/plain": [
       "<Figure size 576x432 with 1 Axes>"
      ]
     },
     "metadata": {},
     "output_type": "display_data"
    }
   ],
   "source": [
    "# See distrubtion vs status_group -> no clear relationship\n",
    "plot_df = train.groupby(['basin','status_group']).status_group.count().unstack()\n",
    "plot_df.plot(kind='bar', stacked=True, figsize=(8, 6), rot=60);\n",
    "\n",
    "#Note: given that fuctional has the clear mayority in status group, its good to see that functional waterpoints seem\n",
    "#      to be relatively evenly distributed across basins (functional is usually the clear majority except in Ruvuma)"
   ]
  },
  {
   "cell_type": "markdown",
   "metadata": {},
   "source": [
    "### construction_year\n",
    "1. Analysis -> alot of zero values (34%)\n",
    "2. Clear relationship with status_group -> newer more functional\n",
    "3. Impute zero values"
   ]
  },
  {
   "cell_type": "code",
   "execution_count": 24,
   "metadata": {},
   "outputs": [
    {
     "data": {
      "text/plain": [
       "count    59400.000000\n",
       "mean      1300.652475\n",
       "std        951.620547\n",
       "min          0.000000\n",
       "25%          0.000000\n",
       "50%       1986.000000\n",
       "75%       2004.000000\n",
       "max       2013.000000\n",
       "Name: construction_year, dtype: float64"
      ]
     },
     "execution_count": 24,
     "metadata": {},
     "output_type": "execute_result"
    }
   ],
   "source": [
    "# Overall info\n",
    "train.construction_year.describe()"
   ]
  },
  {
   "cell_type": "code",
   "execution_count": 25,
   "metadata": {},
   "outputs": [
    {
     "data": {
      "image/png": "[encoded data removed]",
      "text/plain": [
       "<Figure size 576x288 with 1 Axes>"
      ]
     },
     "metadata": {},
     "output_type": "display_data"
    }
   ],
   "source": [
    "# Plot -> a lot of zeros\n",
    "g = sns.factorplot(\"construction_year\", data=train, aspect=2,\n",
    "                   kind=\"count\", color='steelblue')\n",
    "\n",
    "g.set_xticklabels(step=5, rotation=0);"
   ]
  },
  {
   "cell_type": "code",
   "execution_count": 26,
   "metadata": {},
   "outputs": [
    {
     "data": {
      "text/plain": [
       "0.34863636363636363"
      ]
     },
     "execution_count": 26,
     "metadata": {},
     "output_type": "execute_result"
    }
   ],
   "source": [
    "# Proportion of zeros\n",
    "tmp = train[train['construction_year'] == 0].construction_year.count() / len(train)\n",
    "tmp"
   ]
  },
  {
   "cell_type": "code",
   "execution_count": 27,
   "metadata": {},
   "outputs": [
    {
     "data": {
      "image/png": "[encoded data removed]",
      "text/plain": [
       "<Figure size 576x288 with 1 Axes>"
      ]
     },
     "metadata": {},
     "output_type": "display_data"
    }
   ],
   "source": [
    "# Plot -> filter for non zero years\n",
    "plot_df = train[(train.construction_year) > 0]\n",
    "\n",
    "g = sns.factorplot(\"construction_year\", data=plot_df, aspect=2,\n",
    "                   kind=\"count\", color='steelblue')\n",
    "\n",
    "g.set_xticklabels(step=5, rotation=0);"
   ]
  },
  {
   "cell_type": "code",
   "execution_count": 28,
   "metadata": {},
   "outputs": [
    {
     "data": {
      "text/plain": [
       "0"
      ]
     },
     "execution_count": 28,
     "metadata": {},
     "output_type": "execute_result"
    }
   ],
   "source": [
    "# Missing values\n",
    "all_data.construction_year.isnull().sum()"
   ]
  },
  {
   "cell_type": "code",
   "execution_count": 29,
   "metadata": {},
   "outputs": [
    {
     "name": "stderr",
     "output_type": "stream",
     "text": [
      "/anaconda/lib/python3.6/site-packages/matplotlib/axes/_axes.py:6448: UserWarning: The 'normed' kwarg is deprecated, and has been replaced by the 'density' kwarg.\n",
      "  warnings.warn(\"The 'normed' kwarg is deprecated, and has been \"\n"
     ]
    },
    {
     "data": {
      "image/png": "[encoded data removed]",
      "text/plain": [
       "<Figure size 864x576 with 1 Axes>"
      ]
     },
     "metadata": {},
     "output_type": "display_data"
    }
   ],
   "source": [
    "# histogram with construction_year by status_group -> clear relationship with status_group\n",
    "# newer equals higher chance of functional\n",
    "plot_df = train[(train.construction_year) > 0]\n",
    "\n",
    "fig, ax = plt.subplots(figsize=(12, 8))\n",
    "\n",
    "sns.distplot(plot_df[(plot_df.status_group == 'functional')].construction_year,\n",
    "             kde=False, color='r',\n",
    "             label=\"functional\")\n",
    "\n",
    "sns.distplot(plot_df[(plot_df.status_group == 'non functional')].construction_year,\n",
    "             kde=False, color='g',\n",
    "             label=\"non functional\")\n",
    "\n",
    "sns.distplot(plot_df[(plot_df.status_group == 'functional needs repair')].construction_year,\n",
    "             kde=False, color='b',\n",
    "             label=\"functional needs repair\")\n",
    "\n",
    "plt.legend();"
   ]
  },
  {
   "cell_type": "markdown",
   "metadata": {},
   "source": [
    "### extraction_type_class\n",
    "1. what to do with it \"other\"?\n",
    "2. transform into ordinal variable (1,2,3,4,...)?\n"
   ]
  },
  {
   "cell_type": "code",
   "execution_count": 30,
   "metadata": {},
   "outputs": [
    {
     "data": {
      "text/plain": [
       "count       59400\n",
       "unique          7\n",
       "top       gravity\n",
       "freq        26780\n",
       "Name: extraction_type_class, dtype: object"
      ]
     },
     "execution_count": 30,
     "metadata": {},
     "output_type": "execute_result"
    }
   ],
   "source": [
    "# overall info\n",
    "train.extraction_type_class.describe()"
   ]
  },
  {
   "cell_type": "code",
   "execution_count": 31,
   "metadata": {},
   "outputs": [
    {
     "data": {
      "image/png": "[encoded data removed]",
      "text/plain": [
       "<Figure size 576x288 with 1 Axes>"
      ]
     },
     "metadata": {},
     "output_type": "display_data"
    }
   ],
   "source": [
    "# Barplot to show distrubution of each level\n",
    "g = sns.factorplot(\"extraction_type_class\", data=train, aspect=2,\n",
    "                   kind=\"count\", color='steelblue')\n",
    "g.set_xticklabels(step=1, rotation=60);"
   ]
  },
  {
   "cell_type": "code",
   "execution_count": 32,
   "metadata": {},
   "outputs": [
    {
     "data": {
      "text/plain": [
       "gravity         26780\n",
       "handpump        16456\n",
       "other            6430\n",
       "submersible      6179\n",
       "motorpump        2987\n",
       "rope pump         451\n",
       "wind-powered      117\n",
       "Name: extraction_type_class, dtype: int64"
      ]
     },
     "execution_count": 32,
     "metadata": {},
     "output_type": "execute_result"
    }
   ],
   "source": [
    "# value Count\n",
    "train.extraction_type_class.value_counts()"
   ]
  },
  {
   "cell_type": "code",
   "execution_count": 33,
   "metadata": {},
   "outputs": [
    {
     "data": {
      "text/plain": [
       "0"
      ]
     },
     "execution_count": 33,
     "metadata": {},
     "output_type": "execute_result"
    }
   ],
   "source": [
    "# missing Values\n",
    "all_data.extraction_type_class.isnull().sum()"
   ]
  },
  {
   "cell_type": "code",
   "execution_count": 34,
   "metadata": {},
   "outputs": [
    {
     "data": {
      "image/png": "[encoded data removed]",
      "text/plain": [
       "<Figure size 576x432 with 1 Axes>"
      ]
     },
     "metadata": {},
     "output_type": "display_data"
    }
   ],
   "source": [
    "# See distrubtion vs status_group -> non-functional higher proportion others, motorpump, submersible\n",
    "plot_df = train.groupby(['extraction_type_class','status_group']).status_group.count().unstack()\n",
    "plot_df.plot(kind='bar', stacked=True, figsize=(8, 6), rot=0);"
   ]
  },
  {
   "cell_type": "code",
   "execution_count": 35,
   "metadata": {},
   "outputs": [
    {
     "data": {
      "text/html": [
       "<div>\n",
       "<style scoped>\n",
       "    .dataframe tbody tr th:only-of-type {\n",
       "        vertical-align: middle;\n",
       "    }\n",
       "\n",
       "    .dataframe tbody tr th {\n",
       "        vertical-align: top;\n",
       "    }\n",
       "\n",
       "    .dataframe thead th {\n",
       "        text-align: right;\n",
       "    }\n",
       "</style>\n",
       "<table border=\"1\" class=\"dataframe\">\n",
       "  <thead>\n",
       "    <tr style=\"text-align: right;\">\n",
       "      <th>status_group</th>\n",
       "      <th>functional</th>\n",
       "      <th>functional needs repair</th>\n",
       "      <th>non functional</th>\n",
       "    </tr>\n",
       "    <tr>\n",
       "      <th>extraction_type_class</th>\n",
       "      <th></th>\n",
       "      <th></th>\n",
       "      <th></th>\n",
       "    </tr>\n",
       "  </thead>\n",
       "  <tbody>\n",
       "    <tr>\n",
       "      <th>gravity</th>\n",
       "      <td>16048</td>\n",
       "      <td>2701</td>\n",
       "      <td>8031</td>\n",
       "    </tr>\n",
       "    <tr>\n",
       "      <th>handpump</th>\n",
       "      <td>10375</td>\n",
       "      <td>995</td>\n",
       "      <td>5086</td>\n",
       "    </tr>\n",
       "    <tr>\n",
       "      <th>motorpump</th>\n",
       "      <td>1135</td>\n",
       "      <td>138</td>\n",
       "      <td>1714</td>\n",
       "    </tr>\n",
       "    <tr>\n",
       "      <th>other</th>\n",
       "      <td>1029</td>\n",
       "      <td>206</td>\n",
       "      <td>5195</td>\n",
       "    </tr>\n",
       "    <tr>\n",
       "      <th>rope pump</th>\n",
       "      <td>293</td>\n",
       "      <td>17</td>\n",
       "      <td>141</td>\n",
       "    </tr>\n",
       "    <tr>\n",
       "      <th>submersible</th>\n",
       "      <td>3329</td>\n",
       "      <td>253</td>\n",
       "      <td>2597</td>\n",
       "    </tr>\n",
       "    <tr>\n",
       "      <th>wind-powered</th>\n",
       "      <td>50</td>\n",
       "      <td>7</td>\n",
       "      <td>60</td>\n",
       "    </tr>\n",
       "  </tbody>\n",
       "</table>\n",
       "</div>"
      ],
      "text/plain": [
       "status_group           functional  functional needs repair  non functional\n",
       "extraction_type_class                                                     \n",
       "gravity                     16048                     2701            8031\n",
       "handpump                    10375                      995            5086\n",
       "motorpump                    1135                      138            1714\n",
       "other                        1029                      206            5195\n",
       "rope pump                     293                       17             141\n",
       "submersible                  3329                      253            2597\n",
       "wind-powered                   50                        7              60"
      ]
     },
     "execution_count": 35,
     "metadata": {},
     "output_type": "execute_result"
    }
   ],
   "source": [
    "train.groupby(['extraction_type_class','status_group']).status_group.count().unstack()"
   ]
  },
  {
   "cell_type": "markdown",
   "metadata": {},
   "source": [
    "### extraction_type"
   ]
  },
  {
   "cell_type": "code",
   "execution_count": 36,
   "metadata": {},
   "outputs": [
    {
     "data": {
      "text/plain": [
       "count       59400\n",
       "unique         18\n",
       "top       gravity\n",
       "freq        26780\n",
       "Name: extraction_type, dtype: object"
      ]
     },
     "execution_count": 36,
     "metadata": {},
     "output_type": "execute_result"
    }
   ],
   "source": [
    "# overall info\n",
    "train.extraction_type.describe()"
   ]
  },
  {
   "cell_type": "code",
   "execution_count": 37,
   "metadata": {},
   "outputs": [
    {
     "data": {
      "text/plain": [
       "gravity                      26780\n",
       "nira/tanira                   8154\n",
       "other                         6430\n",
       "submersible                   4764\n",
       "swn 80                        3670\n",
       "mono                          2865\n",
       "india mark ii                 2400\n",
       "afridev                       1770\n",
       "ksb                           1415\n",
       "other - rope pump              451\n",
       "other - swn 81                 229\n",
       "windmill                       117\n",
       "india mark iii                  98\n",
       "cemo                            90\n",
       "other - play pump               85\n",
       "walimi                          48\n",
       "climax                          32\n",
       "other - mkulima/shinyanga        2\n",
       "Name: extraction_type, dtype: int64"
      ]
     },
     "execution_count": 37,
     "metadata": {},
     "output_type": "execute_result"
    }
   ],
   "source": [
    "# value Count\n",
    "train.extraction_type.value_counts()"
   ]
  },
  {
   "cell_type": "code",
   "execution_count": 38,
   "metadata": {},
   "outputs": [
    {
     "data": {
      "text/html": [
       "<div>\n",
       "<style scoped>\n",
       "    .dataframe tbody tr th:only-of-type {\n",
       "        vertical-align: middle;\n",
       "    }\n",
       "\n",
       "    .dataframe tbody tr th {\n",
       "        vertical-align: top;\n",
       "    }\n",
       "\n",
       "    .dataframe thead th {\n",
       "        text-align: right;\n",
       "    }\n",
       "</style>\n",
       "<table border=\"1\" class=\"dataframe\">\n",
       "  <thead>\n",
       "    <tr style=\"text-align: right;\">\n",
       "      <th></th>\n",
       "      <th>amount_tsh</th>\n",
       "      <th>date_recorded</th>\n",
       "      <th>funder</th>\n",
       "      <th>gps_height</th>\n",
       "      <th>installer</th>\n",
       "      <th>longitude</th>\n",
       "      <th>latitude</th>\n",
       "      <th>wpt_name</th>\n",
       "      <th>num_private</th>\n",
       "      <th>basin</th>\n",
       "      <th>subvillage</th>\n",
       "      <th>region</th>\n",
       "      <th>region_code</th>\n",
       "      <th>district_code</th>\n",
       "      <th>lga</th>\n",
       "      <th>ward</th>\n",
       "      <th>population</th>\n",
       "      <th>public_meeting</th>\n",
       "      <th>recorded_by</th>\n",
       "      <th>scheme_management</th>\n",
       "      <th>scheme_name</th>\n",
       "      <th>permit</th>\n",
       "      <th>construction_year</th>\n",
       "      <th>extraction_type</th>\n",
       "      <th>extraction_type_group</th>\n",
       "      <th>extraction_type_class</th>\n",
       "      <th>management</th>\n",
       "      <th>management_group</th>\n",
       "      <th>payment</th>\n",
       "      <th>payment_type</th>\n",
       "      <th>water_quality</th>\n",
       "      <th>quality_group</th>\n",
       "      <th>quantity</th>\n",
       "      <th>quantity_group</th>\n",
       "      <th>source</th>\n",
       "      <th>source_type</th>\n",
       "      <th>source_class</th>\n",
       "      <th>waterpoint_type</th>\n",
       "      <th>waterpoint_type_group</th>\n",
       "      <th>status_group</th>\n",
       "    </tr>\n",
       "    <tr>\n",
       "      <th>id</th>\n",
       "      <th></th>\n",
       "      <th></th>\n",
       "      <th></th>\n",
       "      <th></th>\n",
       "      <th></th>\n",
       "      <th></th>\n",
       "      <th></th>\n",
       "      <th></th>\n",
       "      <th></th>\n",
       "      <th></th>\n",
       "      <th></th>\n",
       "      <th></th>\n",
       "      <th></th>\n",
       "      <th></th>\n",
       "      <th></th>\n",
       "      <th></th>\n",
       "      <th></th>\n",
       "      <th></th>\n",
       "      <th></th>\n",
       "      <th></th>\n",
       "      <th></th>\n",
       "      <th></th>\n",
       "      <th></th>\n",
       "      <th></th>\n",
       "      <th></th>\n",
       "      <th></th>\n",
       "      <th></th>\n",
       "      <th></th>\n",
       "      <th></th>\n",
       "      <th></th>\n",
       "      <th></th>\n",
       "      <th></th>\n",
       "      <th></th>\n",
       "      <th></th>\n",
       "      <th></th>\n",
       "      <th></th>\n",
       "      <th></th>\n",
       "      <th></th>\n",
       "      <th></th>\n",
       "      <th></th>\n",
       "    </tr>\n",
       "  </thead>\n",
       "  <tbody>\n",
       "  </tbody>\n",
       "</table>\n",
       "</div>"
      ],
      "text/plain": [
       "Empty DataFrame\n",
       "Columns: [amount_tsh, date_recorded, funder, gps_height, installer, longitude, latitude, wpt_name, num_private, basin, subvillage, region, region_code, district_code, lga, ward, population, public_meeting, recorded_by, scheme_management, scheme_name, permit, construction_year, extraction_type, extraction_type_group, extraction_type_class, management, management_group, payment, payment_type, water_quality, quality_group, quantity, quantity_group, source, source_type, source_class, waterpoint_type, waterpoint_type_group, status_group]\n",
       "Index: []"
      ]
     },
     "execution_count": 38,
     "metadata": {},
     "output_type": "execute_result"
    }
   ],
   "source": [
    "# does other in extraction_type also equal other in extraction_type_class and extraction_type_group? -> no!\n",
    "train[(train.extraction_type == 'other') &\n",
    "      (train.extraction_type_class != 'other') &\n",
    "      (train.extraction_type_group != 'other')]"
   ]
  },
  {
   "cell_type": "code",
   "execution_count": 39,
   "metadata": {},
   "outputs": [
    {
     "data": {
      "text/plain": [
       "0"
      ]
     },
     "execution_count": 39,
     "metadata": {},
     "output_type": "execute_result"
    }
   ],
   "source": [
    "# missing Values\n",
    "all_data.extraction_type.isnull().sum()"
   ]
  },
  {
   "cell_type": "code",
   "execution_count": 40,
   "metadata": {},
   "outputs": [],
   "source": [
    "# -> no need to clean anything\n",
    "# -> delete variable - > extraction_type_class more consistent information"
   ]
  },
  {
   "cell_type": "markdown",
   "metadata": {},
   "source": [
    "### extraction_type_group"
   ]
  },
  {
   "cell_type": "code",
   "execution_count": 41,
   "metadata": {},
   "outputs": [
    {
     "data": {
      "text/plain": [
       "count       59400\n",
       "unique         13\n",
       "top       gravity\n",
       "freq        26780\n",
       "Name: extraction_type_group, dtype: object"
      ]
     },
     "execution_count": 41,
     "metadata": {},
     "output_type": "execute_result"
    }
   ],
   "source": [
    "# overall info\n",
    "train.extraction_type_group.describe()"
   ]
  },
  {
   "cell_type": "code",
   "execution_count": 42,
   "metadata": {},
   "outputs": [
    {
     "data": {
      "text/plain": [
       "gravity            26780\n",
       "nira/tanira         8154\n",
       "other               6430\n",
       "submersible         6179\n",
       "swn 80              3670\n",
       "mono                2865\n",
       "india mark ii       2400\n",
       "afridev             1770\n",
       "rope pump            451\n",
       "other handpump       364\n",
       "other motorpump      122\n",
       "wind-powered         117\n",
       "india mark iii        98\n",
       "Name: extraction_type_group, dtype: int64"
      ]
     },
     "execution_count": 42,
     "metadata": {},
     "output_type": "execute_result"
    }
   ],
   "source": [
    "# value Count\n",
    "train.extraction_type_group.value_counts()"
   ]
  },
  {
   "cell_type": "code",
   "execution_count": 43,
   "metadata": {},
   "outputs": [
    {
     "data": {
      "text/plain": [
       "0"
      ]
     },
     "execution_count": 43,
     "metadata": {},
     "output_type": "execute_result"
    }
   ],
   "source": [
    "# missing Values\n",
    "all_data.extraction_type_group.isnull().sum()"
   ]
  },
  {
   "cell_type": "code",
   "execution_count": 44,
   "metadata": {},
   "outputs": [],
   "source": [
    "# -> no need to clean anything\n",
    "# -> delete variable - > extraction_type_class more consistent information"
   ]
  },
  {
   "cell_type": "markdown",
   "metadata": {},
   "source": [
    "### gps_height"
   ]
  },
  {
   "cell_type": "code",
   "execution_count": 45,
   "metadata": {},
   "outputs": [
    {
     "data": {
      "text/plain": [
       "count    59400.000000\n",
       "mean       668.297239\n",
       "std        693.116350\n",
       "min        -90.000000\n",
       "25%          0.000000\n",
       "50%        369.000000\n",
       "75%       1319.250000\n",
       "max       2770.000000\n",
       "Name: gps_height, dtype: float64"
      ]
     },
     "execution_count": 45,
     "metadata": {},
     "output_type": "execute_result"
    }
   ],
   "source": [
    "# overall info\n",
    "train.gps_height.describe()"
   ]
  },
  {
   "cell_type": "code",
   "execution_count": 46,
   "metadata": {},
   "outputs": [
    {
     "data": {
      "image/png": "[encoded data removed]",
      "text/plain": [
       "<Figure size 576x432 with 1 Axes>"
      ]
     },
     "metadata": {},
     "output_type": "display_data"
    }
   ],
   "source": [
    "# histogram -> a lot of zeros for quite moutainous country\n",
    "fig, ax = plt.subplots(figsize=(8, 6))\n",
    "sns.kdeplot(train['gps_height'], shade=True);"
   ]
  },
  {
   "cell_type": "code",
   "execution_count": 47,
   "metadata": {},
   "outputs": [
    {
     "data": {
      "text/plain": [
       "20438"
      ]
     },
     "execution_count": 47,
     "metadata": {},
     "output_type": "execute_result"
    }
   ],
   "source": [
    "# zero values -> need to impute some zeros\n",
    "train[train.gps_height == 0].gps_height.count()"
   ]
  },
  {
   "cell_type": "code",
   "execution_count": 48,
   "metadata": {},
   "outputs": [
    {
     "data": {
      "text/plain": [
       "0"
      ]
     },
     "execution_count": 48,
     "metadata": {},
     "output_type": "execute_result"
    }
   ],
   "source": [
    "# missing values\n",
    "all_data.gps_height.isnull().sum()\n",
    "# -> no NAs"
   ]
  },
  {
   "cell_type": "code",
   "execution_count": 49,
   "metadata": {
    "scrolled": true
   },
   "outputs": [
    {
     "name": "stderr",
     "output_type": "stream",
     "text": [
      "/anaconda/lib/python3.6/site-packages/matplotlib/axes/_axes.py:6448: UserWarning: The 'normed' kwarg is deprecated, and has been replaced by the 'density' kwarg.\n",
      "  warnings.warn(\"The 'normed' kwarg is deprecated, and has been \"\n"
     ]
    },
    {
     "data": {
      "image/png": "[encoded data removed]",
      "text/plain": [
       "<Figure size 864x576 with 1 Axes>"
      ]
     },
     "metadata": {},
     "output_type": "display_data"
    }
   ],
   "source": [
    "# status_group vs gps_height > 0\n",
    "plot_df = train[(train.gps_height) > 0]\n",
    "\n",
    "fig, ax = plt.subplots(figsize=(12, 8))\n",
    "\n",
    "sns.distplot(plot_df[(plot_df.status_group == 'functional')].gps_height,\n",
    "             kde=False, color='r',\n",
    "             label=\"functional\")\n",
    "\n",
    "sns.distplot(plot_df[(plot_df.status_group == 'non functional')].gps_height,\n",
    "             kde=False, color='g',\n",
    "             label=\"non functional\")\n",
    "\n",
    "sns.distplot(plot_df[(plot_df.status_group == 'functional needs repair')].gps_height,\n",
    "             kde=False, color='b',\n",
    "             label=\"functional needs repair\")\n",
    "\n",
    "plt.legend();\n",
    "# no super clear correlation between altitude and status"
   ]
  },
  {
   "cell_type": "markdown",
   "metadata": {},
   "source": [
    "### quantity"
   ]
  },
  {
   "cell_type": "code",
   "execution_count": 50,
   "metadata": {},
   "outputs": [
    {
     "data": {
      "text/plain": [
       "count      59400\n",
       "unique         5\n",
       "top       enough\n",
       "freq       33186\n",
       "Name: quantity, dtype: object"
      ]
     },
     "execution_count": 50,
     "metadata": {},
     "output_type": "execute_result"
    }
   ],
   "source": [
    "# overall info\n",
    "train.quantity.describe()"
   ]
  },
  {
   "cell_type": "code",
   "execution_count": 51,
   "metadata": {},
   "outputs": [
    {
     "data": {
      "image/png": "[encoded data removed]",
      "text/plain": [
       "<Figure size 576x288 with 1 Axes>"
      ]
     },
     "metadata": {},
     "output_type": "display_data"
    }
   ],
   "source": [
    "# plot of distrubution ->\n",
    "g = sns.factorplot(\"quantity\", data=train, aspect=2,\n",
    "                   kind=\"count\", palette='deep')\n",
    "\n",
    "g.set_xticklabels(step=1, rotation=40);"
   ]
  },
  {
   "cell_type": "code",
   "execution_count": 52,
   "metadata": {},
   "outputs": [
    {
     "data": {
      "text/plain": [
       "enough          33186\n",
       "insufficient    15129\n",
       "dry              6246\n",
       "seasonal         4050\n",
       "unknown           789\n",
       "Name: quantity, dtype: int64"
      ]
     },
     "execution_count": 52,
     "metadata": {},
     "output_type": "execute_result"
    }
   ],
   "source": [
    "# value Count\n",
    "train.quantity.value_counts()"
   ]
  },
  {
   "cell_type": "code",
   "execution_count": 53,
   "metadata": {},
   "outputs": [
    {
     "data": {
      "text/plain": [
       "0"
      ]
     },
     "execution_count": 53,
     "metadata": {},
     "output_type": "execute_result"
    }
   ],
   "source": [
    "# missing Values\n",
    "all_data.quantity.isnull().sum()"
   ]
  },
  {
   "cell_type": "code",
   "execution_count": 54,
   "metadata": {},
   "outputs": [
    {
     "data": {
      "image/png": "[encoded data removed]",
      "text/plain": [
       "<Figure size 576x432 with 1 Axes>"
      ]
     },
     "metadata": {},
     "output_type": "display_data"
    }
   ],
   "source": [
    "# Stacked plot with status_group -> clear relationship between non-functional and dry, unknown\n",
    "plot_df = train.groupby(['quantity', 'status_group']) \\\n",
    "               .quantity \\\n",
    "               .count() \\\n",
    "               .unstack()\n",
    "\n",
    "plot_df.plot(kind='bar', stacked=True, figsize=(8, 6), rot=40);"
   ]
  },
  {
   "cell_type": "code",
   "execution_count": 55,
   "metadata": {},
   "outputs": [
    {
     "data": {
      "text/html": [
       "<div>\n",
       "<style scoped>\n",
       "    .dataframe tbody tr th:only-of-type {\n",
       "        vertical-align: middle;\n",
       "    }\n",
       "\n",
       "    .dataframe tbody tr th {\n",
       "        vertical-align: top;\n",
       "    }\n",
       "\n",
       "    .dataframe thead th {\n",
       "        text-align: right;\n",
       "    }\n",
       "</style>\n",
       "<table border=\"1\" class=\"dataframe\">\n",
       "  <thead>\n",
       "    <tr style=\"text-align: right;\">\n",
       "      <th>status_group</th>\n",
       "      <th>functional</th>\n",
       "      <th>functional needs repair</th>\n",
       "      <th>non functional</th>\n",
       "    </tr>\n",
       "    <tr>\n",
       "      <th>quantity</th>\n",
       "      <th></th>\n",
       "      <th></th>\n",
       "      <th></th>\n",
       "    </tr>\n",
       "  </thead>\n",
       "  <tbody>\n",
       "    <tr>\n",
       "      <th>dry</th>\n",
       "      <td>157</td>\n",
       "      <td>37</td>\n",
       "      <td>6052</td>\n",
       "    </tr>\n",
       "    <tr>\n",
       "      <th>enough</th>\n",
       "      <td>21648</td>\n",
       "      <td>2400</td>\n",
       "      <td>9138</td>\n",
       "    </tr>\n",
       "    <tr>\n",
       "      <th>insufficient</th>\n",
       "      <td>7916</td>\n",
       "      <td>1450</td>\n",
       "      <td>5763</td>\n",
       "    </tr>\n",
       "    <tr>\n",
       "      <th>seasonal</th>\n",
       "      <td>2325</td>\n",
       "      <td>416</td>\n",
       "      <td>1309</td>\n",
       "    </tr>\n",
       "    <tr>\n",
       "      <th>unknown</th>\n",
       "      <td>213</td>\n",
       "      <td>14</td>\n",
       "      <td>562</td>\n",
       "    </tr>\n",
       "  </tbody>\n",
       "</table>\n",
       "</div>"
      ],
      "text/plain": [
       "status_group  functional  functional needs repair  non functional\n",
       "quantity                                                         \n",
       "dry                  157                       37            6052\n",
       "enough             21648                     2400            9138\n",
       "insufficient        7916                     1450            5763\n",
       "seasonal            2325                      416            1309\n",
       "unknown              213                       14             562"
      ]
     },
     "execution_count": 55,
     "metadata": {},
     "output_type": "execute_result"
    }
   ],
   "source": [
    "train.groupby(['quantity', 'status_group']) \\\n",
    "               .quantity \\\n",
    "               .count() \\\n",
    "               .unstack()"
   ]
  },
  {
   "cell_type": "markdown",
   "metadata": {},
   "source": [
    "### quantity_group"
   ]
  },
  {
   "cell_type": "code",
   "execution_count": 56,
   "metadata": {},
   "outputs": [
    {
     "data": {
      "text/plain": [
       "count      59400\n",
       "unique         5\n",
       "top       enough\n",
       "freq       33186\n",
       "Name: quantity_group, dtype: object"
      ]
     },
     "execution_count": 56,
     "metadata": {},
     "output_type": "execute_result"
    }
   ],
   "source": [
    "# overall info\n",
    "train.quantity_group.describe()"
   ]
  },
  {
   "cell_type": "code",
   "execution_count": 57,
   "metadata": {},
   "outputs": [
    {
     "data": {
      "image/png": "[encoded data removed]",
      "text/plain": [
       "<Figure size 576x288 with 1 Axes>"
      ]
     },
     "metadata": {},
     "output_type": "display_data"
    }
   ],
   "source": [
    "# plot of distrubution -> just like quantity -> drop variable\n",
    "g = sns.factorplot(\"quantity_group\", data=train, aspect=2,\n",
    "                   kind=\"count\", palette='deep')\n",
    "\n",
    "g.set_xticklabels(step=1, rotation=40);"
   ]
  },
  {
   "cell_type": "markdown",
   "metadata": {},
   "source": [
    "### source"
   ]
  },
  {
   "cell_type": "code",
   "execution_count": 58,
   "metadata": {},
   "outputs": [
    {
     "data": {
      "text/plain": [
       "count      59400\n",
       "unique        10\n",
       "top       spring\n",
       "freq       17021\n",
       "Name: source, dtype: object"
      ]
     },
     "execution_count": 58,
     "metadata": {},
     "output_type": "execute_result"
    }
   ],
   "source": [
    "# overall info\n",
    "train.source.describe()"
   ]
  },
  {
   "cell_type": "code",
   "execution_count": 59,
   "metadata": {},
   "outputs": [
    {
     "data": {
      "image/png": "[encoded data removed]",
      "text/plain": [
       "<Figure size 576x288 with 1 Axes>"
      ]
     },
     "metadata": {},
     "output_type": "display_data"
    }
   ],
   "source": [
    "# plots\n",
    "g = sns.factorplot('source', data=train, aspect=2,\n",
    "                   kind=\"count\", palette='deep')\n",
    "\n",
    "g.set_xticklabels(step=1, rotation=70);"
   ]
  },
  {
   "cell_type": "code",
   "execution_count": 60,
   "metadata": {},
   "outputs": [
    {
     "data": {
      "text/plain": [
       "spring                  17021\n",
       "shallow well            16824\n",
       "machine dbh             11075\n",
       "river                    9612\n",
       "rainwater harvesting     2295\n",
       "hand dtw                  874\n",
       "lake                      765\n",
       "dam                       656\n",
       "other                     212\n",
       "unknown                    66\n",
       "Name: source, dtype: int64"
      ]
     },
     "execution_count": 60,
     "metadata": {},
     "output_type": "execute_result"
    }
   ],
   "source": [
    "# value Count\n",
    "train.source.value_counts()"
   ]
  },
  {
   "cell_type": "code",
   "execution_count": 61,
   "metadata": {},
   "outputs": [
    {
     "data": {
      "text/plain": [
       "0"
      ]
     },
     "execution_count": 61,
     "metadata": {},
     "output_type": "execute_result"
    }
   ],
   "source": [
    "# missing Values\n",
    "all_data.source.isnull().sum()"
   ]
  },
  {
   "cell_type": "code",
   "execution_count": 62,
   "metadata": {},
   "outputs": [
    {
     "data": {
      "image/png": "[encoded data removed]",
      "text/plain": [
       "<Figure size 864x720 with 1 Axes>"
      ]
     },
     "metadata": {},
     "output_type": "display_data"
    }
   ],
   "source": [
    "# Stacked plot with status_group \n",
    "plot_df = train.groupby(['source', 'status_group']) \\\n",
    "               .quantity \\\n",
    "               .count() \\\n",
    "               .unstack()\n",
    "\n",
    "plot_df.plot(kind='bar', stacked=True, figsize=(12, 10), rot=40);"
   ]
  },
  {
   "cell_type": "code",
   "execution_count": 63,
   "metadata": {},
   "outputs": [
    {
     "data": {
      "text/html": [
       "<div>\n",
       "<style scoped>\n",
       "    .dataframe tbody tr th:only-of-type {\n",
       "        vertical-align: middle;\n",
       "    }\n",
       "\n",
       "    .dataframe tbody tr th {\n",
       "        vertical-align: top;\n",
       "    }\n",
       "\n",
       "    .dataframe thead th {\n",
       "        text-align: right;\n",
       "    }\n",
       "</style>\n",
       "<table border=\"1\" class=\"dataframe\">\n",
       "  <thead>\n",
       "    <tr style=\"text-align: right;\">\n",
       "      <th>status_group</th>\n",
       "      <th>functional</th>\n",
       "      <th>functional needs repair</th>\n",
       "      <th>non functional</th>\n",
       "    </tr>\n",
       "    <tr>\n",
       "      <th>source</th>\n",
       "      <th></th>\n",
       "      <th></th>\n",
       "      <th></th>\n",
       "    </tr>\n",
       "  </thead>\n",
       "  <tbody>\n",
       "    <tr>\n",
       "      <th>dam</th>\n",
       "      <td>253</td>\n",
       "      <td>24</td>\n",
       "      <td>379</td>\n",
       "    </tr>\n",
       "    <tr>\n",
       "      <th>hand dtw</th>\n",
       "      <td>497</td>\n",
       "      <td>17</td>\n",
       "      <td>360</td>\n",
       "    </tr>\n",
       "    <tr>\n",
       "      <th>lake</th>\n",
       "      <td>162</td>\n",
       "      <td>12</td>\n",
       "      <td>591</td>\n",
       "    </tr>\n",
       "    <tr>\n",
       "      <th>machine dbh</th>\n",
       "      <td>5422</td>\n",
       "      <td>491</td>\n",
       "      <td>5162</td>\n",
       "    </tr>\n",
       "    <tr>\n",
       "      <th>other</th>\n",
       "      <td>126</td>\n",
       "      <td>1</td>\n",
       "      <td>85</td>\n",
       "    </tr>\n",
       "    <tr>\n",
       "      <th>rainwater harvesting</th>\n",
       "      <td>1386</td>\n",
       "      <td>314</td>\n",
       "      <td>595</td>\n",
       "    </tr>\n",
       "    <tr>\n",
       "      <th>river</th>\n",
       "      <td>5465</td>\n",
       "      <td>1221</td>\n",
       "      <td>2926</td>\n",
       "    </tr>\n",
       "    <tr>\n",
       "      <th>shallow well</th>\n",
       "      <td>8324</td>\n",
       "      <td>957</td>\n",
       "      <td>7543</td>\n",
       "    </tr>\n",
       "    <tr>\n",
       "      <th>spring</th>\n",
       "      <td>10592</td>\n",
       "      <td>1276</td>\n",
       "      <td>5153</td>\n",
       "    </tr>\n",
       "    <tr>\n",
       "      <th>unknown</th>\n",
       "      <td>32</td>\n",
       "      <td>4</td>\n",
       "      <td>30</td>\n",
       "    </tr>\n",
       "  </tbody>\n",
       "</table>\n",
       "</div>"
      ],
      "text/plain": [
       "status_group          functional  functional needs repair  non functional\n",
       "source                                                                   \n",
       "dam                          253                       24             379\n",
       "hand dtw                     497                       17             360\n",
       "lake                         162                       12             591\n",
       "machine dbh                 5422                      491            5162\n",
       "other                        126                        1              85\n",
       "rainwater harvesting        1386                      314             595\n",
       "river                       5465                     1221            2926\n",
       "shallow well                8324                      957            7543\n",
       "spring                     10592                     1276            5153\n",
       "unknown                       32                        4              30"
      ]
     },
     "execution_count": 63,
     "metadata": {},
     "output_type": "execute_result"
    }
   ],
   "source": [
    "train.groupby(['source', 'status_group']).quantity.count().unstack()"
   ]
  },
  {
   "cell_type": "markdown",
   "metadata": {},
   "source": [
    "more non-functional:\n",
    "- machine dbh\n",
    "- lake\n",
    "- dam\n",
    "- shallow well\n",
    "- unknown "
   ]
  },
  {
   "cell_type": "markdown",
   "metadata": {},
   "source": [
    "### source_type\n",
    "1. keep instead of source"
   ]
  },
  {
   "cell_type": "code",
   "execution_count": 64,
   "metadata": {},
   "outputs": [
    {
     "data": {
      "text/plain": [
       "count      59400\n",
       "unique         7\n",
       "top       spring\n",
       "freq       17021\n",
       "Name: source_type, dtype: object"
      ]
     },
     "execution_count": 64,
     "metadata": {},
     "output_type": "execute_result"
    }
   ],
   "source": [
    "# overall info\n",
    "train.source_type.describe()"
   ]
  },
  {
   "cell_type": "code",
   "execution_count": 65,
   "metadata": {},
   "outputs": [
    {
     "data": {
      "image/png": "[encoded data removed]",
      "text/plain": [
       "<Figure size 576x288 with 1 Axes>"
      ]
     },
     "metadata": {},
     "output_type": "display_data"
    }
   ],
   "source": [
    "# plot\n",
    "g = sns.factorplot('source_type', data=train, aspect=2,\n",
    "                   kind=\"count\", palette='deep')\n",
    "\n",
    "g.set_xticklabels(step=1, rotation=70);"
   ]
  },
  {
   "cell_type": "code",
   "execution_count": 66,
   "metadata": {},
   "outputs": [
    {
     "data": {
      "text/plain": [
       "spring                  17021\n",
       "shallow well            16824\n",
       "borehole                11949\n",
       "river/lake              10377\n",
       "rainwater harvesting     2295\n",
       "dam                       656\n",
       "other                     278\n",
       "Name: source_type, dtype: int64"
      ]
     },
     "execution_count": 66,
     "metadata": {},
     "output_type": "execute_result"
    }
   ],
   "source": [
    "# value Count -> same as source but not unknowns\n",
    "train.source_type.value_counts()"
   ]
  },
  {
   "cell_type": "code",
   "execution_count": 67,
   "metadata": {},
   "outputs": [
    {
     "data": {
      "image/png": "[encoded data removed]",
      "text/plain": [
       "<Figure size 864x720 with 1 Axes>"
      ]
     },
     "metadata": {},
     "output_type": "display_data"
    }
   ],
   "source": [
    "# Stacked plot with status_group ->\n",
    "plot_df = train.groupby(['source_type', 'status_group']) \\\n",
    "               .quantity \\\n",
    "               .count() \\\n",
    "               .unstack()\n",
    "\n",
    "plot_df.plot(kind='bar', stacked=True, figsize=(12, 10), rot=40);"
   ]
  },
  {
   "cell_type": "markdown",
   "metadata": {},
   "source": [
    "### source_class\n",
    "1. Less granular than source_type"
   ]
  },
  {
   "cell_type": "code",
   "execution_count": 68,
   "metadata": {},
   "outputs": [
    {
     "data": {
      "text/plain": [
       "count           59400\n",
       "unique              3\n",
       "top       groundwater\n",
       "freq            45794\n",
       "Name: source_class, dtype: object"
      ]
     },
     "execution_count": 68,
     "metadata": {},
     "output_type": "execute_result"
    }
   ],
   "source": [
    "# overall info\n",
    "train.source_class.describe()"
   ]
  },
  {
   "cell_type": "code",
   "execution_count": 69,
   "metadata": {},
   "outputs": [
    {
     "data": {
      "image/png": "[encoded data removed]",
      "text/plain": [
       "<Figure size 576x288 with 1 Axes>"
      ]
     },
     "metadata": {},
     "output_type": "display_data"
    }
   ],
   "source": [
    "# plots\n",
    "g = sns.factorplot('source_class', data=train, aspect=2,\n",
    "                   kind=\"count\", palette='deep')\n",
    "\n",
    "g.set_xticklabels(step=1, rotation=70);"
   ]
  },
  {
   "cell_type": "code",
   "execution_count": 70,
   "metadata": {},
   "outputs": [
    {
     "data": {
      "text/plain": [
       "0"
      ]
     },
     "execution_count": 70,
     "metadata": {},
     "output_type": "execute_result"
    }
   ],
   "source": [
    "# missing values\n",
    "all_data.source_class.isnull().sum()"
   ]
  },
  {
   "cell_type": "markdown",
   "metadata": {},
   "source": [
    "### wpt_name"
   ]
  },
  {
   "cell_type": "code",
   "execution_count": 71,
   "metadata": {},
   "outputs": [
    {
     "data": {
      "text/plain": [
       "count     59400\n",
       "unique    37400\n",
       "top        none\n",
       "freq       3563\n",
       "Name: wpt_name, dtype: object"
      ]
     },
     "execution_count": 71,
     "metadata": {},
     "output_type": "execute_result"
    }
   ],
   "source": [
    "# overall info\n",
    "train.wpt_name.describe()"
   ]
  },
  {
   "cell_type": "code",
   "execution_count": 72,
   "metadata": {},
   "outputs": [
    {
     "data": {
      "text/plain": [
       "none               3563\n",
       "Shuleni            1748\n",
       "Zahanati            830\n",
       "Msikitini           535\n",
       "Kanisani            323\n",
       "Bombani             271\n",
       "Sokoni              260\n",
       "Ofisini             254\n",
       "School              208\n",
       "Shule Ya Msingi     199\n",
       "Shule               152\n",
       "Sekondari           146\n",
       "Muungano            133\n",
       "Mkombozi            111\n",
       "Madukani            104\n",
       "Hospital             94\n",
       "Mbugani              94\n",
       "Upendo               93\n",
       "Kituo Cha Afya       90\n",
       "Mkuyuni              88\n",
       "Name: wpt_name, dtype: int64"
      ]
     },
     "execution_count": 72,
     "metadata": {},
     "output_type": "execute_result"
    }
   ],
   "source": [
    "# value Count \n",
    "train.wpt_name.value_counts().head(20)"
   ]
  },
  {
   "cell_type": "code",
   "execution_count": 73,
   "metadata": {},
   "outputs": [],
   "source": [
    "# -> alot of nones\n",
    "# -> impute or drop? \n",
    "# -> transform binary, name or no name (inc. none)"
   ]
  },
  {
   "cell_type": "code",
   "execution_count": 74,
   "metadata": {},
   "outputs": [
    {
     "data": {
      "text/plain": [
       "0"
      ]
     },
     "execution_count": 74,
     "metadata": {},
     "output_type": "execute_result"
    }
   ],
   "source": [
    "# missing Values\n",
    "all_data.wpt_name.isnull().sum()"
   ]
  },
  {
   "cell_type": "markdown",
   "metadata": {},
   "source": [
    "### water_quality"
   ]
  },
  {
   "cell_type": "code",
   "execution_count": 75,
   "metadata": {},
   "outputs": [
    {
     "data": {
      "text/plain": [
       "count     59400\n",
       "unique        8\n",
       "top        soft\n",
       "freq      50818\n",
       "Name: water_quality, dtype: object"
      ]
     },
     "execution_count": 75,
     "metadata": {},
     "output_type": "execute_result"
    }
   ],
   "source": [
    "# overall info\n",
    "train.water_quality.describe()"
   ]
  },
  {
   "cell_type": "code",
   "execution_count": 76,
   "metadata": {},
   "outputs": [
    {
     "data": {
      "image/png": "[encoded data removed]",
      "text/plain": [
       "<Figure size 576x288 with 1 Axes>"
      ]
     },
     "metadata": {},
     "output_type": "display_data"
    }
   ],
   "source": [
    "# plot\n",
    "g = sns.factorplot('water_quality', data=train, aspect=2,\n",
    "                   kind=\"count\", palette='deep')\n",
    "\n",
    "g.set_xticklabels(step=1, rotation=70);"
   ]
  },
  {
   "cell_type": "code",
   "execution_count": 77,
   "metadata": {},
   "outputs": [
    {
     "data": {
      "text/plain": [
       "soft                  50818\n",
       "salty                  4856\n",
       "unknown                1876\n",
       "milky                   804\n",
       "coloured                490\n",
       "salty abandoned         339\n",
       "fluoride                200\n",
       "fluoride abandoned       17\n",
       "Name: water_quality, dtype: int64"
      ]
     },
     "execution_count": 77,
     "metadata": {},
     "output_type": "execute_result"
    }
   ],
   "source": [
    "# value Count -> mostly soft\n",
    "train.water_quality.value_counts()"
   ]
  },
  {
   "cell_type": "code",
   "execution_count": 78,
   "metadata": {},
   "outputs": [
    {
     "data": {
      "text/plain": [
       "0"
      ]
     },
     "execution_count": 78,
     "metadata": {},
     "output_type": "execute_result"
    }
   ],
   "source": [
    "# missing Values\n",
    "all_data.water_quality.isnull().sum()"
   ]
  },
  {
   "cell_type": "code",
   "execution_count": 79,
   "metadata": {},
   "outputs": [
    {
     "data": {
      "image/png": "[encoded data removed]",
      "text/plain": [
       "<Figure size 864x720 with 1 Axes>"
      ]
     },
     "metadata": {},
     "output_type": "display_data"
    }
   ],
   "source": [
    "# Stacked plot with status_group -> unknown higher proportion of non-functional\n",
    "plot_df = train.groupby(['water_quality', 'status_group']) \\\n",
    "               .quantity \\\n",
    "               .count() \\\n",
    "               .unstack()\n",
    "\n",
    "plot_df.plot(kind='bar', stacked=True, figsize=(12, 10), rot=40);"
   ]
  },
  {
   "cell_type": "code",
   "execution_count": 80,
   "metadata": {},
   "outputs": [
    {
     "data": {
      "text/html": [
       "<div>\n",
       "<style scoped>\n",
       "    .dataframe tbody tr th:only-of-type {\n",
       "        vertical-align: middle;\n",
       "    }\n",
       "\n",
       "    .dataframe tbody tr th {\n",
       "        vertical-align: top;\n",
       "    }\n",
       "\n",
       "    .dataframe thead th {\n",
       "        text-align: right;\n",
       "    }\n",
       "</style>\n",
       "<table border=\"1\" class=\"dataframe\">\n",
       "  <thead>\n",
       "    <tr style=\"text-align: right;\">\n",
       "      <th>status_group</th>\n",
       "      <th>functional</th>\n",
       "      <th>functional needs repair</th>\n",
       "      <th>non functional</th>\n",
       "    </tr>\n",
       "    <tr>\n",
       "      <th>water_quality</th>\n",
       "      <th></th>\n",
       "      <th></th>\n",
       "      <th></th>\n",
       "    </tr>\n",
       "  </thead>\n",
       "  <tbody>\n",
       "    <tr>\n",
       "      <th>coloured</th>\n",
       "      <td>246.0</td>\n",
       "      <td>54.0</td>\n",
       "      <td>190.0</td>\n",
       "    </tr>\n",
       "    <tr>\n",
       "      <th>fluoride</th>\n",
       "      <td>151.0</td>\n",
       "      <td>13.0</td>\n",
       "      <td>36.0</td>\n",
       "    </tr>\n",
       "    <tr>\n",
       "      <th>fluoride abandoned</th>\n",
       "      <td>6.0</td>\n",
       "      <td>NaN</td>\n",
       "      <td>11.0</td>\n",
       "    </tr>\n",
       "    <tr>\n",
       "      <th>milky</th>\n",
       "      <td>438.0</td>\n",
       "      <td>14.0</td>\n",
       "      <td>352.0</td>\n",
       "    </tr>\n",
       "    <tr>\n",
       "      <th>salty</th>\n",
       "      <td>2220.0</td>\n",
       "      <td>225.0</td>\n",
       "      <td>2411.0</td>\n",
       "    </tr>\n",
       "    <tr>\n",
       "      <th>salty abandoned</th>\n",
       "      <td>174.0</td>\n",
       "      <td>72.0</td>\n",
       "      <td>93.0</td>\n",
       "    </tr>\n",
       "    <tr>\n",
       "      <th>soft</th>\n",
       "      <td>28760.0</td>\n",
       "      <td>3904.0</td>\n",
       "      <td>18154.0</td>\n",
       "    </tr>\n",
       "    <tr>\n",
       "      <th>unknown</th>\n",
       "      <td>264.0</td>\n",
       "      <td>35.0</td>\n",
       "      <td>1577.0</td>\n",
       "    </tr>\n",
       "  </tbody>\n",
       "</table>\n",
       "</div>"
      ],
      "text/plain": [
       "status_group        functional  functional needs repair  non functional\n",
       "water_quality                                                          \n",
       "coloured                 246.0                     54.0           190.0\n",
       "fluoride                 151.0                     13.0            36.0\n",
       "fluoride abandoned         6.0                      NaN            11.0\n",
       "milky                    438.0                     14.0           352.0\n",
       "salty                   2220.0                    225.0          2411.0\n",
       "salty abandoned          174.0                     72.0            93.0\n",
       "soft                   28760.0                   3904.0         18154.0\n",
       "unknown                  264.0                     35.0          1577.0"
      ]
     },
     "execution_count": 80,
     "metadata": {},
     "output_type": "execute_result"
    }
   ],
   "source": [
    "train.groupby(['water_quality', 'status_group']) \\\n",
    "               .quantity \\\n",
    "               .count() \\\n",
    "               .unstack()"
   ]
  },
  {
   "cell_type": "markdown",
   "metadata": {},
   "source": [
    "### quality_group"
   ]
  },
  {
   "cell_type": "code",
   "execution_count": 81,
   "metadata": {},
   "outputs": [
    {
     "data": {
      "text/plain": [
       "count     59400\n",
       "unique        6\n",
       "top        good\n",
       "freq      50818\n",
       "Name: quality_group, dtype: object"
      ]
     },
     "execution_count": 81,
     "metadata": {},
     "output_type": "execute_result"
    }
   ],
   "source": [
    "# overall info\n",
    "train.quality_group.describe()"
   ]
  },
  {
   "cell_type": "code",
   "execution_count": 82,
   "metadata": {},
   "outputs": [
    {
     "data": {
      "image/png": "[encoded data removed]",
      "text/plain": [
       "<Figure size 576x288 with 1 Axes>"
      ]
     },
     "metadata": {},
     "output_type": "display_data"
    }
   ],
   "source": [
    "# plot -> soft change name to good \n",
    "g = sns.factorplot('quality_group', data=train, aspect=2,\n",
    "                   kind=\"count\", palette='deep')\n",
    "\n",
    "g.set_xticklabels(step=1, rotation=70);"
   ]
  },
  {
   "cell_type": "code",
   "execution_count": 83,
   "metadata": {},
   "outputs": [
    {
     "data": {
      "text/plain": [
       "good        50818\n",
       "salty        5195\n",
       "unknown      1876\n",
       "milky         804\n",
       "colored       490\n",
       "fluoride      217\n",
       "Name: quality_group, dtype: int64"
      ]
     },
     "execution_count": 83,
     "metadata": {},
     "output_type": "execute_result"
    }
   ],
   "source": [
    "# value Count\n",
    "train.quality_group.value_counts()"
   ]
  },
  {
   "cell_type": "code",
   "execution_count": 84,
   "metadata": {},
   "outputs": [
    {
     "data": {
      "text/plain": [
       "0"
      ]
     },
     "execution_count": 84,
     "metadata": {},
     "output_type": "execute_result"
    }
   ],
   "source": [
    "# missing Values\n",
    "all_data.quality_group.isnull().sum()"
   ]
  },
  {
   "cell_type": "code",
   "execution_count": 85,
   "metadata": {},
   "outputs": [
    {
     "data": {
      "image/png": "[encoded data removed]",
      "text/plain": [
       "<Figure size 864x720 with 1 Axes>"
      ]
     },
     "metadata": {},
     "output_type": "display_data"
    }
   ],
   "source": [
    "# Stacked plot with status_group -> unknown higher proportion of non-functional\n",
    "plot_df = train.groupby(['quality_group', 'status_group']) \\\n",
    "               .quantity \\\n",
    "               .count() \\\n",
    "               .unstack()\n",
    "\n",
    "plot_df.plot(kind='bar', stacked=True, figsize=(12, 10), rot=40);"
   ]
  },
  {
   "cell_type": "code",
   "execution_count": 86,
   "metadata": {},
   "outputs": [
    {
     "data": {
      "text/html": [
       "<div>\n",
       "<style scoped>\n",
       "    .dataframe tbody tr th:only-of-type {\n",
       "        vertical-align: middle;\n",
       "    }\n",
       "\n",
       "    .dataframe tbody tr th {\n",
       "        vertical-align: top;\n",
       "    }\n",
       "\n",
       "    .dataframe thead th {\n",
       "        text-align: right;\n",
       "    }\n",
       "</style>\n",
       "<table border=\"1\" class=\"dataframe\">\n",
       "  <thead>\n",
       "    <tr style=\"text-align: right;\">\n",
       "      <th>status_group</th>\n",
       "      <th>functional</th>\n",
       "      <th>functional needs repair</th>\n",
       "      <th>non functional</th>\n",
       "    </tr>\n",
       "    <tr>\n",
       "      <th>quality_group</th>\n",
       "      <th></th>\n",
       "      <th></th>\n",
       "      <th></th>\n",
       "    </tr>\n",
       "  </thead>\n",
       "  <tbody>\n",
       "    <tr>\n",
       "      <th>colored</th>\n",
       "      <td>246</td>\n",
       "      <td>54</td>\n",
       "      <td>190</td>\n",
       "    </tr>\n",
       "    <tr>\n",
       "      <th>fluoride</th>\n",
       "      <td>157</td>\n",
       "      <td>13</td>\n",
       "      <td>47</td>\n",
       "    </tr>\n",
       "    <tr>\n",
       "      <th>good</th>\n",
       "      <td>28760</td>\n",
       "      <td>3904</td>\n",
       "      <td>18154</td>\n",
       "    </tr>\n",
       "    <tr>\n",
       "      <th>milky</th>\n",
       "      <td>438</td>\n",
       "      <td>14</td>\n",
       "      <td>352</td>\n",
       "    </tr>\n",
       "    <tr>\n",
       "      <th>salty</th>\n",
       "      <td>2394</td>\n",
       "      <td>297</td>\n",
       "      <td>2504</td>\n",
       "    </tr>\n",
       "    <tr>\n",
       "      <th>unknown</th>\n",
       "      <td>264</td>\n",
       "      <td>35</td>\n",
       "      <td>1577</td>\n",
       "    </tr>\n",
       "  </tbody>\n",
       "</table>\n",
       "</div>"
      ],
      "text/plain": [
       "status_group   functional  functional needs repair  non functional\n",
       "quality_group                                                     \n",
       "colored               246                       54             190\n",
       "fluoride              157                       13              47\n",
       "good                28760                     3904           18154\n",
       "milky                 438                       14             352\n",
       "salty                2394                      297            2504\n",
       "unknown               264                       35            1577"
      ]
     },
     "execution_count": 86,
     "metadata": {},
     "output_type": "execute_result"
    }
   ],
   "source": [
    "train.groupby(['quality_group', 'status_group']) \\\n",
    "               .quantity \\\n",
    "               .count() \\\n",
    "               .unstack()"
   ]
  },
  {
   "cell_type": "markdown",
   "metadata": {},
   "source": [
    "### waterpoint_type"
   ]
  },
  {
   "cell_type": "code",
   "execution_count": 87,
   "metadata": {},
   "outputs": [
    {
     "data": {
      "text/plain": [
       "count                  59400\n",
       "unique                     7\n",
       "top       communal standpipe\n",
       "freq                   28522\n",
       "Name: waterpoint_type, dtype: object"
      ]
     },
     "execution_count": 87,
     "metadata": {},
     "output_type": "execute_result"
    }
   ],
   "source": [
    "# overall info\n",
    "train.waterpoint_type.describe()"
   ]
  },
  {
   "cell_type": "code",
   "execution_count": 88,
   "metadata": {},
   "outputs": [
    {
     "data": {
      "image/png": "[encoded data removed]",
      "text/plain": [
       "<Figure size 576x288 with 1 Axes>"
      ]
     },
     "metadata": {},
     "output_type": "display_data"
    }
   ],
   "source": [
    "# plot\n",
    "g = sns.factorplot('waterpoint_type', data=train, aspect=2,\n",
    "                   kind=\"count\", palette='deep')\n",
    "\n",
    "g.set_xticklabels(step=1, rotation=70);"
   ]
  },
  {
   "cell_type": "markdown",
   "metadata": {},
   "source": [
    "### waterpoint_type_group"
   ]
  },
  {
   "cell_type": "code",
   "execution_count": 89,
   "metadata": {},
   "outputs": [
    {
     "data": {
      "text/plain": [
       "count                  59400\n",
       "unique                     6\n",
       "top       communal standpipe\n",
       "freq                   34625\n",
       "Name: waterpoint_type_group, dtype: object"
      ]
     },
     "execution_count": 89,
     "metadata": {},
     "output_type": "execute_result"
    }
   ],
   "source": [
    "# overall info\n",
    "train.waterpoint_type_group.describe()"
   ]
  },
  {
   "cell_type": "code",
   "execution_count": 90,
   "metadata": {},
   "outputs": [
    {
     "data": {
      "text/plain": [
       "<seaborn.axisgrid.FacetGrid at 0x1a13817a90>"
      ]
     },
     "execution_count": 90,
     "metadata": {},
     "output_type": "execute_result"
    },
    {
     "data": {
      "image/png": "[encoded data removed]",
      "text/plain": [
       "<Figure size 576x288 with 1 Axes>"
      ]
     },
     "metadata": {},
     "output_type": "display_data"
    }
   ],
   "source": [
    "# plot\n",
    "g = sns.factorplot('waterpoint_type_group', data=train, aspect=2,\n",
    "                   kind=\"count\", palette='deep')\n",
    "\n",
    "g.set_xticklabels(step=1, rotation=70)"
   ]
  },
  {
   "cell_type": "code",
   "execution_count": 91,
   "metadata": {},
   "outputs": [
    {
     "data": {
      "text/plain": [
       "communal standpipe    34625\n",
       "hand pump             17488\n",
       "other                  6380\n",
       "improved spring         784\n",
       "cattle trough           116\n",
       "dam                       7\n",
       "Name: waterpoint_type_group, dtype: int64"
      ]
     },
     "execution_count": 91,
     "metadata": {},
     "output_type": "execute_result"
    }
   ],
   "source": [
    "# value Count -> like waterpoint_type but with less levels\n",
    "train.waterpoint_type_group.value_counts()"
   ]
  },
  {
   "cell_type": "code",
   "execution_count": 92,
   "metadata": {},
   "outputs": [
    {
     "data": {
      "text/plain": [
       "0"
      ]
     },
     "execution_count": 92,
     "metadata": {},
     "output_type": "execute_result"
    }
   ],
   "source": [
    "# missing values\n",
    "all_data.waterpoint_type.isnull().sum()"
   ]
  },
  {
   "cell_type": "markdown",
   "metadata": {},
   "source": [
    "## time_parameters\n",
    "\n",
    "### date_recorded"
   ]
  },
  {
   "cell_type": "code",
   "execution_count": 93,
   "metadata": {},
   "outputs": [
    {
     "data": {
      "text/plain": [
       "count                   59400\n",
       "unique                    356\n",
       "top       2011-03-15 00:00:00\n",
       "freq                      572\n",
       "first     2002-10-14 00:00:00\n",
       "last      2013-12-03 00:00:00\n",
       "Name: date_recorded, dtype: object"
      ]
     },
     "execution_count": 93,
     "metadata": {},
     "output_type": "execute_result"
    }
   ],
   "source": [
    "# Overall info\n",
    "train.date_recorded.describe()"
   ]
  },
  {
   "cell_type": "code",
   "execution_count": 94,
   "metadata": {},
   "outputs": [
    {
     "data": {
      "text/plain": [
       "Timestamp('2002-10-14 00:00:00')"
      ]
     },
     "execution_count": 94,
     "metadata": {},
     "output_type": "execute_result"
    }
   ],
   "source": [
    "# Earliest date_recorded\n",
    "train.date_recorded.min()"
   ]
  },
  {
   "cell_type": "code",
   "execution_count": 95,
   "metadata": {},
   "outputs": [
    {
     "data": {
      "text/plain": [
       "Timestamp('2013-12-03 00:00:00')"
      ]
     },
     "execution_count": 95,
     "metadata": {},
     "output_type": "execute_result"
    }
   ],
   "source": [
    "# Latest date_recorded\n",
    "train.date_recorded.max()"
   ]
  },
  {
   "cell_type": "code",
   "execution_count": 96,
   "metadata": {},
   "outputs": [
    {
     "data": {
      "text/plain": [
       "2011-03-15    572\n",
       "2011-03-17    558\n",
       "2013-02-03    546\n",
       "2011-03-14    520\n",
       "2011-03-16    513\n",
       "2011-03-18    497\n",
       "2011-03-19    466\n",
       "2013-02-04    464\n",
       "2013-01-29    459\n",
       "2011-03-04    458\n",
       "2013-02-14    444\n",
       "2013-01-24    435\n",
       "2011-03-05    434\n",
       "2013-02-15    429\n",
       "2013-03-15    428\n",
       "2011-03-11    426\n",
       "2013-01-30    421\n",
       "2013-02-16    418\n",
       "2011-03-23    417\n",
       "2011-03-09    416\n",
       "Name: date_recorded, dtype: int64"
      ]
     },
     "execution_count": 96,
     "metadata": {},
     "output_type": "execute_result"
    }
   ],
   "source": [
    "# Value count\n",
    "train.date_recorded.value_counts().nlargest(20)"
   ]
  },
  {
   "cell_type": "code",
   "execution_count": 97,
   "metadata": {},
   "outputs": [
    {
     "data": {
      "text/plain": [
       "0"
      ]
     },
     "execution_count": 97,
     "metadata": {},
     "output_type": "execute_result"
    }
   ],
   "source": [
    "# Missing values\n",
    "all_data.date_recorded.isnull().sum()"
   ]
  },
  {
   "cell_type": "code",
   "execution_count": 98,
   "metadata": {},
   "outputs": [
    {
     "data": {
      "image/png": "[encoded data removed]",
      "text/plain": [
       "<Figure size 864x720 with 1 Axes>"
      ]
     },
     "metadata": {},
     "output_type": "display_data"
    }
   ],
   "source": [
    "# distrubution of date_recorded\n",
    "train.groupby([train.date_recorded.dt.year,\n",
    "               train.date_recorded.dt.month]).date_recorded.count().plot(kind='bar', x='', figsize=(12, 10));"
   ]
  },
  {
   "cell_type": "code",
   "execution_count": 99,
   "metadata": {},
   "outputs": [
    {
     "data": {
      "text/html": [
       "<div>\n",
       "<style scoped>\n",
       "    .dataframe tbody tr th:only-of-type {\n",
       "        vertical-align: middle;\n",
       "    }\n",
       "\n",
       "    .dataframe tbody tr th {\n",
       "        vertical-align: top;\n",
       "    }\n",
       "\n",
       "    .dataframe thead th {\n",
       "        text-align: right;\n",
       "    }\n",
       "</style>\n",
       "<table border=\"1\" class=\"dataframe\">\n",
       "  <thead>\n",
       "    <tr style=\"text-align: right;\">\n",
       "      <th></th>\n",
       "      <th>amount_tsh</th>\n",
       "      <th>date_recorded</th>\n",
       "      <th>funder</th>\n",
       "      <th>gps_height</th>\n",
       "      <th>installer</th>\n",
       "      <th>longitude</th>\n",
       "      <th>latitude</th>\n",
       "      <th>wpt_name</th>\n",
       "      <th>num_private</th>\n",
       "      <th>basin</th>\n",
       "      <th>subvillage</th>\n",
       "      <th>region</th>\n",
       "      <th>region_code</th>\n",
       "      <th>district_code</th>\n",
       "      <th>lga</th>\n",
       "      <th>ward</th>\n",
       "      <th>population</th>\n",
       "      <th>public_meeting</th>\n",
       "      <th>recorded_by</th>\n",
       "      <th>scheme_management</th>\n",
       "      <th>scheme_name</th>\n",
       "      <th>permit</th>\n",
       "      <th>construction_year</th>\n",
       "      <th>extraction_type</th>\n",
       "      <th>extraction_type_group</th>\n",
       "      <th>extraction_type_class</th>\n",
       "      <th>management</th>\n",
       "      <th>management_group</th>\n",
       "      <th>payment</th>\n",
       "      <th>payment_type</th>\n",
       "      <th>water_quality</th>\n",
       "      <th>quality_group</th>\n",
       "      <th>quantity</th>\n",
       "      <th>quantity_group</th>\n",
       "      <th>source</th>\n",
       "      <th>source_type</th>\n",
       "      <th>source_class</th>\n",
       "      <th>waterpoint_type</th>\n",
       "      <th>waterpoint_type_group</th>\n",
       "      <th>status_group</th>\n",
       "    </tr>\n",
       "    <tr>\n",
       "      <th>id</th>\n",
       "      <th></th>\n",
       "      <th></th>\n",
       "      <th></th>\n",
       "      <th></th>\n",
       "      <th></th>\n",
       "      <th></th>\n",
       "      <th></th>\n",
       "      <th></th>\n",
       "      <th></th>\n",
       "      <th></th>\n",
       "      <th></th>\n",
       "      <th></th>\n",
       "      <th></th>\n",
       "      <th></th>\n",
       "      <th></th>\n",
       "      <th></th>\n",
       "      <th></th>\n",
       "      <th></th>\n",
       "      <th></th>\n",
       "      <th></th>\n",
       "      <th></th>\n",
       "      <th></th>\n",
       "      <th></th>\n",
       "      <th></th>\n",
       "      <th></th>\n",
       "      <th></th>\n",
       "      <th></th>\n",
       "      <th></th>\n",
       "      <th></th>\n",
       "      <th></th>\n",
       "      <th></th>\n",
       "      <th></th>\n",
       "      <th></th>\n",
       "      <th></th>\n",
       "      <th></th>\n",
       "      <th></th>\n",
       "      <th></th>\n",
       "      <th></th>\n",
       "      <th></th>\n",
       "      <th></th>\n",
       "    </tr>\n",
       "  </thead>\n",
       "  <tbody>\n",
       "    <tr>\n",
       "      <th>14428</th>\n",
       "      <td>0.0</td>\n",
       "      <td>2002-10-14</td>\n",
       "      <td>Undp</td>\n",
       "      <td>0</td>\n",
       "      <td>BESADA</td>\n",
       "      <td>33.688109</td>\n",
       "      <td>-3.740579</td>\n",
       "      <td>Shule</td>\n",
       "      <td>0</td>\n",
       "      <td>Internal</td>\n",
       "      <td>Mwawe Ja</td>\n",
       "      <td>Shinyanga</td>\n",
       "      <td>17</td>\n",
       "      <td>8</td>\n",
       "      <td>Kishapu</td>\n",
       "      <td>Ukenyenge</td>\n",
       "      <td>0</td>\n",
       "      <td>False</td>\n",
       "      <td>GeoData Consultants Ltd</td>\n",
       "      <td>Parastatal</td>\n",
       "      <td>NaN</td>\n",
       "      <td>False</td>\n",
       "      <td>0</td>\n",
       "      <td>gravity</td>\n",
       "      <td>gravity</td>\n",
       "      <td>gravity</td>\n",
       "      <td>parastatal</td>\n",
       "      <td>parastatal</td>\n",
       "      <td>unknown</td>\n",
       "      <td>unknown</td>\n",
       "      <td>soft</td>\n",
       "      <td>good</td>\n",
       "      <td>seasonal</td>\n",
       "      <td>seasonal</td>\n",
       "      <td>rainwater harvesting</td>\n",
       "      <td>rainwater harvesting</td>\n",
       "      <td>surface</td>\n",
       "      <td>other</td>\n",
       "      <td>other</td>\n",
       "      <td>functional</td>\n",
       "    </tr>\n",
       "  </tbody>\n",
       "</table>\n",
       "</div>"
      ],
      "text/plain": [
       "       amount_tsh date_recorded funder  gps_height installer  longitude  \\\n",
       "id                                                                        \n",
       "14428         0.0    2002-10-14   Undp           0    BESADA  33.688109   \n",
       "\n",
       "       latitude wpt_name  num_private     basin subvillage     region  \\\n",
       "id                                                                      \n",
       "14428 -3.740579    Shule            0  Internal   Mwawe Ja  Shinyanga   \n",
       "\n",
       "       region_code  district_code      lga       ward  population  \\\n",
       "id                                                                  \n",
       "14428           17              8  Kishapu  Ukenyenge           0   \n",
       "\n",
       "      public_meeting              recorded_by scheme_management scheme_name  \\\n",
       "id                                                                            \n",
       "14428          False  GeoData Consultants Ltd        Parastatal         NaN   \n",
       "\n",
       "      permit  construction_year extraction_type extraction_type_group  \\\n",
       "id                                                                      \n",
       "14428  False                  0         gravity               gravity   \n",
       "\n",
       "      extraction_type_class  management management_group  payment  \\\n",
       "id                                                                  \n",
       "14428               gravity  parastatal       parastatal  unknown   \n",
       "\n",
       "      payment_type water_quality quality_group  quantity quantity_group  \\\n",
       "id                                                                        \n",
       "14428      unknown          soft          good  seasonal       seasonal   \n",
       "\n",
       "                     source           source_type source_class  \\\n",
       "id                                                               \n",
       "14428  rainwater harvesting  rainwater harvesting      surface   \n",
       "\n",
       "      waterpoint_type waterpoint_type_group status_group  \n",
       "id                                                        \n",
       "14428           other                 other   functional  "
      ]
     },
     "execution_count": 99,
     "metadata": {},
     "output_type": "execute_result"
    }
   ],
   "source": [
    "# Filter data based on records prior 2004 -> drop record\n",
    "train[train.date_recorded < '2004-01-01']"
   ]
  },
  {
   "cell_type": "code",
   "execution_count": 100,
   "metadata": {},
   "outputs": [],
   "source": [
    "# Drop record from train 2002 \n",
    "all_data.drop(14428, inplace=True)"
   ]
  },
  {
   "cell_type": "markdown",
   "metadata": {},
   "source": [
    "## Demographic Parameters\n",
    "\n",
    "### population\n"
   ]
  },
  {
   "cell_type": "code",
   "execution_count": 101,
   "metadata": {},
   "outputs": [
    {
     "data": {
      "text/plain": [
       "count    59400.000000\n",
       "mean       179.909983\n",
       "std        471.482176\n",
       "min          0.000000\n",
       "25%          0.000000\n",
       "50%         25.000000\n",
       "75%        215.000000\n",
       "max      30500.000000\n",
       "Name: population, dtype: float64"
      ]
     },
     "execution_count": 101,
     "metadata": {},
     "output_type": "execute_result"
    }
   ],
   "source": [
    "# overall info\n",
    "train.population.describe()"
   ]
  },
  {
   "cell_type": "code",
   "execution_count": 102,
   "metadata": {},
   "outputs": [
    {
     "data": {
      "text/plain": [
       "<matplotlib.axes._subplots.AxesSubplot at 0x1a13817c18>"
      ]
     },
     "execution_count": 102,
     "metadata": {},
     "output_type": "execute_result"
    },
    {
     "data": {
      "image/png": "[encoded data removed]",
      "text/plain": [
       "<Figure size 432x288 with 1 Axes>"
      ]
     },
     "metadata": {},
     "output_type": "display_data"
    }
   ],
   "source": [
    "# KDEplot -> alot of zeros\n",
    "sns.kdeplot(train.population, shade=True)"
   ]
  },
  {
   "cell_type": "code",
   "execution_count": 103,
   "metadata": {},
   "outputs": [
    {
     "data": {
      "text/plain": [
       "26833"
      ]
     },
     "execution_count": 103,
     "metadata": {},
     "output_type": "execute_result"
    }
   ],
   "source": [
    "# zero values\n",
    "all_data[all_data.population == 0].population.count()"
   ]
  },
  {
   "cell_type": "code",
   "execution_count": 104,
   "metadata": {},
   "outputs": [
    {
     "data": {
      "text/plain": [
       "<matplotlib.axes._subplots.AxesSubplot at 0x108347a90>"
      ]
     },
     "execution_count": 104,
     "metadata": {},
     "output_type": "execute_result"
    },
    {
     "data": {
      "image/png": "[encoded data removed]",
      "text/plain": [
       "<Figure size 432x288 with 1 Axes>"
      ]
     },
     "metadata": {},
     "output_type": "display_data"
    }
   ],
   "source": [
    "# KDEplot population > 0 -> still bad very wide range....\n",
    "sns.kdeplot(train[train.population > 0].population, shade=True)"
   ]
  },
  {
   "cell_type": "code",
   "execution_count": 105,
   "metadata": {},
   "outputs": [
    {
     "data": {
      "text/plain": [
       "<matplotlib.axes._subplots.AxesSubplot at 0x1a1357c390>"
      ]
     },
     "execution_count": 105,
     "metadata": {},
     "output_type": "execute_result"
    },
    {
     "data": {
      "image/png": "[encoded data removed]",
      "text/plain": [
       "<Figure size 432x288 with 1 Axes>"
      ]
     },
     "metadata": {},
     "output_type": "display_data"
    }
   ],
   "source": [
    "# KDEplot log10 (population > 0) \n",
    "sns.kdeplot(np.log10(train[train.population > 0].population + 1), shade=True)"
   ]
  },
  {
   "cell_type": "code",
   "execution_count": 106,
   "metadata": {},
   "outputs": [],
   "source": [
    "# -> better display \n",
    "# -> create new variable in log transformation \n",
    "# -> impute zero values ?"
   ]
  },
  {
   "cell_type": "code",
   "execution_count": 107,
   "metadata": {},
   "outputs": [
    {
     "name": "stderr",
     "output_type": "stream",
     "text": [
      "/anaconda/lib/python3.6/site-packages/matplotlib/axes/_axes.py:6448: UserWarning: The 'normed' kwarg is deprecated, and has been replaced by the 'density' kwarg.\n",
      "  warnings.warn(\"The 'normed' kwarg is deprecated, and has been \"\n"
     ]
    },
    {
     "data": {
      "image/png": "[encoded data removed]",
      "text/plain": [
       "<Figure size 864x576 with 1 Axes>"
      ]
     },
     "metadata": {},
     "output_type": "display_data"
    }
   ],
   "source": [
    "# See distrubtion of log population vs status_group -> no clear relationship\n",
    "plot_df = pd.concat([train.status_group, np.log10(train.population + 1)], axis=1)\n",
    "\n",
    "fig, ax = plt.subplots(figsize=(12, 8))\n",
    "\n",
    "sns.distplot(plot_df[(plot_df.status_group == 'functional')].population,\n",
    "             kde=False, color='r',\n",
    "             label=\"functional\")\n",
    "\n",
    "sns.distplot(plot_df[(plot_df.status_group == 'non functional')].population,\n",
    "             kde=False, color='g',\n",
    "             label=\"non functional\")\n",
    "\n",
    "sns.distplot(plot_df[(plot_df.status_group == 'functional needs repair')].population,\n",
    "             kde=False, color='b',\n",
    "             label=\"functional needs repair\")\n",
    "\n",
    "plt.legend();"
   ]
  },
  {
   "cell_type": "markdown",
   "metadata": {},
   "source": [
    "## Economic Parameters\n",
    "\n",
    "### payment_type"
   ]
  },
  {
   "cell_type": "code",
   "execution_count": 108,
   "metadata": {},
   "outputs": [
    {
     "data": {
      "text/plain": [
       "count         59400\n",
       "unique            7\n",
       "top       never pay\n",
       "freq          25348\n",
       "Name: payment_type, dtype: object"
      ]
     },
     "execution_count": 108,
     "metadata": {},
     "output_type": "execute_result"
    }
   ],
   "source": [
    "# overall info\n",
    "train.payment_type.describe()"
   ]
  },
  {
   "cell_type": "code",
   "execution_count": 109,
   "metadata": {},
   "outputs": [
    {
     "data": {
      "image/png": "[encoded data removed]",
      "text/plain": [
       "<Figure size 864x288 with 1 Axes>"
      ]
     },
     "metadata": {},
     "output_type": "display_data"
    }
   ],
   "source": [
    "# plot\n",
    "g = sns.factorplot('payment_type', data=train, aspect=3,\n",
    "                   kind=\"count\", palette='deep')\n",
    "\n",
    "g.set_xticklabels(step=1, rotation=70);"
   ]
  },
  {
   "cell_type": "code",
   "execution_count": 110,
   "metadata": {},
   "outputs": [
    {
     "data": {
      "text/plain": [
       "never pay     25348\n",
       "per bucket     8985\n",
       "monthly        8300\n",
       "unknown        8157\n",
       "on failure     3914\n",
       "annually       3642\n",
       "other          1054\n",
       "Name: payment_type, dtype: int64"
      ]
     },
     "execution_count": 110,
     "metadata": {},
     "output_type": "execute_result"
    }
   ],
   "source": [
    "# value Count\n",
    "train.payment_type.value_counts()\n"
   ]
  },
  {
   "cell_type": "code",
   "execution_count": 111,
   "metadata": {},
   "outputs": [
    {
     "data": {
      "text/plain": [
       "0"
      ]
     },
     "execution_count": 111,
     "metadata": {},
     "output_type": "execute_result"
    }
   ],
   "source": [
    "# missing Values\n",
    "all_data.payment_type.isnull().sum()"
   ]
  },
  {
   "cell_type": "code",
   "execution_count": 112,
   "metadata": {},
   "outputs": [
    {
     "data": {
      "image/png": "[encoded data removed]",
      "text/plain": [
       "<Figure size 864x720 with 1 Axes>"
      ]
     },
     "metadata": {},
     "output_type": "display_data"
    }
   ],
   "source": [
    "# Stacked plot with status_group -> unknown higher proportion of non-functional\n",
    "plot_df = train.groupby(['payment_type', 'status_group']) \\\n",
    "               .quantity \\\n",
    "               .count() \\\n",
    "               .unstack()\n",
    "\n",
    "plot_df.plot(kind='bar', stacked=True, figsize=(12, 10), rot=40);"
   ]
  },
  {
   "cell_type": "code",
   "execution_count": 113,
   "metadata": {},
   "outputs": [
    {
     "data": {
      "text/html": [
       "<div>\n",
       "<style scoped>\n",
       "    .dataframe tbody tr th:only-of-type {\n",
       "        vertical-align: middle;\n",
       "    }\n",
       "\n",
       "    .dataframe tbody tr th {\n",
       "        vertical-align: top;\n",
       "    }\n",
       "\n",
       "    .dataframe thead th {\n",
       "        text-align: right;\n",
       "    }\n",
       "</style>\n",
       "<table border=\"1\" class=\"dataframe\">\n",
       "  <thead>\n",
       "    <tr style=\"text-align: right;\">\n",
       "      <th>status_group</th>\n",
       "      <th>functional</th>\n",
       "      <th>functional needs repair</th>\n",
       "      <th>non functional</th>\n",
       "    </tr>\n",
       "    <tr>\n",
       "      <th>payment_type</th>\n",
       "      <th></th>\n",
       "      <th></th>\n",
       "      <th></th>\n",
       "    </tr>\n",
       "  </thead>\n",
       "  <tbody>\n",
       "    <tr>\n",
       "      <th>annually</th>\n",
       "      <td>2740</td>\n",
       "      <td>247</td>\n",
       "      <td>655</td>\n",
       "    </tr>\n",
       "    <tr>\n",
       "      <th>monthly</th>\n",
       "      <td>5482</td>\n",
       "      <td>927</td>\n",
       "      <td>1891</td>\n",
       "    </tr>\n",
       "    <tr>\n",
       "      <th>never pay</th>\n",
       "      <td>11379</td>\n",
       "      <td>1907</td>\n",
       "      <td>12062</td>\n",
       "    </tr>\n",
       "    <tr>\n",
       "      <th>on failure</th>\n",
       "      <td>2429</td>\n",
       "      <td>277</td>\n",
       "      <td>1208</td>\n",
       "    </tr>\n",
       "    <tr>\n",
       "      <th>other</th>\n",
       "      <td>611</td>\n",
       "      <td>118</td>\n",
       "      <td>325</td>\n",
       "    </tr>\n",
       "    <tr>\n",
       "      <th>per bucket</th>\n",
       "      <td>6090</td>\n",
       "      <td>409</td>\n",
       "      <td>2486</td>\n",
       "    </tr>\n",
       "    <tr>\n",
       "      <th>unknown</th>\n",
       "      <td>3528</td>\n",
       "      <td>432</td>\n",
       "      <td>4197</td>\n",
       "    </tr>\n",
       "  </tbody>\n",
       "</table>\n",
       "</div>"
      ],
      "text/plain": [
       "status_group  functional  functional needs repair  non functional\n",
       "payment_type                                                     \n",
       "annually            2740                      247             655\n",
       "monthly             5482                      927            1891\n",
       "never pay          11379                     1907           12062\n",
       "on failure          2429                      277            1208\n",
       "other                611                      118             325\n",
       "per bucket          6090                      409            2486\n",
       "unknown             3528                      432            4197"
      ]
     },
     "execution_count": 113,
     "metadata": {},
     "output_type": "execute_result"
    }
   ],
   "source": [
    "train.groupby(['payment_type', 'status_group']) \\\n",
    "               .quantity \\\n",
    "               .count() \\\n",
    "               .unstack()"
   ]
  },
  {
   "cell_type": "code",
   "execution_count": 114,
   "metadata": {},
   "outputs": [],
   "source": [
    "# higher prop non-functional:\n",
    "# never pay \n",
    "# unknown"
   ]
  },
  {
   "cell_type": "markdown",
   "metadata": {},
   "source": [
    "### payment"
   ]
  },
  {
   "cell_type": "code",
   "execution_count": 115,
   "metadata": {},
   "outputs": [
    {
     "data": {
      "text/plain": [
       "count         59400\n",
       "unique            7\n",
       "top       never pay\n",
       "freq          25348\n",
       "Name: payment, dtype: object"
      ]
     },
     "execution_count": 115,
     "metadata": {},
     "output_type": "execute_result"
    }
   ],
   "source": [
    "# overall info\n",
    "train.payment.describe()"
   ]
  },
  {
   "cell_type": "code",
   "execution_count": 116,
   "metadata": {},
   "outputs": [
    {
     "data": {
      "text/plain": [
       "never pay                25348\n",
       "pay per bucket            8985\n",
       "pay monthly               8300\n",
       "unknown                   8157\n",
       "pay when scheme fails     3914\n",
       "pay annually              3642\n",
       "other                     1054\n",
       "Name: payment, dtype: int64"
      ]
     },
     "execution_count": 116,
     "metadata": {},
     "output_type": "execute_result"
    }
   ],
   "source": [
    "# value Count -> same as payment_type\n",
    "train.payment.value_counts()"
   ]
  },
  {
   "cell_type": "markdown",
   "metadata": {},
   "source": [
    "## Legal Parameters\n",
    "### permit\n"
   ]
  },
  {
   "cell_type": "code",
   "execution_count": 117,
   "metadata": {},
   "outputs": [
    {
     "data": {
      "text/plain": [
       "count     56344\n",
       "unique        2\n",
       "top        True\n",
       "freq      38852\n",
       "Name: permit, dtype: object"
      ]
     },
     "execution_count": 117,
     "metadata": {},
     "output_type": "execute_result"
    }
   ],
   "source": [
    "# overall info\n",
    "train.permit.describe()"
   ]
  },
  {
   "cell_type": "code",
   "execution_count": 118,
   "metadata": {},
   "outputs": [
    {
     "data": {
      "text/plain": [
       "True     38852\n",
       "False    17492\n",
       "Name: permit, dtype: int64"
      ]
     },
     "execution_count": 118,
     "metadata": {},
     "output_type": "execute_result"
    }
   ],
   "source": [
    "# value Count\n",
    "train.permit.value_counts()"
   ]
  },
  {
   "cell_type": "code",
   "execution_count": 119,
   "metadata": {},
   "outputs": [
    {
     "data": {
      "text/plain": [
       "3793"
      ]
     },
     "execution_count": 119,
     "metadata": {},
     "output_type": "execute_result"
    }
   ],
   "source": [
    "# missing Values -> need to impute! -> probably new level unknown\n",
    "all_data.permit.isnull().sum()"
   ]
  },
  {
   "cell_type": "code",
   "execution_count": 120,
   "metadata": {},
   "outputs": [],
   "source": [
    "# -> make binary permit, no permit"
   ]
  },
  {
   "cell_type": "markdown",
   "metadata": {},
   "source": [
    "## Geographic Parameters\n",
    "### district_code"
   ]
  },
  {
   "cell_type": "code",
   "execution_count": 121,
   "metadata": {},
   "outputs": [
    {
     "data": {
      "text/plain": [
       "count    59400.000000\n",
       "mean         5.629747\n",
       "std          9.633649\n",
       "min          0.000000\n",
       "25%          2.000000\n",
       "50%          3.000000\n",
       "75%          5.000000\n",
       "max         80.000000\n",
       "Name: district_code, dtype: float64"
      ]
     },
     "execution_count": 121,
     "metadata": {},
     "output_type": "execute_result"
    }
   ],
   "source": [
    "# overall info\n",
    "train.district_code.describe()"
   ]
  },
  {
   "cell_type": "code",
   "execution_count": 122,
   "metadata": {},
   "outputs": [
    {
     "data": {
      "text/plain": [
       "1     12203\n",
       "2     11173\n",
       "3      9998\n",
       "4      8999\n",
       "5      4356\n",
       "6      4074\n",
       "7      3343\n",
       "8      1043\n",
       "30      995\n",
       "33      874\n",
       "53      745\n",
       "43      505\n",
       "13      391\n",
       "23      293\n",
       "63      195\n",
       "62      109\n",
       "60       63\n",
       "0        23\n",
       "80       12\n",
       "67        6\n",
       "Name: district_code, dtype: int64"
      ]
     },
     "execution_count": 122,
     "metadata": {},
     "output_type": "execute_result"
    }
   ],
   "source": [
    "# value Count -> encoded, perfer names, thus propably drop variable\n",
    "train.district_code.value_counts()"
   ]
  },
  {
   "cell_type": "code",
   "execution_count": 123,
   "metadata": {},
   "outputs": [
    {
     "data": {
      "text/plain": [
       "0"
      ]
     },
     "execution_count": 123,
     "metadata": {},
     "output_type": "execute_result"
    }
   ],
   "source": [
    "# missing Values\n",
    "all_data.district_code.isnull().sum()"
   ]
  },
  {
   "cell_type": "markdown",
   "metadata": {},
   "source": [
    "### region_code"
   ]
  },
  {
   "cell_type": "code",
   "execution_count": 124,
   "metadata": {},
   "outputs": [
    {
     "data": {
      "text/plain": [
       "count    59400.000000\n",
       "mean        15.297003\n",
       "std         17.587406\n",
       "min          1.000000\n",
       "25%          5.000000\n",
       "50%         12.000000\n",
       "75%         17.000000\n",
       "max         99.000000\n",
       "Name: region_code, dtype: float64"
      ]
     },
     "execution_count": 124,
     "metadata": {},
     "output_type": "execute_result"
    }
   ],
   "source": [
    "# overall info\n",
    "train.region_code.describe()"
   ]
  },
  {
   "cell_type": "code",
   "execution_count": 125,
   "metadata": {},
   "outputs": [
    {
     "data": {
      "text/plain": [
       "11    5300\n",
       "17    5011\n",
       "12    4639\n",
       "3     4379\n",
       "5     4040\n",
       "18    3324\n",
       "19    3047\n",
       "2     3024\n",
       "16    2816\n",
       "10    2640\n",
       "4     2513\n",
       "1     2201\n",
       "13    2093\n",
       "14    1979\n",
       "20    1969\n",
       "15    1808\n",
       "6     1609\n",
       "21    1583\n",
       "80    1238\n",
       "60    1025\n",
       "90     917\n",
       "7      805\n",
       "99     423\n",
       "9      390\n",
       "24     326\n",
       "8      300\n",
       "40       1\n",
       "Name: region_code, dtype: int64"
      ]
     },
     "execution_count": 125,
     "metadata": {},
     "output_type": "execute_result"
    }
   ],
   "source": [
    "# value Count -> encoded, perfer names, thus propably drop variable\n",
    "train.region_code.value_counts()"
   ]
  },
  {
   "cell_type": "code",
   "execution_count": 126,
   "metadata": {},
   "outputs": [
    {
     "data": {
      "text/plain": [
       "0"
      ]
     },
     "execution_count": 126,
     "metadata": {},
     "output_type": "execute_result"
    }
   ],
   "source": [
    "# missing Values\n",
    "all_data.region_code.isnull().sum()"
   ]
  },
  {
   "cell_type": "markdown",
   "metadata": {},
   "source": [
    "### region"
   ]
  },
  {
   "cell_type": "code",
   "execution_count": 127,
   "metadata": {},
   "outputs": [
    {
     "data": {
      "text/plain": [
       "count      59400\n",
       "unique        21\n",
       "top       Iringa\n",
       "freq        5294\n",
       "Name: region, dtype: object"
      ]
     },
     "execution_count": 127,
     "metadata": {},
     "output_type": "execute_result"
    }
   ],
   "source": [
    "# overall info\n",
    "train.region.describe()"
   ]
  },
  {
   "cell_type": "code",
   "execution_count": 128,
   "metadata": {},
   "outputs": [
    {
     "data": {
      "image/png": "[encoded data removed]",
      "text/plain": [
       "<Figure size 864x288 with 1 Axes>"
      ]
     },
     "metadata": {},
     "output_type": "display_data"
    }
   ],
   "source": [
    "# plot\n",
    "g = sns.factorplot('region', data=train, aspect=3,\n",
    "                   kind=\"count\", palette='deep')\n",
    "\n",
    "g.set_xticklabels(step=1, rotation=70);"
   ]
  },
  {
   "cell_type": "code",
   "execution_count": 129,
   "metadata": {},
   "outputs": [
    {
     "data": {
      "text/plain": [
       "0"
      ]
     },
     "execution_count": 129,
     "metadata": {},
     "output_type": "execute_result"
    }
   ],
   "source": [
    "# missing Values\n",
    "all_data.region.isnull().sum()"
   ]
  },
  {
   "cell_type": "code",
   "execution_count": 130,
   "metadata": {},
   "outputs": [
    {
     "data": {
      "image/png": "[encoded data removed]",
      "text/plain": [
       "<Figure size 864x720 with 1 Axes>"
      ]
     },
     "metadata": {},
     "output_type": "display_data"
    }
   ],
   "source": [
    "# Stacked plot with status_group -> unknown higher proportion of non-functional\n",
    "plot_df = train.groupby(['region', 'status_group']) \\\n",
    "               .quantity \\\n",
    "               .count() \\\n",
    "               .unstack()\n",
    "\n",
    "plot_df.plot(kind='bar', stacked=True, figsize=(12, 10), rot=40);"
   ]
  },
  {
   "cell_type": "code",
   "execution_count": 131,
   "metadata": {},
   "outputs": [],
   "source": [
    "# Some regions with less data have higher proportions of non-functional"
   ]
  },
  {
   "cell_type": "code",
   "execution_count": 132,
   "metadata": {},
   "outputs": [
    {
     "data": {
      "text/html": [
       "<div>\n",
       "<style scoped>\n",
       "    .dataframe tbody tr th:only-of-type {\n",
       "        vertical-align: middle;\n",
       "    }\n",
       "\n",
       "    .dataframe tbody tr th {\n",
       "        vertical-align: top;\n",
       "    }\n",
       "\n",
       "    .dataframe thead th {\n",
       "        text-align: right;\n",
       "    }\n",
       "</style>\n",
       "<table border=\"1\" class=\"dataframe\">\n",
       "  <thead>\n",
       "    <tr style=\"text-align: right;\">\n",
       "      <th>status_group</th>\n",
       "      <th>functional</th>\n",
       "      <th>functional needs repair</th>\n",
       "      <th>non functional</th>\n",
       "    </tr>\n",
       "    <tr>\n",
       "      <th>region</th>\n",
       "      <th></th>\n",
       "      <th></th>\n",
       "      <th></th>\n",
       "    </tr>\n",
       "  </thead>\n",
       "  <tbody>\n",
       "    <tr>\n",
       "      <th>Arusha</th>\n",
       "      <td>2294</td>\n",
       "      <td>175</td>\n",
       "      <td>881</td>\n",
       "    </tr>\n",
       "    <tr>\n",
       "      <th>Dar es Salaam</th>\n",
       "      <td>461</td>\n",
       "      <td>3</td>\n",
       "      <td>341</td>\n",
       "    </tr>\n",
       "    <tr>\n",
       "      <th>Dodoma</th>\n",
       "      <td>1009</td>\n",
       "      <td>209</td>\n",
       "      <td>983</td>\n",
       "    </tr>\n",
       "    <tr>\n",
       "      <th>Iringa</th>\n",
       "      <td>4141</td>\n",
       "      <td>123</td>\n",
       "      <td>1030</td>\n",
       "    </tr>\n",
       "    <tr>\n",
       "      <th>Kagera</th>\n",
       "      <td>1727</td>\n",
       "      <td>304</td>\n",
       "      <td>1285</td>\n",
       "    </tr>\n",
       "    <tr>\n",
       "      <th>Kigoma</th>\n",
       "      <td>1363</td>\n",
       "      <td>603</td>\n",
       "      <td>850</td>\n",
       "    </tr>\n",
       "    <tr>\n",
       "      <th>Kilimanjaro</th>\n",
       "      <td>2640</td>\n",
       "      <td>322</td>\n",
       "      <td>1417</td>\n",
       "    </tr>\n",
       "    <tr>\n",
       "      <th>Lindi</th>\n",
       "      <td>460</td>\n",
       "      <td>93</td>\n",
       "      <td>993</td>\n",
       "    </tr>\n",
       "    <tr>\n",
       "      <th>Manyara</th>\n",
       "      <td>987</td>\n",
       "      <td>96</td>\n",
       "      <td>500</td>\n",
       "    </tr>\n",
       "    <tr>\n",
       "      <th>Mara</th>\n",
       "      <td>886</td>\n",
       "      <td>60</td>\n",
       "      <td>1023</td>\n",
       "    </tr>\n",
       "    <tr>\n",
       "      <th>Mbeya</th>\n",
       "      <td>2319</td>\n",
       "      <td>504</td>\n",
       "      <td>1816</td>\n",
       "    </tr>\n",
       "    <tr>\n",
       "      <th>Morogoro</th>\n",
       "      <td>2119</td>\n",
       "      <td>300</td>\n",
       "      <td>1587</td>\n",
       "    </tr>\n",
       "    <tr>\n",
       "      <th>Mtwara</th>\n",
       "      <td>524</td>\n",
       "      <td>126</td>\n",
       "      <td>1080</td>\n",
       "    </tr>\n",
       "    <tr>\n",
       "      <th>Mwanza</th>\n",
       "      <td>1502</td>\n",
       "      <td>183</td>\n",
       "      <td>1417</td>\n",
       "    </tr>\n",
       "    <tr>\n",
       "      <th>Pwani</th>\n",
       "      <td>1556</td>\n",
       "      <td>36</td>\n",
       "      <td>1043</td>\n",
       "    </tr>\n",
       "    <tr>\n",
       "      <th>Rukwa</th>\n",
       "      <td>707</td>\n",
       "      <td>135</td>\n",
       "      <td>966</td>\n",
       "    </tr>\n",
       "    <tr>\n",
       "      <th>Ruvuma</th>\n",
       "      <td>1480</td>\n",
       "      <td>164</td>\n",
       "      <td>996</td>\n",
       "    </tr>\n",
       "    <tr>\n",
       "      <th>Shinyanga</th>\n",
       "      <td>2789</td>\n",
       "      <td>635</td>\n",
       "      <td>1558</td>\n",
       "    </tr>\n",
       "    <tr>\n",
       "      <th>Singida</th>\n",
       "      <td>1011</td>\n",
       "      <td>128</td>\n",
       "      <td>954</td>\n",
       "    </tr>\n",
       "    <tr>\n",
       "      <th>Tabora</th>\n",
       "      <td>848</td>\n",
       "      <td>45</td>\n",
       "      <td>1066</td>\n",
       "    </tr>\n",
       "    <tr>\n",
       "      <th>Tanga</th>\n",
       "      <td>1436</td>\n",
       "      <td>73</td>\n",
       "      <td>1038</td>\n",
       "    </tr>\n",
       "  </tbody>\n",
       "</table>\n",
       "</div>"
      ],
      "text/plain": [
       "status_group   functional  functional needs repair  non functional\n",
       "region                                                            \n",
       "Arusha               2294                      175             881\n",
       "Dar es Salaam         461                        3             341\n",
       "Dodoma               1009                      209             983\n",
       "Iringa               4141                      123            1030\n",
       "Kagera               1727                      304            1285\n",
       "Kigoma               1363                      603             850\n",
       "Kilimanjaro          2640                      322            1417\n",
       "Lindi                 460                       93             993\n",
       "Manyara               987                       96             500\n",
       "Mara                  886                       60            1023\n",
       "Mbeya                2319                      504            1816\n",
       "Morogoro             2119                      300            1587\n",
       "Mtwara                524                      126            1080\n",
       "Mwanza               1502                      183            1417\n",
       "Pwani                1556                       36            1043\n",
       "Rukwa                 707                      135             966\n",
       "Ruvuma               1480                      164             996\n",
       "Shinyanga            2789                      635            1558\n",
       "Singida              1011                      128             954\n",
       "Tabora                848                       45            1066\n",
       "Tanga                1436                       73            1038"
      ]
     },
     "execution_count": 132,
     "metadata": {},
     "output_type": "execute_result"
    }
   ],
   "source": [
    "train.groupby(['region', 'status_group']) \\\n",
    "               .quantity \\\n",
    "               .count() \\\n",
    "               .unstack()"
   ]
  },
  {
   "cell_type": "markdown",
   "metadata": {},
   "source": [
    "### lga (town name)"
   ]
  },
  {
   "cell_type": "code",
   "execution_count": 133,
   "metadata": {},
   "outputs": [
    {
     "data": {
      "text/plain": [
       "count      59400\n",
       "unique       125\n",
       "top       Njombe\n",
       "freq        2503\n",
       "Name: lga, dtype: object"
      ]
     },
     "execution_count": 133,
     "metadata": {},
     "output_type": "execute_result"
    }
   ],
   "source": [
    "# overall info\n",
    "train.lga.describe()"
   ]
  },
  {
   "cell_type": "code",
   "execution_count": 134,
   "metadata": {},
   "outputs": [
    {
     "data": {
      "text/plain": [
       "Njombe              2503\n",
       "Arusha Rural        1252\n",
       "Moshi Rural         1251\n",
       "Bariadi             1177\n",
       "Rungwe              1106\n",
       "Kilosa              1094\n",
       "Kasulu              1047\n",
       "Mbozi               1034\n",
       "Meru                1009\n",
       "Bagamoyo             997\n",
       "Singida Rural        995\n",
       "Kilombero            959\n",
       "Same                 877\n",
       "Kibondo              874\n",
       "Kyela                859\n",
       "Kahama               836\n",
       "Kigoma Rural         824\n",
       "Magu                 824\n",
       "Maswa                809\n",
       "Karagwe              771\n",
       "Mbinga               750\n",
       "Iringa Rural         728\n",
       "Serengeti            716\n",
       "Namtumbo             694\n",
       "Lushoto              694\n",
       "Songea Rural         693\n",
       "Mpanda               679\n",
       "Mvomero              671\n",
       "Ngara                669\n",
       "Ulanga               665\n",
       "                    ... \n",
       "Ileje                231\n",
       "Bahi                 224\n",
       "Kisarawe             223\n",
       "Temeke               215\n",
       "Rorya                210\n",
       "Tarime               209\n",
       "Ngorongoro           201\n",
       "Kiteto               193\n",
       "Shinyanga Urban      191\n",
       "Monduli              189\n",
       "Sumbawanga Urban     180\n",
       "Singida Urban        177\n",
       "Sikonge              170\n",
       "Kilindi              161\n",
       "Nanyumbu             158\n",
       "Tabora Urban         155\n",
       "Liwale               154\n",
       "Ilemela              142\n",
       "Mafia                132\n",
       "Mtwara Urban         124\n",
       "Tanga                 99\n",
       "Morogoro Urban        96\n",
       "Kinondoni             93\n",
       "Bukoba Urban          88\n",
       "Songea Urban          80\n",
       "Moshi Urban           79\n",
       "Kigoma Urban          71\n",
       "Arusha Urban          63\n",
       "Lindi Urban           21\n",
       "Nyamagana              1\n",
       "Name: lga, Length: 125, dtype: int64"
      ]
     },
     "execution_count": 134,
     "metadata": {},
     "output_type": "execute_result"
    }
   ],
   "source": [
    "# value Count\n",
    "train.lga.value_counts()"
   ]
  },
  {
   "cell_type": "code",
   "execution_count": 135,
   "metadata": {},
   "outputs": [
    {
     "data": {
      "text/plain": [
       "0"
      ]
     },
     "execution_count": 135,
     "metadata": {},
     "output_type": "execute_result"
    }
   ],
   "source": [
    "# missing Values\n",
    "all_data.lga.isnull().sum()"
   ]
  },
  {
   "cell_type": "markdown",
   "metadata": {},
   "source": [
    "### ward"
   ]
  },
  {
   "cell_type": "code",
   "execution_count": 136,
   "metadata": {},
   "outputs": [
    {
     "data": {
      "text/plain": [
       "count     59400\n",
       "unique     2092\n",
       "top       Igosi\n",
       "freq        307\n",
       "Name: ward, dtype: object"
      ]
     },
     "execution_count": 136,
     "metadata": {},
     "output_type": "execute_result"
    }
   ],
   "source": [
    "# overall info\n",
    "train.ward.describe()"
   ]
  },
  {
   "cell_type": "code",
   "execution_count": 137,
   "metadata": {},
   "outputs": [
    {
     "data": {
      "text/plain": [
       "Igosi               307\n",
       "Imalinyi            252\n",
       "Siha Kati           232\n",
       "Mdandu              231\n",
       "Nduruma             217\n",
       "Kitunda             203\n",
       "Mishamo             203\n",
       "Msindo              201\n",
       "Chalinze            196\n",
       "Maji ya Chai        190\n",
       "Usuka               187\n",
       "Ngarenanyuki        172\n",
       "Chanika             171\n",
       "Vikindu             162\n",
       "Mtwango             153\n",
       "Matola              145\n",
       "Zinga/Ikerege       141\n",
       "Wanging'ombe        139\n",
       "Maramba             139\n",
       "Itete               137\n",
       "Magomeni            135\n",
       "Ifakara             134\n",
       "Kikatiti            134\n",
       "Olkokola            133\n",
       "Maposeni            130\n",
       "Mvomero             129\n",
       "Igongolo            129\n",
       "Mlangali            125\n",
       "Nkoma               122\n",
       "Nkungulu            121\n",
       "                   ... \n",
       "Kirongo               1\n",
       "Uwanja wa Ndege       1\n",
       "Thawi                 1\n",
       "Mawenzi               1\n",
       "Kinungu               1\n",
       "Igogo                 1\n",
       "Sungwisi              1\n",
       "Ukata                 1\n",
       "Kihangimahuka         1\n",
       "Mkumbi                1\n",
       "Machinjioni           1\n",
       "Mlimani               1\n",
       "Kitete                1\n",
       "Linda                 1\n",
       "Themi                 1\n",
       "Izia                  1\n",
       "Simbay                1\n",
       "Ifinga                1\n",
       "Burungura             1\n",
       "Nsemulwa              1\n",
       "Matarawe              1\n",
       "Kapilula              1\n",
       "Mitole                1\n",
       "Mwanga Kaskazini      1\n",
       "Ikweha                1\n",
       "Chinugulu             1\n",
       "Nyamtinga             1\n",
       "Uchindile             1\n",
       "Korongoni             1\n",
       "Rasbura               1\n",
       "Name: ward, Length: 2092, dtype: int64"
      ]
     },
     "execution_count": 137,
     "metadata": {},
     "output_type": "execute_result"
    }
   ],
   "source": [
    "# value Count\n",
    "train.ward.value_counts()"
   ]
  },
  {
   "cell_type": "code",
   "execution_count": 138,
   "metadata": {},
   "outputs": [
    {
     "data": {
      "text/plain": [
       "0"
      ]
     },
     "execution_count": 138,
     "metadata": {},
     "output_type": "execute_result"
    }
   ],
   "source": [
    "# missing Values\n",
    "all_data.ward.isnull().sum()"
   ]
  },
  {
   "cell_type": "markdown",
   "metadata": {},
   "source": [
    "### subvillage"
   ]
  },
  {
   "cell_type": "code",
   "execution_count": 139,
   "metadata": {},
   "outputs": [
    {
     "data": {
      "text/plain": [
       "count        59029\n",
       "unique       19287\n",
       "top       Madukani\n",
       "freq           508\n",
       "Name: subvillage, dtype: object"
      ]
     },
     "execution_count": 139,
     "metadata": {},
     "output_type": "execute_result"
    }
   ],
   "source": [
    "# overall info\n",
    "train.subvillage.describe()"
   ]
  },
  {
   "cell_type": "code",
   "execution_count": 140,
   "metadata": {},
   "outputs": [
    {
     "data": {
      "text/plain": [
       "Madukani      508\n",
       "Shuleni       506\n",
       "Majengo       502\n",
       "Kati          373\n",
       "Mtakuja       262\n",
       "Sokoni        232\n",
       "M             187\n",
       "Muungano      172\n",
       "Mbuyuni       164\n",
       "Mlimani       152\n",
       "Songambele    147\n",
       "Miembeni      134\n",
       "Msikitini     134\n",
       "1             132\n",
       "Kibaoni       114\n",
       "Kanisani      111\n",
       "I             109\n",
       "Mapinduzi     109\n",
       "Mjini         108\n",
       "Mjimwema      108\n",
       "Name: subvillage, dtype: int64"
      ]
     },
     "execution_count": 140,
     "metadata": {},
     "output_type": "execute_result"
    }
   ],
   "source": [
    "# value Count -> some 1 char names...\n",
    "train.subvillage.value_counts().head(20)"
   ]
  },
  {
   "cell_type": "code",
   "execution_count": 141,
   "metadata": {},
   "outputs": [
    {
     "data": {
      "text/plain": [
       "subvillage\n",
       "M     187\n",
       "1     132\n",
       "I     109\n",
       "K      77\n",
       "L      32\n",
       "U      31\n",
       "S      30\n",
       "N      26\n",
       "Rc     20\n",
       "J      10\n",
       "Name: subvillage, dtype: int64"
      ]
     },
     "execution_count": 141,
     "metadata": {},
     "output_type": "execute_result"
    }
   ],
   "source": [
    "# find 1 char subvillages -> probably impute for 'unknown'\n",
    "train[train.subvillage.str.len() < 3].groupby('subvillage').subvillage.count().nlargest(10)"
   ]
  },
  {
   "cell_type": "code",
   "execution_count": 142,
   "metadata": {},
   "outputs": [
    {
     "data": {
      "text/plain": [
       "470"
      ]
     },
     "execution_count": 142,
     "metadata": {},
     "output_type": "execute_result"
    }
   ],
   "source": [
    "# missing Values -> need to be imputed\n",
    "all_data.subvillage.isnull().sum()"
   ]
  },
  {
   "cell_type": "markdown",
   "metadata": {},
   "source": [
    "### latitude"
   ]
  },
  {
   "cell_type": "code",
   "execution_count": 143,
   "metadata": {},
   "outputs": [
    {
     "data": {
      "text/plain": [
       "count    5.940000e+04\n",
       "mean    -5.706033e+00\n",
       "std      2.946019e+00\n",
       "min     -1.164944e+01\n",
       "25%     -8.540621e+00\n",
       "50%     -5.021597e+00\n",
       "75%     -3.326156e+00\n",
       "max     -2.000000e-08\n",
       "Name: latitude, dtype: float64"
      ]
     },
     "execution_count": 143,
     "metadata": {},
     "output_type": "execute_result"
    }
   ],
   "source": [
    "# overall info\n",
    "train.latitude.describe()"
   ]
  },
  {
   "cell_type": "code",
   "execution_count": 144,
   "metadata": {},
   "outputs": [
    {
     "data": {
      "text/plain": [
       "-11.64944018"
      ]
     },
     "execution_count": 144,
     "metadata": {},
     "output_type": "execute_result"
    }
   ],
   "source": [
    "# min\n",
    "train.latitude.min()"
   ]
  },
  {
   "cell_type": "code",
   "execution_count": 145,
   "metadata": {},
   "outputs": [
    {
     "data": {
      "text/plain": [
       "-2e-08"
      ]
     },
     "execution_count": 145,
     "metadata": {},
     "output_type": "execute_result"
    }
   ],
   "source": [
    "# max\n",
    "train.latitude.max()\n",
    "\n",
    "# true latitude -1 to -12 -> 0 values need to be imputed"
   ]
  },
  {
   "cell_type": "code",
   "execution_count": 146,
   "metadata": {},
   "outputs": [
    {
     "data": {
      "text/plain": [
       "0"
      ]
     },
     "execution_count": 146,
     "metadata": {},
     "output_type": "execute_result"
    }
   ],
   "source": [
    "# missing Values\n",
    "all_data.latitude.isnull().sum()"
   ]
  },
  {
   "cell_type": "markdown",
   "metadata": {},
   "source": [
    "### longitude"
   ]
  },
  {
   "cell_type": "code",
   "execution_count": 147,
   "metadata": {},
   "outputs": [
    {
     "data": {
      "text/plain": [
       "count    59400.000000\n",
       "mean        34.077427\n",
       "std          6.567432\n",
       "min          0.000000\n",
       "25%         33.090347\n",
       "50%         34.908743\n",
       "75%         37.178387\n",
       "max         40.345193\n",
       "Name: longitude, dtype: float64"
      ]
     },
     "execution_count": 147,
     "metadata": {},
     "output_type": "execute_result"
    }
   ],
   "source": [
    "# overall info\n",
    "train.longitude.describe()"
   ]
  },
  {
   "cell_type": "code",
   "execution_count": 148,
   "metadata": {},
   "outputs": [
    {
     "data": {
      "text/plain": [
       "0.000000     1812\n",
       "37.540901       2\n",
       "33.010510       2\n",
       "39.093484       2\n",
       "32.972719       2\n",
       "33.006275       2\n",
       "39.103950       2\n",
       "37.542785       2\n",
       "36.802490       2\n",
       "39.098374       2\n",
       "33.090347       2\n",
       "33.005032       2\n",
       "32.978062       2\n",
       "39.088875       2\n",
       "31.619530       2\n",
       "39.093095       2\n",
       "39.105307       2\n",
       "32.936689       2\n",
       "32.987511       2\n",
       "39.090880       2\n",
       "Name: longitude, dtype: int64"
      ]
     },
     "execution_count": 148,
     "metadata": {},
     "output_type": "execute_result"
    }
   ],
   "source": [
    "# value Count -> alot of zeros\n",
    "train.longitude.value_counts().head(20)"
   ]
  },
  {
   "cell_type": "code",
   "execution_count": 149,
   "metadata": {},
   "outputs": [],
   "source": [
    "# true tanzinia longitude range 29-39 -> must impute zeros ...."
   ]
  },
  {
   "cell_type": "code",
   "execution_count": 150,
   "metadata": {},
   "outputs": [
    {
     "data": {
      "text/plain": [
       "1812"
      ]
     },
     "execution_count": 150,
     "metadata": {},
     "output_type": "execute_result"
    }
   ],
   "source": [
    "# count zeros\n",
    "train[train.longitude == 0].longitude.count()"
   ]
  },
  {
   "cell_type": "code",
   "execution_count": 151,
   "metadata": {},
   "outputs": [
    {
     "data": {
      "text/plain": [
       "0"
      ]
     },
     "execution_count": 151,
     "metadata": {},
     "output_type": "execute_result"
    }
   ],
   "source": [
    "# missing Values\n",
    "all_data.longitude.isnull().sum()"
   ]
  },
  {
   "cell_type": "markdown",
   "metadata": {},
   "source": [
    "## funder"
   ]
  },
  {
   "cell_type": "code",
   "execution_count": 152,
   "metadata": {},
   "outputs": [
    {
     "data": {
      "text/plain": [
       "count                      55765\n",
       "unique                      1897\n",
       "top       Government Of Tanzania\n",
       "freq                        9084\n",
       "Name: funder, dtype: object"
      ]
     },
     "execution_count": 152,
     "metadata": {},
     "output_type": "execute_result"
    }
   ],
   "source": [
    "# overall info\n",
    "train.funder.describe()"
   ]
  },
  {
   "cell_type": "code",
   "execution_count": 153,
   "metadata": {},
   "outputs": [
    {
     "data": {
      "text/plain": [
       "Government Of Tanzania    9084\n",
       "Danida                    3114\n",
       "Hesawa                    2202\n",
       "Rwssp                     1374\n",
       "World Bank                1349\n",
       "Kkkt                      1287\n",
       "World Vision              1246\n",
       "Unicef                    1057\n",
       "Tasaf                      877\n",
       "District Council           843\n",
       "Name: funder, dtype: int64"
      ]
     },
     "execution_count": 153,
     "metadata": {},
     "output_type": "execute_result"
    }
   ],
   "source": [
    "# value Count -> probably wrong spellings for same levels -> shirnk levels\n",
    "train.funder.value_counts().nlargest(10)"
   ]
  },
  {
   "cell_type": "code",
   "execution_count": 154,
   "metadata": {},
   "outputs": [
    {
     "data": {
      "text/plain": [
       "1441"
      ]
     },
     "execution_count": 154,
     "metadata": {},
     "output_type": "execute_result"
    }
   ],
   "source": [
    "# subset for 5 char funder -> probably wrong spellings for same levels \n",
    "# -> count abbreviate 5 letter levels\n",
    "train.funder.str[:5].value_counts().count()"
   ]
  },
  {
   "cell_type": "code",
   "execution_count": 155,
   "metadata": {},
   "outputs": [
    {
     "data": {
      "text/plain": [
       "funder\n",
       "Gover    9123\n",
       "Danid    3117\n",
       "World    2633\n",
       "Hesaw    2215\n",
       "Rwssp    1382\n",
       "Kkkt     1287\n",
       "Unice    1200\n",
       "Priva    1144\n",
       "Water    1095\n",
       "Tasaf     910\n",
       "Name: funder, dtype: int64"
      ]
     },
     "execution_count": 155,
     "metadata": {},
     "output_type": "execute_result"
    }
   ],
   "source": [
    "# subset for 5 char funder -> probably wrong spellings for same levels\n",
    "# -> top 10 abbreviate 5 letter levels\n",
    "train.groupby(train.funder.str[:5]).funder.count().nlargest(10)"
   ]
  },
  {
   "cell_type": "code",
   "execution_count": 156,
   "metadata": {},
   "outputs": [],
   "source": [
    "# 400 less levels"
   ]
  },
  {
   "cell_type": "markdown",
   "metadata": {},
   "source": [
    "### installer"
   ]
  },
  {
   "cell_type": "code",
   "execution_count": 157,
   "metadata": {},
   "outputs": [
    {
     "data": {
      "text/plain": [
       "count     55745\n",
       "unique     2145\n",
       "top         DWE\n",
       "freq      17402\n",
       "Name: installer, dtype: object"
      ]
     },
     "execution_count": 157,
     "metadata": {},
     "output_type": "execute_result"
    }
   ],
   "source": [
    "# overall info\n",
    "train.installer.describe()"
   ]
  },
  {
   "cell_type": "code",
   "execution_count": 158,
   "metadata": {},
   "outputs": [
    {
     "data": {
      "text/plain": [
       "DWE                   17402\n",
       "Government             1825\n",
       "RWE                    1206\n",
       "Commu                  1060\n",
       "DANIDA                 1050\n",
       "KKKT                    898\n",
       "Hesawa                  840\n",
       "0                       777\n",
       "TCRS                    707\n",
       "Central government      622\n",
       "Name: installer, dtype: int64"
      ]
     },
     "execution_count": 158,
     "metadata": {},
     "output_type": "execute_result"
    }
   ],
   "source": [
    "# value Count\n",
    "train.installer.value_counts().nlargest(10)"
   ]
  },
  {
   "cell_type": "code",
   "execution_count": 159,
   "metadata": {},
   "outputs": [
    {
     "data": {
      "text/plain": [
       "1607"
      ]
     },
     "execution_count": 159,
     "metadata": {},
     "output_type": "execute_result"
    }
   ],
   "source": [
    "# subset for 3 char funder -> probably wrong spellings for same levels \n",
    "# -> count abbreviate 5 letters levels\n",
    "train.installer.str[:5].value_counts().count()"
   ]
  },
  {
   "cell_type": "code",
   "execution_count": 160,
   "metadata": {},
   "outputs": [
    {
     "data": {
      "text/plain": [
       "installer\n",
       "DWE      17402\n",
       "Gover     2219\n",
       "Commu     1667\n",
       "DANID     1604\n",
       "Distr     1362\n",
       "RWE       1206\n",
       "Centr     1035\n",
       "World      923\n",
       "KKKT       898\n",
       "Hesaw      841\n",
       "Name: installer, dtype: int64"
      ]
     },
     "execution_count": 160,
     "metadata": {},
     "output_type": "execute_result"
    }
   ],
   "source": [
    "# subset for 3 char funder -> probably wrong spellings for same levels \n",
    "# -> show top 10 abbreviated 5 letters installer\n",
    "train.groupby(train.installer.str[:5]).installer.count().nlargest(10)"
   ]
  },
  {
   "cell_type": "code",
   "execution_count": 161,
   "metadata": {},
   "outputs": [],
   "source": [
    "# 500 levels less -> create new feature with abbreviated names"
   ]
  },
  {
   "cell_type": "code",
   "execution_count": 162,
   "metadata": {},
   "outputs": [
    {
     "data": {
      "text/plain": [
       "4532"
      ]
     },
     "execution_count": 162,
     "metadata": {},
     "output_type": "execute_result"
    }
   ],
   "source": [
    "# missing Values -> need to impute -> 'unknown'\n",
    "all_data.installer.isnull().sum()"
   ]
  },
  {
   "cell_type": "markdown",
   "metadata": {},
   "source": [
    "### management"
   ]
  },
  {
   "cell_type": "code",
   "execution_count": 163,
   "metadata": {},
   "outputs": [
    {
     "data": {
      "text/plain": [
       "count     59400\n",
       "unique       12\n",
       "top         vwc\n",
       "freq      40507\n",
       "Name: management, dtype: object"
      ]
     },
     "execution_count": 163,
     "metadata": {},
     "output_type": "execute_result"
    }
   ],
   "source": [
    "# overall info\n",
    "train.management.describe()"
   ]
  },
  {
   "cell_type": "code",
   "execution_count": 164,
   "metadata": {},
   "outputs": [
    {
     "data": {
      "text/plain": [
       "vwc                 40507\n",
       "wug                  6515\n",
       "water board          2933\n",
       "wua                  2535\n",
       "private operator     1971\n",
       "parastatal           1768\n",
       "water authority       904\n",
       "other                 844\n",
       "company               685\n",
       "unknown               561\n",
       "other - school         99\n",
       "trust                  78\n",
       "Name: management, dtype: int64"
      ]
     },
     "execution_count": 164,
     "metadata": {},
     "output_type": "execute_result"
    }
   ],
   "source": [
    "# value Count\n",
    "train.management.value_counts()"
   ]
  },
  {
   "cell_type": "code",
   "execution_count": 165,
   "metadata": {},
   "outputs": [
    {
     "data": {
      "text/plain": [
       "0"
      ]
     },
     "execution_count": 165,
     "metadata": {},
     "output_type": "execute_result"
    }
   ],
   "source": [
    "# missing Values\n",
    "all_data.management.isnull().sum()"
   ]
  },
  {
   "cell_type": "markdown",
   "metadata": {},
   "source": [
    "### management_group"
   ]
  },
  {
   "cell_type": "code",
   "execution_count": 166,
   "metadata": {},
   "outputs": [
    {
     "data": {
      "text/plain": [
       "count          59400\n",
       "unique             5\n",
       "top       user-group\n",
       "freq           52490\n",
       "Name: management_group, dtype: object"
      ]
     },
     "execution_count": 166,
     "metadata": {},
     "output_type": "execute_result"
    }
   ],
   "source": [
    "# overall info\n",
    "train.management_group.describe()"
   ]
  },
  {
   "cell_type": "code",
   "execution_count": 167,
   "metadata": {},
   "outputs": [
    {
     "data": {
      "image/png": "[encoded data removed]",
      "text/plain": [
       "<Figure size 864x288 with 1 Axes>"
      ]
     },
     "metadata": {},
     "output_type": "display_data"
    }
   ],
   "source": [
    "# plot\n",
    "g = sns.factorplot('management_group', data=train, aspect=3,\n",
    "                   kind=\"count\", palette='deep')\n",
    "\n",
    "g.set_xticklabels(step=1, rotation=70);"
   ]
  },
  {
   "cell_type": "code",
   "execution_count": 168,
   "metadata": {},
   "outputs": [
    {
     "data": {
      "text/plain": [
       "user-group    52490\n",
       "commercial     3638\n",
       "parastatal     1768\n",
       "other           943\n",
       "unknown         561\n",
       "Name: management_group, dtype: int64"
      ]
     },
     "execution_count": 168,
     "metadata": {},
     "output_type": "execute_result"
    }
   ],
   "source": [
    "# value Count -> less levels than management\n",
    "train.management_group.value_counts()"
   ]
  },
  {
   "cell_type": "code",
   "execution_count": 169,
   "metadata": {},
   "outputs": [
    {
     "data": {
      "text/plain": [
       "0"
      ]
     },
     "execution_count": 169,
     "metadata": {},
     "output_type": "execute_result"
    }
   ],
   "source": [
    "# missing Values\n",
    "all_data.management_group.isnull().sum()"
   ]
  },
  {
   "cell_type": "code",
   "execution_count": 170,
   "metadata": {},
   "outputs": [
    {
     "data": {
      "image/png": "[encoded data removed]",
      "text/plain": [
       "<Figure size 864x576 with 1 Axes>"
      ]
     },
     "metadata": {},
     "output_type": "display_data"
    }
   ],
   "source": [
    "# Stacked plot with status_group -> unknown higher proportion of non-functional\n",
    "plot_df = train.groupby(['management_group', 'status_group']) \\\n",
    "               .quantity \\\n",
    "               .count() \\\n",
    "               .unstack()\n",
    "\n",
    "plot_df.plot(kind='bar', stacked=True, figsize=(12, 8), rot=40);"
   ]
  },
  {
   "cell_type": "code",
   "execution_count": 171,
   "metadata": {},
   "outputs": [
    {
     "data": {
      "text/html": [
       "<div>\n",
       "<style scoped>\n",
       "    .dataframe tbody tr th:only-of-type {\n",
       "        vertical-align: middle;\n",
       "    }\n",
       "\n",
       "    .dataframe tbody tr th {\n",
       "        vertical-align: top;\n",
       "    }\n",
       "\n",
       "    .dataframe thead th {\n",
       "        text-align: right;\n",
       "    }\n",
       "</style>\n",
       "<table border=\"1\" class=\"dataframe\">\n",
       "  <thead>\n",
       "    <tr style=\"text-align: right;\">\n",
       "      <th>status_group</th>\n",
       "      <th>functional</th>\n",
       "      <th>functional needs repair</th>\n",
       "      <th>non functional</th>\n",
       "    </tr>\n",
       "    <tr>\n",
       "      <th>management_group</th>\n",
       "      <th></th>\n",
       "      <th></th>\n",
       "      <th></th>\n",
       "    </tr>\n",
       "  </thead>\n",
       "  <tbody>\n",
       "    <tr>\n",
       "      <th>commercial</th>\n",
       "      <td>2235</td>\n",
       "      <td>117</td>\n",
       "      <td>1286</td>\n",
       "    </tr>\n",
       "    <tr>\n",
       "      <th>other</th>\n",
       "      <td>528</td>\n",
       "      <td>56</td>\n",
       "      <td>359</td>\n",
       "    </tr>\n",
       "    <tr>\n",
       "      <th>parastatal</th>\n",
       "      <td>1020</td>\n",
       "      <td>211</td>\n",
       "      <td>537</td>\n",
       "    </tr>\n",
       "    <tr>\n",
       "      <th>unknown</th>\n",
       "      <td>224</td>\n",
       "      <td>27</td>\n",
       "      <td>310</td>\n",
       "    </tr>\n",
       "    <tr>\n",
       "      <th>user-group</th>\n",
       "      <td>28252</td>\n",
       "      <td>3906</td>\n",
       "      <td>20332</td>\n",
       "    </tr>\n",
       "  </tbody>\n",
       "</table>\n",
       "</div>"
      ],
      "text/plain": [
       "status_group      functional  functional needs repair  non functional\n",
       "management_group                                                     \n",
       "commercial              2235                      117            1286\n",
       "other                    528                       56             359\n",
       "parastatal              1020                      211             537\n",
       "unknown                  224                       27             310\n",
       "user-group             28252                     3906           20332"
      ]
     },
     "execution_count": 171,
     "metadata": {},
     "output_type": "execute_result"
    }
   ],
   "source": [
    "# Stacked plot with status_group\n",
    "train.groupby(['management_group', 'status_group']) \\\n",
    "               .quantity \\\n",
    "               .count() \\\n",
    "               .unstack()"
   ]
  },
  {
   "cell_type": "code",
   "execution_count": 172,
   "metadata": {},
   "outputs": [],
   "source": [
    "# unknown higher proportion of non-functional"
   ]
  },
  {
   "cell_type": "code",
   "execution_count": 173,
   "metadata": {},
   "outputs": [
    {
     "data": {
      "text/plain": [
       "0"
      ]
     },
     "execution_count": 173,
     "metadata": {},
     "output_type": "execute_result"
    }
   ],
   "source": [
    "# missing Values\n",
    "all_data.management_group.isnull().sum()"
   ]
  },
  {
   "cell_type": "markdown",
   "metadata": {},
   "source": [
    "### scheme_name"
   ]
  },
  {
   "cell_type": "code",
   "execution_count": 174,
   "metadata": {},
   "outputs": [
    {
     "data": {
      "text/plain": [
       "count     31234\n",
       "unique     2696\n",
       "top           K\n",
       "freq        682\n",
       "Name: scheme_name, dtype: object"
      ]
     },
     "execution_count": 174,
     "metadata": {},
     "output_type": "execute_result"
    }
   ],
   "source": [
    "# overall info\n",
    "train.scheme_name.describe()"
   ]
  },
  {
   "cell_type": "code",
   "execution_count": 175,
   "metadata": {},
   "outputs": [
    {
     "data": {
      "text/plain": [
       "K                              682\n",
       "None                           644\n",
       "Borehole                       546\n",
       "Chalinze wate                  405\n",
       "M                              400\n",
       "DANIDA                         379\n",
       "Government                     320\n",
       "Ngana water supplied scheme    270\n",
       "wanging'ombe water supply s    261\n",
       "wanging'ombe supply scheme     234\n",
       "Name: scheme_name, dtype: int64"
      ]
     },
     "execution_count": 175,
     "metadata": {},
     "output_type": "execute_result"
    }
   ],
   "source": [
    "# value Count\n",
    "train.scheme_name.value_counts().nlargest(10)"
   ]
  },
  {
   "cell_type": "code",
   "execution_count": 176,
   "metadata": {},
   "outputs": [
    {
     "data": {
      "text/plain": [
       "1941"
      ]
     },
     "execution_count": 176,
     "metadata": {},
     "output_type": "execute_result"
    }
   ],
   "source": [
    "# subset for 3 char scheme_name -> probably wrong spellings for same levels \n",
    "# -> count abbreviate 5 letters levels\n",
    "train.scheme_name.str[:5].value_counts().count()"
   ]
  },
  {
   "cell_type": "code",
   "execution_count": 177,
   "metadata": {},
   "outputs": [
    {
     "data": {
      "text/plain": [
       "scheme_name\n",
       "Mradi    1095\n",
       "K         682\n",
       "None      644\n",
       "Boreh     550\n",
       "wangi     511\n",
       "Chali     406\n",
       "M         400\n",
       "DANID     379\n",
       "Gover     321\n",
       "Mkong     309\n",
       "Name: scheme_name, dtype: int64"
      ]
     },
     "execution_count": 177,
     "metadata": {},
     "output_type": "execute_result"
    }
   ],
   "source": [
    "# subset for 3 char scheme_name -> probably wrong spellings for same levels \n",
    "# -> show top 10 abbreviated 5 letters subvillages\n",
    "train.groupby(train.scheme_name.str[:5]).scheme_name.count().nlargest(10)"
   ]
  },
  {
   "cell_type": "code",
   "execution_count": 178,
   "metadata": {},
   "outputs": [
    {
     "data": {
      "text/plain": [
       "35257"
      ]
     },
     "execution_count": 178,
     "metadata": {},
     "output_type": "execute_result"
    }
   ],
   "source": [
    "# missing Values -> high proportion of NaNs\n",
    "all_data.scheme_name.isnull().sum()"
   ]
  },
  {
   "cell_type": "code",
   "execution_count": 179,
   "metadata": {},
   "outputs": [],
   "source": [
    "# dummy variable: 1=name, 0=no name or other imputate new level 'unknown'"
   ]
  },
  {
   "cell_type": "markdown",
   "metadata": {},
   "source": [
    "### scheme_management"
   ]
  },
  {
   "cell_type": "code",
   "execution_count": 180,
   "metadata": {},
   "outputs": [
    {
     "data": {
      "text/plain": [
       "count     55523\n",
       "unique       12\n",
       "top         VWC\n",
       "freq      36793\n",
       "Name: scheme_management, dtype: object"
      ]
     },
     "execution_count": 180,
     "metadata": {},
     "output_type": "execute_result"
    }
   ],
   "source": [
    "train.scheme_management.describe()"
   ]
  },
  {
   "cell_type": "code",
   "execution_count": 181,
   "metadata": {},
   "outputs": [
    {
     "data": {
      "image/png": "[encoded data removed]",
      "text/plain": [
       "<Figure size 864x288 with 1 Axes>"
      ]
     },
     "metadata": {},
     "output_type": "display_data"
    }
   ],
   "source": [
    "# plot \n",
    "g = sns.factorplot('scheme_management', data=train, aspect=3,\n",
    "                   kind=\"count\", palette='deep')\n",
    "\n",
    "g.set_xticklabels(step=1, rotation=70);"
   ]
  },
  {
   "cell_type": "code",
   "execution_count": 182,
   "metadata": {},
   "outputs": [
    {
     "data": {
      "image/png": "[encoded data removed]",
      "text/plain": [
       "<Figure size 864x576 with 1 Axes>"
      ]
     },
     "metadata": {},
     "output_type": "display_data"
    }
   ],
   "source": [
    "# Stacked plot with status_group -> unknown higher proportion of non-functional\n",
    "plot_df = train.groupby(['scheme_management', 'status_group']) \\\n",
    "               .quantity \\\n",
    "               .count() \\\n",
    "               .unstack()\n",
    "\n",
    "plot_df.plot(kind='bar', stacked=True, figsize=(12, 8), rot=40);"
   ]
  },
  {
   "cell_type": "code",
   "execution_count": 183,
   "metadata": {},
   "outputs": [
    {
     "data": {
      "text/html": [
       "<div>\n",
       "<style scoped>\n",
       "    .dataframe tbody tr th:only-of-type {\n",
       "        vertical-align: middle;\n",
       "    }\n",
       "\n",
       "    .dataframe tbody tr th {\n",
       "        vertical-align: top;\n",
       "    }\n",
       "\n",
       "    .dataframe thead th {\n",
       "        text-align: right;\n",
       "    }\n",
       "</style>\n",
       "<table border=\"1\" class=\"dataframe\">\n",
       "  <thead>\n",
       "    <tr style=\"text-align: right;\">\n",
       "      <th>status_group</th>\n",
       "      <th>functional</th>\n",
       "      <th>functional needs repair</th>\n",
       "      <th>non functional</th>\n",
       "    </tr>\n",
       "    <tr>\n",
       "      <th>scheme_management</th>\n",
       "      <th></th>\n",
       "      <th></th>\n",
       "      <th></th>\n",
       "    </tr>\n",
       "  </thead>\n",
       "  <tbody>\n",
       "    <tr>\n",
       "      <th>Company</th>\n",
       "      <td>534.0</td>\n",
       "      <td>37.0</td>\n",
       "      <td>490.0</td>\n",
       "    </tr>\n",
       "    <tr>\n",
       "      <th>None</th>\n",
       "      <td>1.0</td>\n",
       "      <td>NaN</td>\n",
       "      <td>NaN</td>\n",
       "    </tr>\n",
       "    <tr>\n",
       "      <th>Other</th>\n",
       "      <td>458.0</td>\n",
       "      <td>22.0</td>\n",
       "      <td>286.0</td>\n",
       "    </tr>\n",
       "    <tr>\n",
       "      <th>Parastatal</th>\n",
       "      <td>966.0</td>\n",
       "      <td>202.0</td>\n",
       "      <td>512.0</td>\n",
       "    </tr>\n",
       "    <tr>\n",
       "      <th>Private operator</th>\n",
       "      <td>729.0</td>\n",
       "      <td>23.0</td>\n",
       "      <td>311.0</td>\n",
       "    </tr>\n",
       "    <tr>\n",
       "      <th>SWC</th>\n",
       "      <td>20.0</td>\n",
       "      <td>1.0</td>\n",
       "      <td>76.0</td>\n",
       "    </tr>\n",
       "    <tr>\n",
       "      <th>Trust</th>\n",
       "      <td>46.0</td>\n",
       "      <td>5.0</td>\n",
       "      <td>21.0</td>\n",
       "    </tr>\n",
       "    <tr>\n",
       "      <th>VWC</th>\n",
       "      <td>18960.0</td>\n",
       "      <td>2334.0</td>\n",
       "      <td>15499.0</td>\n",
       "    </tr>\n",
       "    <tr>\n",
       "      <th>WUA</th>\n",
       "      <td>1995.0</td>\n",
       "      <td>239.0</td>\n",
       "      <td>649.0</td>\n",
       "    </tr>\n",
       "    <tr>\n",
       "      <th>WUG</th>\n",
       "      <td>3006.0</td>\n",
       "      <td>672.0</td>\n",
       "      <td>1528.0</td>\n",
       "    </tr>\n",
       "    <tr>\n",
       "      <th>Water Board</th>\n",
       "      <td>2053.0</td>\n",
       "      <td>111.0</td>\n",
       "      <td>584.0</td>\n",
       "    </tr>\n",
       "    <tr>\n",
       "      <th>Water authority</th>\n",
       "      <td>1618.0</td>\n",
       "      <td>448.0</td>\n",
       "      <td>1087.0</td>\n",
       "    </tr>\n",
       "  </tbody>\n",
       "</table>\n",
       "</div>"
      ],
      "text/plain": [
       "status_group       functional  functional needs repair  non functional\n",
       "scheme_management                                                     \n",
       "Company                 534.0                     37.0           490.0\n",
       "None                      1.0                      NaN             NaN\n",
       "Other                   458.0                     22.0           286.0\n",
       "Parastatal              966.0                    202.0           512.0\n",
       "Private operator        729.0                     23.0           311.0\n",
       "SWC                      20.0                      1.0            76.0\n",
       "Trust                    46.0                      5.0            21.0\n",
       "VWC                   18960.0                   2334.0         15499.0\n",
       "WUA                    1995.0                    239.0           649.0\n",
       "WUG                    3006.0                    672.0          1528.0\n",
       "Water Board            2053.0                    111.0           584.0\n",
       "Water authority        1618.0                    448.0          1087.0"
      ]
     },
     "execution_count": 183,
     "metadata": {},
     "output_type": "execute_result"
    }
   ],
   "source": [
    "train.groupby(['scheme_management', 'status_group']) \\\n",
    "               .quantity \\\n",
    "               .count() \\\n",
    "               .unstack()"
   ]
  },
  {
   "cell_type": "code",
   "execution_count": 184,
   "metadata": {},
   "outputs": [],
   "source": [
    "# -> more granular than management_group (drop variable)"
   ]
  },
  {
   "cell_type": "markdown",
   "metadata": {},
   "source": [
    "### recorded_by"
   ]
  },
  {
   "cell_type": "code",
   "execution_count": 185,
   "metadata": {},
   "outputs": [
    {
     "data": {
      "text/plain": [
       "count                       59400\n",
       "unique                          1\n",
       "top       GeoData Consultants Ltd\n",
       "freq                        59400\n",
       "Name: recorded_by, dtype: object"
      ]
     },
     "execution_count": 185,
     "metadata": {},
     "output_type": "execute_result"
    }
   ],
   "source": [
    "train.recorded_by.describe()"
   ]
  },
  {
   "cell_type": "code",
   "execution_count": 186,
   "metadata": {},
   "outputs": [],
   "source": [
    "# one level -> drop variable"
   ]
  }
 ],
 "metadata": {
  "kernelspec": {
   "display_name": "Python 3",
   "language": "python",
   "name": "python3"
  },
  "language_info": {
   "codemirror_mode": {
    "name": "ipython",
    "version": 3
   },
   "file_extension": ".py",
   "mimetype": "text/x-python",
   "name": "python",
   "nbconvert_exporter": "python",
   "pygments_lexer": "ipython3",
   "version": "3.6.4"
  }
 },
 "nbformat": 4,
 "nbformat_minor": 2
}
